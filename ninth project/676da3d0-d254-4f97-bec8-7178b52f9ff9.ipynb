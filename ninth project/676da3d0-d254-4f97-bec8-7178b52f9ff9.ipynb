{
 "cells": [
  {
   "cell_type": "markdown",
   "metadata": {},
   "source": [
    "# Introduction"
   ]
  },
  {
   "cell_type": "markdown",
   "metadata": {},
   "source": [
    "I work for the OilyGiant mining company. MY task is to find the best place for a new well.\n",
    "\n",
    "Here are the steps I will take to choose the location:\n",
    "\n",
    "Collect the oil well parameters in the selected region: oil quality and volume of reserves;\n",
    "Build a model for predicting the volume of reserves in the new wells;\n",
    "Pick the oil wells with the highest estimated values;\n",
    "Pick the region with the highest total profit for the selected oil wells.\n",
    "I have data on oil samples from three regions. Parameters of each oil well in the region are already known. I wil build a model that will help to pick the region with the highest profit margin. Analyze potential profit and risks using the Bootstrapping technique.\n",
    "\n"
   ]
  },
  {
   "cell_type": "markdown",
   "metadata": {},
   "source": [
    "# Downloading and preparing the data"
   ]
  },
  {
   "cell_type": "code",
   "execution_count": 1,
   "metadata": {},
   "outputs": [],
   "source": [
    "import pandas as pd\n",
    "import numpy as np\n",
    "from sklearn.model_selection import train_test_split\n",
    "from sklearn.linear_model import LinearRegression\n",
    "from sklearn.metrics import mean_squared_error\n",
    "from scipy.stats import bootstrap"
   ]
  },
  {
   "cell_type": "code",
   "execution_count": 2,
   "metadata": {},
   "outputs": [
    {
     "name": "stdout",
     "output_type": "stream",
     "text": [
      "      id        f0        f1        f2     product\n",
      "0  txEyH  0.705745 -0.497823  1.221170  105.280062\n",
      "1  2acmU  1.334711 -0.340164  4.365080   73.037750\n",
      "2  409Wp  1.022732  0.151990  1.419926   85.265647\n",
      "3  iJLyR -0.032172  0.139033  2.978566  168.620776\n",
      "4  Xdl7t  1.988431  0.155413  4.751769  154.036647\n",
      "      id         f0         f1        f2     product\n",
      "0  kBEdx -15.001348  -8.276000 -0.005876    3.179103\n",
      "1  62mP7  14.272088  -3.475083  0.999183   26.953261\n",
      "2  vyE1P   6.263187  -5.948386  5.001160  134.766305\n",
      "3  KcrkZ -13.081196 -11.506057  4.999415  137.945408\n",
      "4  AHL4O  12.702195  -8.147433  5.004363  134.766305\n",
      "      id        f0        f1        f2     product\n",
      "0  fwXo0 -1.146987  0.963328 -0.828965   27.758673\n",
      "1  WJtFt  0.262778  0.269839 -2.530187   56.069697\n",
      "2  ovLUW  0.194587  0.289035 -5.586433   62.871910\n",
      "3  q6cA6  2.236060 -0.553760  0.930038  114.572842\n",
      "4  WPMUX -0.515993  1.716266  5.899011  149.600746\n"
     ]
    }
   ],
   "source": [
    "# Load data\n",
    "df_0 = pd.read_csv('/datasets/geo_data_0.csv')\n",
    "df_1 = pd.read_csv('/datasets/geo_data_1.csv')\n",
    "df_2 = pd.read_csv('/datasets/geo_data_2.csv')\n",
    "\n",
    "# Print first few rows of each dataset to verify\n",
    "print(df_0.head())\n",
    "print(df_1.head())\n",
    "print(df_2.head())\n"
   ]
  },
  {
   "cell_type": "code",
   "execution_count": 3,
   "metadata": {},
   "outputs": [
    {
     "name": "stdout",
     "output_type": "stream",
     "text": [
      "Missing values in df_0:\n",
      "id         0\n",
      "f0         0\n",
      "f1         0\n",
      "f2         0\n",
      "product    0\n",
      "dtype: int64\n",
      "\n",
      "Missing values in df_1:\n",
      "id         0\n",
      "f0         0\n",
      "f1         0\n",
      "f2         0\n",
      "product    0\n",
      "dtype: int64\n",
      "\n",
      "Missing values in df_2:\n",
      "id         0\n",
      "f0         0\n",
      "f1         0\n",
      "f2         0\n",
      "product    0\n",
      "dtype: int64\n",
      "\n",
      "Duplicates in df_0: 0\n",
      "Duplicates in df_1: 0\n",
      "Duplicates in df_2: 0\n",
      "\n",
      "Data types in df_0:\n",
      "id          object\n",
      "f0         float64\n",
      "f1         float64\n",
      "f2         float64\n",
      "product    float64\n",
      "dtype: object\n",
      "\n",
      "Data types in df_1:\n",
      "id          object\n",
      "f0         float64\n",
      "f1         float64\n",
      "f2         float64\n",
      "product    float64\n",
      "dtype: object\n",
      "\n",
      "Data types in df_2:\n",
      "id          object\n",
      "f0         float64\n",
      "f1         float64\n",
      "f2         float64\n",
      "product    float64\n",
      "dtype: object\n"
     ]
    }
   ],
   "source": [
    "# Checking for missing values\n",
    "print(\"Missing values in df_0:\")\n",
    "print(df_0.isnull().sum())\n",
    "\n",
    "print(\"\\nMissing values in df_1:\")\n",
    "print(df_1.isnull().sum())\n",
    "\n",
    "print(\"\\nMissing values in df_2:\")\n",
    "print(df_2.isnull().sum())\n",
    "\n",
    "# Checking for duplicates\n",
    "print(\"\\nDuplicates in df_0:\", df_0.duplicated().sum())\n",
    "print(\"Duplicates in df_1:\", df_1.duplicated().sum())\n",
    "print(\"Duplicates in df_2:\", df_2.duplicated().sum())\n",
    "\n",
    "# Checking data types\n",
    "print(\"\\nData types in df_0:\")\n",
    "print(df_0.dtypes)\n",
    "\n",
    "print(\"\\nData types in df_1:\")\n",
    "print(df_1.dtypes)\n",
    "\n",
    "print(\"\\nData types in df_2:\")\n",
    "print(df_2.dtypes)\n"
   ]
  },
  {
   "cell_type": "markdown",
   "metadata": {},
   "source": [
    "\n",
    "The data looks clean based on the checks we performed:\n",
    "\n",
    "No Missing Values: All datasets have zero missing values.\n",
    "No Duplicates: There are no duplicate rows in any of the datasets.\n",
    "Appropriate Data Types: The feature columns (f0, f1, f2) and target column (product) are of type float64, which is appropriate for our linear regression model.\n",
    "Given this, no further preprocessing is needed. We can proceed with training and evaluating the model for each region."
   ]
  },
  {
   "cell_type": "markdown",
   "metadata": {},
   "source": [
    "# Train and test the model for each region"
   ]
  },
  {
   "cell_type": "code",
   "execution_count": 4,
   "metadata": {},
   "outputs": [
    {
     "name": "stdout",
     "output_type": "stream",
     "text": [
      "Region 0 - Training set size: (75000, 3), Validation set size: (25000, 3)\n",
      "Region 1 - Training set size: (75000, 3), Validation set size: (25000, 3)\n",
      "Region 2 - Training set size: (75000, 3), Validation set size: (25000, 3)\n"
     ]
    }
   ],
   "source": [
    "# Splitting the data for each region\n",
    "def split_data(df):\n",
    "    X = df.drop(columns=['id', 'product'])\n",
    "    y = df['product']\n",
    "    X_train, X_valid, y_train, y_valid = train_test_split(X, y, test_size=0.25, random_state=42)\n",
    "    return X_train, X_valid, y_train, y_valid\n",
    "\n",
    "X_train_0, X_valid_0, y_train_0, y_valid_0 = split_data(df_0)\n",
    "X_train_1, X_valid_1, y_train_1, y_valid_1 = split_data(df_1)\n",
    "X_train_2, X_valid_2, y_train_2, y_valid_2 = split_data(df_2)\n",
    "\n",
    "print(f\"Region 0 - Training set size: {X_train_0.shape}, Validation set size: {X_valid_0.shape}\")\n",
    "print(f\"Region 1 - Training set size: {X_train_1.shape}, Validation set size: {X_valid_1.shape}\")\n",
    "print(f\"Region 2 - Training set size: {X_train_2.shape}, Validation set size: {X_valid_2.shape}\")"
   ]
  },
  {
   "cell_type": "code",
   "execution_count": 5,
   "metadata": {},
   "outputs": [
    {
     "name": "stdout",
     "output_type": "stream",
     "text": [
      "Region 0 - Predictions: [101.90101715  78.21777385 115.26690103 105.61861791  97.9801849 ]\n",
      "Region 1 - Predictions: [ 8.44738063e-01  5.29216119e+01  1.35110385e+02  1.09494863e+02\n",
      " -4.72915824e-02]\n",
      "Region 2 - Predictions: [ 98.30191642 101.59246124  52.4490989  109.92212707  72.41184733]\n"
     ]
    }
   ],
   "source": [
    "# Function to train the model and make predictions\n",
    "def train_and_predict(X_train, y_train, X_valid):\n",
    "    # Initialize and train the model\n",
    "    model = LinearRegression()\n",
    "    model.fit(X_train, y_train)\n",
    "    \n",
    "    # Make predictions\n",
    "    predictions = model.predict(X_valid)\n",
    "    \n",
    "    return predictions\n",
    "\n",
    "# Train and predict for each region\n",
    "predictions_0 = train_and_predict(X_train_0, y_train_0, X_valid_0)\n",
    "predictions_1 = train_and_predict(X_train_1, y_train_1, X_valid_1)\n",
    "predictions_2 = train_and_predict(X_train_2, y_train_2, X_valid_2)\n",
    "\n",
    "# Print the first few predictions for each region\n",
    "print(\"Region 0 - Predictions:\", predictions_0[:5])\n",
    "print(\"Region 1 - Predictions:\", predictions_1[:5])\n",
    "print(\"Region 2 - Predictions:\", predictions_2[:5])"
   ]
  },
  {
   "cell_type": "code",
   "execution_count": 6,
   "metadata": {},
   "outputs": [],
   "source": [
    "# Create DataFrame for Region 0\n",
    "df_predictions_0 = pd.DataFrame({'Actual': y_valid_0, 'Predicted': predictions_0})\n",
    "# Save to CSV file\n",
    "df_predictions_0.to_csv('predictions_region_0.csv', index=False)\n",
    "\n",
    "# Create DataFrame for Region 1\n",
    "df_predictions_1 = pd.DataFrame({'Actual': y_valid_1, 'Predicted': predictions_1})\n",
    "# Save to CSV file\n",
    "df_predictions_1.to_csv('predictions_region_1.csv', index=False)\n",
    "\n",
    "# Create DataFrame for Region 2\n",
    "df_predictions_2 = pd.DataFrame({'Actual': y_valid_2, 'Predicted': predictions_2})\n",
    "# Save to CSV file\n",
    "df_predictions_2.to_csv('predictions_region_2.csv', index=False)"
   ]
  },
  {
   "cell_type": "code",
   "execution_count": 7,
   "metadata": {},
   "outputs": [
    {
     "name": "stdout",
     "output_type": "stream",
     "text": [
      "Region 0:\n",
      "Average Volume of Predicted Reserves: 92.3987999065777\n",
      "Model RMSE: 37.756600350261685\n",
      "\n",
      "Region 1:\n",
      "Average Volume of Predicted Reserves: 68.71287803913762\n",
      "Model RMSE: 0.890280100102884\n",
      "\n",
      "Region 2:\n",
      "Average Volume of Predicted Reserves: 94.77102387765939\n",
      "Model RMSE: 40.14587231134218\n",
      "\n"
     ]
    }
   ],
   "source": [
    "# Function to calculate RMSE\n",
    "def calculate_rmse(y_true, y_pred):\n",
    "    return np.sqrt(mean_squared_error(y_true, y_pred))\n",
    "\n",
    "# Calculate average volume of predicted reserves and RMSE for each region\n",
    "avg_predicted_volume_0 = np.mean(predictions_0)\n",
    "rmse_0 = calculate_rmse(y_valid_0, predictions_0)\n",
    "\n",
    "avg_predicted_volume_1 = np.mean(predictions_1)\n",
    "rmse_1 = calculate_rmse(y_valid_1, predictions_1)\n",
    "\n",
    "avg_predicted_volume_2 = np.mean(predictions_2)\n",
    "rmse_2 = calculate_rmse(y_valid_2, predictions_2)\n",
    "\n",
    "# Print results for each region\n",
    "print(\"Region 0:\")\n",
    "print(f\"Average Volume of Predicted Reserves: {avg_predicted_volume_0}\")\n",
    "print(f\"Model RMSE: {rmse_0}\\n\")\n",
    "\n",
    "print(\"Region 1:\")\n",
    "print(f\"Average Volume of Predicted Reserves: {avg_predicted_volume_1}\")\n",
    "print(f\"Model RMSE: {rmse_1}\\n\")\n",
    "\n",
    "print(\"Region 2:\")\n",
    "print(f\"Average Volume of Predicted Reserves: {avg_predicted_volume_2}\")\n",
    "print(f\"Model RMSE: {rmse_2}\\n\")"
   ]
  },
  {
   "cell_type": "markdown",
   "metadata": {},
   "source": [
    "Average Volume of Predicted Reserves:\n",
    "\n",
    "Region 0 and Region 2 have higher average volumes of predicted reserves compared to Region 1. This indicates that the model predicts higher reserves for these regions on average.\n",
    "Model RMSE:\n",
    "\n",
    "Region 1 has the lowest RMSE (0.89), indicating that the model's predictions are closer to the actual values on average for Region 1 compared to the other regions.\n",
    "Region 0 and Region 2 have higher RMSE values (37.76 and 40.15, respectively), suggesting that the model's predictions have higher variability and are farther from the actual values on average for these regions.\n",
    "\n",
    "While Region 1 has the lowest RMSE, indicating better prediction accuracy, it also has the lowest average volume of predicted reserves.\n",
    "Regions 0 and 2 have higher average volumes of predicted reserves, but their models have higher RMSE values, indicating less accurate predictions on average."
   ]
  },
  {
   "cell_type": "markdown",
   "metadata": {},
   "source": [
    "# Prepare for profit calculation"
   ]
  },
  {
   "cell_type": "code",
   "execution_count": 8,
   "metadata": {},
   "outputs": [
    {
     "name": "stdout",
     "output_type": "stream",
     "text": [
      "Total Volume of Reserves Sufficient for Profit: 22222.222222222223\n",
      "Required Average Volume per Well for Profit: 111.11111111111111\n",
      "Comparison with Average Volume of Reserves:\n",
      "Region 0: Not Profitable\n",
      "Region 1: Not Profitable\n",
      "Region 2: Not Profitable\n"
     ]
    }
   ],
   "source": [
    "# Given data\n",
    "avg_predicted_volume_0 = 92.40\n",
    "rmse_0 = 37.76\n",
    "\n",
    "avg_predicted_volume_1 = 68.71\n",
    "rmse_1 = 0.89\n",
    "\n",
    "avg_predicted_volume_2 = 94.77\n",
    "rmse_2 = 40.15\n",
    "\n",
    "# Constants\n",
    "BUDGET = 100e6  # $100 million\n",
    "REVENUE_PER_UNIT = 4.5e3  # $4500 per thousand barrels\n",
    "NUMBER_OF_WELLS = 200  # Number of wells to be drilled\n",
    "\n",
    "# Calculate the total volume of reserves sufficient for profit\n",
    "total_volume_for_profit = BUDGET / REVENUE_PER_UNIT\n",
    "\n",
    "# Calculate the required average volume per well for 200 wells\n",
    "required_avg_volume_per_well = total_volume_for_profit / NUMBER_OF_WELLS\n",
    "\n",
    "# Comparison with average volume of reserves in each region\n",
    "profitable_region_0 = avg_predicted_volume_0 >= required_avg_volume_per_well\n",
    "profitable_region_1 = avg_predicted_volume_1 >= required_avg_volume_per_well\n",
    "profitable_region_2 = avg_predicted_volume_2 >= required_avg_volume_per_well\n",
    "\n",
    "# Print results\n",
    "print(\"Total Volume of Reserves Sufficient for Profit:\", total_volume_for_profit)\n",
    "print(\"Required Average Volume per Well for Profit:\", required_avg_volume_per_well)\n",
    "print(\"Comparison with Average Volume of Reserves:\")\n",
    "print(\"Region 0:\", \"Profitable\" if profitable_region_0 else \"Not Profitable\")\n",
    "print(\"Region 1:\", \"Profitable\" if profitable_region_1 else \"Not Profitable\")\n",
    "print(\"Region 2:\", \"Profitable\" if profitable_region_2 else \"Not Profitable\")\n",
    "\n"
   ]
  },
  {
   "cell_type": "markdown",
   "metadata": {},
   "source": [
    "The total volume of reserves required for profit (22,222.22 thousand barrels) is divided by 200 wells, resulting in a required average volume per well of approximately 111.11 thousand barrels.\n",
    "Comparing this required average volume with the average predicted volume for each region:\n",
    "Region 0 has an average predicted volume of 92.40, which is less than 111.11, thus not profitable.\n",
    "Region 1 has an average predicted volume of 68.71, which is also less than 111.11, thus not profitable.\n",
    "Region 2 has an average predicted volume of 94.77, which is less than 111.11, thus not profitable.\n",
    "Hence, under the given budget and revenue assumptions, none of the regions are predicted to be profitable when considering the average volume of reserves per well required for profitability. "
   ]
  },
  {
   "cell_type": "markdown",
   "metadata": {},
   "source": [
    "# Function to calculate profit from a set of selected oil wells and model predictions"
   ]
  },
  {
   "cell_type": "code",
   "execution_count": 9,
   "metadata": {},
   "outputs": [
    {
     "name": "stdout",
     "output_type": "stream",
     "text": [
      "Profit for Region 0: 33591411.14462179\n",
      "Selected Wells for Region 0 (sorted by predictions):\n",
      "           Actual   Predicted\n",
      "6958   153.639837  176.536104\n",
      "18194  140.631646  176.274510\n",
      "17251  178.879516  173.249504\n",
      "457    176.807828  172.802708\n",
      "2202   130.985681  172.744977\n",
      "Profit for Region 1: 24150866.966815114\n",
      "Selected Wells for Region 1 (sorted by predictions):\n",
      "           Actual   Predicted\n",
      "20776  137.945408  139.983277\n",
      "2323   137.945408  139.700803\n",
      "13895  137.945408  139.616544\n",
      "6950   137.945408  139.514768\n",
      "9151   137.945408  139.472212\n",
      "Profit for Region 2: 25985717.59374112\n",
      "Selected Wells for Region 2 (sorted by predictions):\n",
      "           Actual   Predicted\n",
      "21852  101.225039  170.529209\n",
      "10722  151.655778  169.673332\n",
      "6209    92.947333  165.300724\n",
      "8203    97.775979  164.613896\n",
      "8042   122.460897  163.964000\n",
      "\n",
      "Summary:\n",
      "Region 0: Predicted profit = $33591411.14\n",
      "Region 1: Predicted profit = $24150866.97\n",
      "Region 2: Predicted profit = $25985717.59\n",
      "\n",
      "Suggested region for oil wells development: Region 0\n"
     ]
    }
   ],
   "source": [
    "# Constants\n",
    "BUDGET = 100e6  # $100 million\n",
    "REVENUE_PER_UNIT = 4.5e3  # $4500 per thousand barrels\n",
    "NUMBER_OF_WELLS = 200\n",
    "\n",
    "def calculate_profit(df, budget=BUDGET, revenue_per_unit=REVENUE_PER_UNIT, num_wells=NUMBER_OF_WELLS):\n",
    "    # Sort wells by predicted values\n",
    "    df_sorted = df.sort_values(by='Predicted', ascending=False).head(num_wells)\n",
    "    \n",
    "    # Calculate the total volume of selected wells using actual target values\n",
    "    total_volume = df_sorted['Actual'].sum()\n",
    "    \n",
    "    # Calculate profit based on total volume and revenue per unit\n",
    "    profit = total_volume * revenue_per_unit - budget\n",
    "    \n",
    "    return profit, df_sorted\n",
    "\n",
    "# Load DataFrames from earlier created CSV files\n",
    "df_predictions_0 = pd.read_csv('predictions_region_0.csv')\n",
    "df_predictions_1 = pd.read_csv('predictions_region_1.csv')\n",
    "df_predictions_2 = pd.read_csv('predictions_region_2.csv')\n",
    "\n",
    "# Calculate profit for Region 0\n",
    "profit_0, selected_wells_sorted_0 = calculate_profit(df_predictions_0)\n",
    "\n",
    "print(\"Profit for Region 0:\", profit_0)\n",
    "print(\"Selected Wells for Region 0 (sorted by predictions):\")\n",
    "print(selected_wells_sorted_0.head())\n",
    "\n",
    "# Calculate profit for Region 1\n",
    "profit_1, selected_wells_sorted_1 = calculate_profit(df_predictions_1)\n",
    "\n",
    "print(\"Profit for Region 1:\", profit_1)\n",
    "print(\"Selected Wells for Region 1 (sorted by predictions):\")\n",
    "print(selected_wells_sorted_1.head())\n",
    "\n",
    "# Calculate profit for Region 2\n",
    "profit_2, selected_wells_sorted_2 = calculate_profit(df_predictions_2)\n",
    "\n",
    "print(\"Profit for Region 2:\", profit_2)\n",
    "print(\"Selected Wells for Region 2 (sorted by predictions):\")\n",
    "print(selected_wells_sorted_2.head())\n",
    "\n",
    "# Summary\n",
    "print(\"\\nSummary:\")\n",
    "print(f\"Region 0: Predicted profit = ${profit_0:.2f}\")\n",
    "print(f\"Region 1: Predicted profit = ${profit_1:.2f}\")\n",
    "print(f\"Region 2: Predicted profit = ${profit_2:.2f}\")\n",
    "\n",
    "# Suggesting the region for development\n",
    "if profit_2 > profit_0 and profit_2 > profit_1:\n",
    "    best_region = \"Region 2\"\n",
    "elif profit_0 > profit_1:\n",
    "    best_region = \"Region 0\"\n",
    "else:\n",
    "    best_region = \"Region 1\"\n",
    "\n",
    "print(f\"\\nSuggested region for oil wells development: {best_region}\")\n",
    "\n",
    "\n",
    "\n",
    "\n"
   ]
  },
  {
   "cell_type": "markdown",
   "metadata": {},
   "source": [
    "# Findings"
   ]
  },
  {
   "cell_type": "markdown",
   "metadata": {},
   "source": [
    "Summary and Recommendation\n",
    "\n",
    "Based on the calculated profits, Region 0 shows the highest predicted profit of approximately $33.6 million.\n",
    "\n",
    "Despite Region 2 having the highest profit previously, the re-evaluation based on the actual values for the selected top wells shows that Region 0 is more profitable when considering the actual performance of the top wells.\n",
    "\n",
    "Suggested Region for Oil Well Development:\n",
    "Region 0\n",
    "\n",
    "Justification:\n",
    "\n",
    "Higher Predicted Profit: Region 0 has the highest predicted profit compared to Regions 1 and 2.\n",
    "Top Wells Performance: The actual values for the top wells in Region 0 show promising results, indicating that the development would likely yield better returns.\n",
    "By focusing on Region 0 for oil well development, the company can potentially maximize its profit based on the current predictions and actual values of the wells."
   ]
  },
  {
   "cell_type": "markdown",
   "metadata": {},
   "source": [
    "# Calculate risks and profit for each region"
   ]
  },
  {
   "cell_type": "code",
   "execution_count": 10,
   "metadata": {},
   "outputs": [
    {
     "name": "stdout",
     "output_type": "stream",
     "text": [
      "Region 0:\n",
      "Mean Profit: 6126658.1809852375\n",
      "95% Confidence Interval: [  302321.25937421 12278556.33889298]\n",
      "Risk of Losses: 1.7999999999999998 %\n",
      "\n",
      "Region 1:\n",
      "Mean Profit: 6599896.507079086\n",
      "95% Confidence Interval: [ 1844591.75312602 11883535.97378075]\n",
      "Risk of Losses: 0.2 %\n",
      "\n",
      "Region 2:\n",
      "Mean Profit: 5946865.409794628\n",
      "95% Confidence Interval: [ -359938.85228911 12192224.67371715]\n",
      "Risk of Losses: 3.1 %\n"
     ]
    }
   ],
   "source": [
    "BUDGET = 100e6  # $100 million\n",
    "REVENUE_PER_UNIT = 4.5e3  # $4500 per thousand barrels\n",
    "\n",
    "def calculate_profit(targets, predictions):\n",
    "    # Select the top 200 wells based on predictions\n",
    "    selected_indices = predictions.nlargest(200).index\n",
    "    selected_targets = targets[selected_indices]\n",
    "    total_volume = selected_targets.sum()\n",
    "    \n",
    "    # Calculate profit\n",
    "    profit = total_volume * REVENUE_PER_UNIT - BUDGET\n",
    "    return profit\n",
    "\n",
    "def bootstrap_profit(df, n_samples=1000):\n",
    "    profits = []\n",
    "    for _ in range(n_samples):\n",
    "        # Sample 500 wells with replacement\n",
    "        sample = df.sample(n=500, replace=True)\n",
    "        targets = sample['Actual']\n",
    "        predictions = sample['Predicted']\n",
    "        \n",
    "        # Calculate profit for the sampled wells\n",
    "        profit = calculate_profit(targets, predictions)\n",
    "        profits.append(profit)\n",
    "    \n",
    "    return np.array(profits)\n",
    "\n",
    "# Perform bootstrapping for each region\n",
    "bootstrap_profits_0 = bootstrap_profit(df_predictions_0)\n",
    "bootstrap_profits_1 = bootstrap_profit(df_predictions_1)\n",
    "bootstrap_profits_2 = bootstrap_profit(df_predictions_2)\n",
    "\n",
    "# Calculate the mean profit for each region\n",
    "mean_profit_0 = np.mean(bootstrap_profits_0)\n",
    "mean_profit_1 = np.mean(bootstrap_profits_1)\n",
    "mean_profit_2 = np.mean(bootstrap_profits_2)\n",
    "\n",
    "# Calculate 95% confidence intervals for each region\n",
    "confidence_interval_0 = np.percentile(bootstrap_profits_0, [2.5, 97.5])\n",
    "confidence_interval_1 = np.percentile(bootstrap_profits_1, [2.5, 97.5])\n",
    "confidence_interval_2 = np.percentile(bootstrap_profits_2, [2.5, 97.5])\n",
    "\n",
    "# Calculate the risk of losses for each region (probability of negative profit)\n",
    "risk_of_losses_0 = np.mean(bootstrap_profits_0 < 0) * 100\n",
    "risk_of_losses_1 = np.mean(bootstrap_profits_1 < 0) * 100\n",
    "risk_of_losses_2 = np.mean(bootstrap_profits_2 < 0) * 100\n",
    "\n",
    "# Print the results\n",
    "print(\"Region 0:\")\n",
    "print(\"Mean Profit:\", mean_profit_0)\n",
    "print(\"95% Confidence Interval:\", confidence_interval_0)\n",
    "print(\"Risk of Losses:\", risk_of_losses_0, \"%\\n\")\n",
    "\n",
    "print(\"Region 1:\")\n",
    "print(\"Mean Profit:\", mean_profit_1)\n",
    "print(\"95% Confidence Interval:\", confidence_interval_1)\n",
    "print(\"Risk of Losses:\", risk_of_losses_1, \"%\\n\")\n",
    "\n",
    "print(\"Region 2:\")\n",
    "print(\"Mean Profit:\", mean_profit_2)\n",
    "print(\"95% Confidence Interval:\", confidence_interval_2)\n",
    "print(\"Risk of Losses:\", risk_of_losses_2, \"%\")\n",
    "\n"
   ]
  },
  {
   "cell_type": "markdown",
   "metadata": {},
   "source": [
    "# Conclusion "
   ]
  },
  {
   "cell_type": "markdown",
   "metadata": {},
   "source": [
    "Findings:\n",
    "Region 0:\n",
    "\n",
    "Mean Profit: $6,126,658.18\n",
    "95% Confidence Interval: \n",
    "[$302,321.26, $12,278,556.34]\n",
    "Risk of Losses: 1.8%\n",
    "Region 1:\n",
    "\n",
    "Mean Profit: $6,599,896.51\n",
    "95% Confidence Interval: \n",
    "[$1,844,591.75, $11,883,535.97]\n",
    "Risk of Losses: 0.2%\n",
    "Region 2:\n",
    "\n",
    "Mean Profit: $5,946,865.41\n",
    "95% Confidence Interval: \n",
    "[-$359,938.85, $12,192,224.67]\n",
    "Risk of Losses: 3.1%\n",
    "Suggested Region for Oil Well Development: Region 1\n",
    "Justification:\n",
    "\n",
    "Highest Mean Profit: Region 1 has the highest mean profit among the three regions, indicating it is expected to generate the most revenue.\n",
    "\n",
    "Lowest Risk of Losses: Region 1 has the lowest risk of losses at 0.2%, making it the most stable and reliable choice in terms of financial risk.\n",
    "\n",
    "Confidence Interval: Although the 95% confidence interval for Region 1 is relatively wide, its lower bound is significantly higher than that of Region 0, and it does not include negative values as seen in Region 2. This indicates a better worst-case scenario and more consistent profitability.\n",
    "\n",
    "Conclusion:\n",
    "Region 1 is the most favorable choice for oil well development based on the analysis. It offers the highest expected profit and the lowest risk of incurring losses, making it the best option for maximizing profitability and minimizing financial risk."
   ]
  }
 ],
 "metadata": {
  "ExecuteTimeLog": [
   {
    "duration": 1206,
    "start_time": "2024-05-28T17:28:09.605Z"
   },
   {
    "duration": 1145,
    "start_time": "2024-05-28T17:32:18.662Z"
   },
   {
    "duration": 123,
    "start_time": "2024-05-28T17:32:57.527Z"
   },
   {
    "duration": 142,
    "start_time": "2024-05-28T17:33:18.660Z"
   },
   {
    "duration": 123,
    "start_time": "2024-05-28T17:33:54.814Z"
   },
   {
    "duration": 154,
    "start_time": "2024-05-28T17:37:40.254Z"
   },
   {
    "duration": 125,
    "start_time": "2024-05-28T17:38:04.081Z"
   },
   {
    "duration": 121,
    "start_time": "2024-05-28T17:38:12.037Z"
   },
   {
    "duration": 519,
    "start_time": "2024-05-28T17:46:40.057Z"
   },
   {
    "duration": 179,
    "start_time": "2024-05-28T17:50:17.031Z"
   },
   {
    "duration": 57,
    "start_time": "2024-05-28T17:55:33.708Z"
   },
   {
    "duration": 83,
    "start_time": "2024-05-28T17:56:55.150Z"
   },
   {
    "duration": 425,
    "start_time": "2024-05-28T17:58:30.889Z"
   },
   {
    "duration": 11,
    "start_time": "2024-05-28T17:59:51.158Z"
   },
   {
    "duration": 5,
    "start_time": "2024-05-28T18:08:16.031Z"
   },
   {
    "duration": 6,
    "start_time": "2024-05-28T18:09:30.864Z"
   },
   {
    "duration": 72,
    "start_time": "2024-05-28T18:17:41.240Z"
   },
   {
    "duration": 71,
    "start_time": "2024-05-28T18:18:18.491Z"
   },
   {
    "duration": 9,
    "start_time": "2024-05-28T18:28:08.831Z"
   },
   {
    "duration": 34,
    "start_time": "2024-05-28T18:33:47.054Z"
   },
   {
    "duration": 33,
    "start_time": "2024-05-28T18:34:13.895Z"
   },
   {
    "duration": 51,
    "start_time": "2024-05-28T18:36:44.582Z"
   },
   {
    "duration": 52,
    "start_time": "2024-05-28T18:38:08.921Z"
   },
   {
    "duration": 53,
    "start_time": "2024-05-28T18:38:39.155Z"
   },
   {
    "duration": 92,
    "start_time": "2024-05-28T18:51:22.097Z"
   },
   {
    "duration": 36,
    "start_time": "2024-05-28T18:54:43.913Z"
   },
   {
    "duration": 37,
    "start_time": "2024-05-28T18:56:06.694Z"
   },
   {
    "duration": 11,
    "start_time": "2024-05-28T19:00:36.220Z"
   },
   {
    "duration": 18,
    "start_time": "2024-05-29T15:16:43.482Z"
   },
   {
    "duration": 5,
    "start_time": "2024-05-29T15:24:04.766Z"
   },
   {
    "duration": 6,
    "start_time": "2024-05-29T15:24:10.561Z"
   },
   {
    "duration": 6,
    "start_time": "2024-05-29T15:25:06.654Z"
   },
   {
    "duration": 6,
    "start_time": "2024-05-29T15:25:10.614Z"
   },
   {
    "duration": 21,
    "start_time": "2024-05-29T16:40:26.423Z"
   },
   {
    "duration": 335,
    "start_time": "2024-05-29T16:45:34.486Z"
   },
   {
    "duration": 1314,
    "start_time": "2024-05-29T16:45:43.449Z"
   },
   {
    "duration": 604,
    "start_time": "2024-05-29T16:45:44.767Z"
   },
   {
    "duration": 248,
    "start_time": "2024-05-29T16:45:45.375Z"
   },
   {
    "duration": 52,
    "start_time": "2024-05-29T16:45:45.627Z"
   },
   {
    "duration": 72,
    "start_time": "2024-05-29T16:45:45.682Z"
   },
   {
    "duration": 634,
    "start_time": "2024-05-29T16:45:45.758Z"
   },
   {
    "duration": 13,
    "start_time": "2024-05-29T16:45:46.396Z"
   },
   {
    "duration": 10,
    "start_time": "2024-05-29T16:45:46.412Z"
   },
   {
    "duration": 125,
    "start_time": "2024-05-29T16:45:50.038Z"
   },
   {
    "duration": 4950,
    "start_time": "2024-05-29T16:51:51.628Z"
   },
   {
    "duration": 1261,
    "start_time": "2024-05-29T16:57:09.375Z"
   },
   {
    "duration": 453,
    "start_time": "2024-05-29T16:57:10.641Z"
   },
   {
    "duration": 236,
    "start_time": "2024-05-29T16:57:11.098Z"
   },
   {
    "duration": 54,
    "start_time": "2024-05-29T16:57:11.339Z"
   },
   {
    "duration": 129,
    "start_time": "2024-05-29T16:57:11.396Z"
   },
   {
    "duration": 593,
    "start_time": "2024-05-29T16:57:11.528Z"
   },
   {
    "duration": 12,
    "start_time": "2024-05-29T16:57:12.123Z"
   },
   {
    "duration": 9,
    "start_time": "2024-05-29T16:57:12.138Z"
   },
   {
    "duration": 107,
    "start_time": "2024-05-29T16:57:12.150Z"
   },
   {
    "duration": 4843,
    "start_time": "2024-05-29T16:57:12.262Z"
   },
   {
    "duration": 1234,
    "start_time": "2024-05-29T16:57:24.292Z"
   },
   {
    "duration": 436,
    "start_time": "2024-05-29T16:57:25.530Z"
   },
   {
    "duration": 204,
    "start_time": "2024-05-29T16:57:25.969Z"
   },
   {
    "duration": 65,
    "start_time": "2024-05-29T16:57:26.178Z"
   },
   {
    "duration": 91,
    "start_time": "2024-05-29T16:57:26.245Z"
   },
   {
    "duration": 596,
    "start_time": "2024-05-29T16:57:26.339Z"
   },
   {
    "duration": 10,
    "start_time": "2024-05-29T16:57:26.938Z"
   },
   {
    "duration": 8,
    "start_time": "2024-05-29T16:57:26.951Z"
   },
   {
    "duration": 108,
    "start_time": "2024-05-29T16:57:26.962Z"
   },
   {
    "duration": 4508,
    "start_time": "2024-05-29T16:57:27.075Z"
   }
  ],
  "kernelspec": {
   "display_name": "Python 3 (ipykernel)",
   "language": "python",
   "name": "python3"
  },
  "language_info": {
   "codemirror_mode": {
    "name": "ipython",
    "version": 3
   },
   "file_extension": ".py",
   "mimetype": "text/x-python",
   "name": "python",
   "nbconvert_exporter": "python",
   "pygments_lexer": "ipython3",
   "version": "3.9.19"
  },
  "toc": {
   "base_numbering": 1,
   "nav_menu": {},
   "number_sections": true,
   "sideBar": true,
   "skip_h1_title": true,
   "title_cell": "Table of Contents",
   "title_sidebar": "Contents",
   "toc_cell": false,
   "toc_position": {},
   "toc_section_display": true,
   "toc_window_display": false
  }
 },
 "nbformat": 4,
 "nbformat_minor": 2
}
