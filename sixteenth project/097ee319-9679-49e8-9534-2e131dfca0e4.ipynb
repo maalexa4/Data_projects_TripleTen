{
 "cells": [
  {
   "cell_type": "code",
   "execution_count": 12,
   "metadata": {},
   "outputs": [
    {
     "name": "stdout",
     "output_type": "stream",
     "text": [
      "AUC-ROC: 0.9980492792675535\n",
      "Accuracy: 0.9884620301713117\n"
     ]
    }
   ],
   "source": [
    "import pandas as pd\n",
    "from sklearn.model_selection import train_test_split\n",
    "from sklearn.preprocessing import OneHotEncoder\n",
    "from sklearn.linear_model import LogisticRegression\n",
    "from sklearn.metrics import roc_auc_score, accuracy_score\n",
    "import numpy as np\n",
    "\n",
    "# Load the datasets\n",
    "contract = pd.read_csv('/datasets/contract.csv')\n",
    "internet = pd.read_csv('/datasets/internet.csv')\n",
    "phone = pd.read_csv('/datasets/phone.csv')\n",
    "personal = pd.read_csv('/datasets/personal.csv')\n",
    "\n",
    "# Rename user_id to customerID in the internet dataset\n",
    "internet.rename(columns={'user_id': 'customerID'}, inplace=True)\n",
    "\n",
    "# Convert customerID columns to string type across all datasets\n",
    "contract['customerID'] = contract['customerID'].astype(str)\n",
    "internet['customerID'] = internet['customerID'].astype(str)\n",
    "phone['customerID'] = phone['customerID'].astype(str)\n",
    "personal['customerID'] = personal['customerID'].astype(str)\n",
    "\n",
    "# Handle missing EndDate as No Churn\n",
    "contract['EndDate'] = contract['EndDate'].replace('No', pd.NaT)\n",
    "contract['Churn'] = contract['EndDate'].isna().astype(int)\n",
    "\n",
    "# Convert EndDate to datetime\n",
    "contract['BeginDate'] = pd.to_datetime(contract['BeginDate'])\n",
    "contract['EndDate'] = pd.to_datetime(contract['EndDate'])\n",
    "\n",
    "# Create ContractLength feature\n",
    "contract['ContractLength'] = ((contract['EndDate'].fillna(pd.Timestamp('2020-02-01')) - contract['BeginDate']).dt.days / 30).astype(int)\n",
    "\n",
    "# Merge the datasets using outer join\n",
    "data_merged = contract.merge(personal, on='customerID', how='outer').merge(internet, on='customerID', how='outer').merge(phone, on='customerID', how='outer')\n",
    "\n",
    "# Handle missing values for categorical variables\n",
    "data_merged['MultipleLines'].fillna('No service', inplace=True)\n",
    "data_merged['mb_used'].fillna(0, inplace=True)\n",
    "\n",
    "# Convert TotalCharges to numeric and handle errors\n",
    "data_merged['TotalCharges'] = pd.to_numeric(data_merged['TotalCharges'], errors='coerce').fillna(0)\n",
    "\n",
    "# One-Hot Encoding for categorical variables\n",
    "categorical_features = ['Type', 'PaperlessBilling', 'PaymentMethod', 'gender', 'Partner', 'Dependents', 'MultipleLines']\n",
    "encoder = OneHotEncoder(drop='first', sparse=False)\n",
    "encoded_array = encoder.fit_transform(data_merged[categorical_features])\n",
    "\n",
    "# Manually create column names\n",
    "encoded_features = pd.DataFrame(encoded_array, columns=encoder.get_feature_names(categorical_features))\n",
    "\n",
    "# Combine the encoded features with the dataset\n",
    "data_merged = data_merged.drop(categorical_features, axis=1)\n",
    "data_merged = pd.concat([data_merged, encoded_features], axis=1)\n",
    "\n",
    "# Ensure all features are numeric and handle NaN values\n",
    "for col in data_merged.columns:\n",
    "    if data_merged[col].dtype == 'object':\n",
    "        data_merged[col] = pd.to_numeric(data_merged[col], errors='coerce').fillna(0)\n",
    "\n",
    "# Replace any remaining NaN or infinite values with 0\n",
    "data_merged.replace([np.inf, -np.inf], np.nan, inplace=True)\n",
    "data_merged.fillna(0, inplace=True)\n",
    "\n",
    "# Drop columns not needed for the model\n",
    "data_merged.drop(['customerID', 'BeginDate', 'EndDate', 'Unnamed: 0', 'id', 'session_date'], axis=1, inplace=True)\n",
    "\n",
    "# Split the data into training and testing sets\n",
    "X = data_merged.drop('Churn', axis=1)\n",
    "y = data_merged['Churn']\n",
    "\n",
    "X_train, X_test, y_train, y_test = train_test_split(X, y, test_size=0.2, random_state=42)\n",
    "\n",
    "# Implement Logistic Regression with class weighting\n",
    "model = LogisticRegression(class_weight='balanced', max_iter=1000)\n",
    "model.fit(X_train, y_train)\n",
    "\n",
    "# Predict on the test set\n",
    "y_pred = model.predict(X_test)\n",
    "y_prob = model.predict_proba(X_test)[:, 1]\n",
    "\n",
    "# Evaluate the model\n",
    "auc_roc = roc_auc_score(y_test, y_prob)\n",
    "accuracy = accuracy_score(y_test, y_pred)\n",
    "\n",
    "print(f\"AUC-ROC: {auc_roc}\")\n",
    "print(f\"Accuracy: {accuracy}\")\n",
    "\n",
    "\n",
    "\n",
    "\n",
    "\n"
   ]
  },
  {
   "cell_type": "code",
   "execution_count": 13,
   "metadata": {},
   "outputs": [
    {
     "name": "stdout",
     "output_type": "stream",
     "text": [
      "                                  Feature  Coefficient  Importance\n",
      "15                             gender_nan    -1.781515    1.781515\n",
      "7                                Type_nan    -1.781515    1.781515\n",
      "9                    PaperlessBilling_nan    -1.781515    1.781515\n",
      "19                         Dependents_nan    -1.781515    1.781515\n",
      "13                      PaymentMethod_nan    -1.781515    1.781515\n",
      "17                            Partner_nan    -1.781515    1.781515\n",
      "10  PaymentMethod_Credit card (automatic)     1.262867    1.262867\n",
      "6                           Type_Two year     1.243975    1.243975\n",
      "4                                 mb_used    -1.221023    1.221023\n",
      "12             PaymentMethod_Mailed check     1.084969    1.084969\n"
     ]
    }
   ],
   "source": [
    "# Get the feature names (after one-hot encoding)\n",
    "feature_names = X.columns\n",
    "\n",
    "# Get the coefficients from the model\n",
    "coefficients = model.coef_[0]\n",
    "\n",
    "# Create a DataFrame to display feature importance\n",
    "feature_importance = pd.DataFrame({\n",
    "    'Feature': feature_names,\n",
    "    'Coefficient': coefficients\n",
    "})\n",
    "\n",
    "# Calculate the absolute value of the coefficients to sort by importance\n",
    "feature_importance['Importance'] = feature_importance['Coefficient'].apply(lambda x: np.abs(x))\n",
    "\n",
    "# Sort the features by importance\n",
    "feature_importance = feature_importance.sort_values(by='Importance', ascending=False)\n",
    "\n",
    "# Display the top 10 most important features\n",
    "top_features = feature_importance.head(10)\n",
    "print(top_features)\n"
   ]
  },
  {
   "cell_type": "code",
   "execution_count": 14,
   "metadata": {},
   "outputs": [
    {
     "name": "stdout",
     "output_type": "stream",
     "text": [
      "Best AUC-ROC: 0.9978828719945472\n",
      "Best Accuracy: 0.9897085144464332\n"
     ]
    }
   ],
   "source": [
    "from sklearn.ensemble import RandomForestClassifier\n",
    "from sklearn.model_selection import GridSearchCV\n",
    "\n",
    "# Step 1: Try a more complex model\n",
    "rf_model = RandomForestClassifier(class_weight='balanced', random_state=42)\n",
    "\n",
    "# Step 2: Hyperparameter tuning using GridSearchCV\n",
    "param_grid = {\n",
    "    'n_estimators': [100, 200, 300],\n",
    "    'max_depth': [10, 20, 30],\n",
    "    'min_samples_split': [2, 5, 10]\n",
    "}\n",
    "\n",
    "grid_search = GridSearchCV(rf_model, param_grid, cv=5, scoring='roc_auc', n_jobs=-1)\n",
    "grid_search.fit(X_train, y_train)\n",
    "\n",
    "# Step 3: Evaluate the best model found\n",
    "best_rf_model = grid_search.best_estimator_\n",
    "y_pred = best_rf_model.predict(X_test)\n",
    "y_prob = best_rf_model.predict_proba(X_test)[:, 1]\n",
    "\n",
    "# Step 4: Model Evaluation\n",
    "auc_roc = roc_auc_score(y_test, y_prob)\n",
    "accuracy = accuracy_score(y_test, y_pred)\n",
    "\n",
    "print(f\"Best AUC-ROC: {auc_roc}\")\n",
    "print(f\"Best Accuracy: {accuracy}\")\n"
   ]
  },
  {
   "cell_type": "code",
   "execution_count": 15,
   "metadata": {},
   "outputs": [
    {
     "data": {
      "image/png": "[encoded data removed]",
      "text/plain": [
       "<Figure size 1000x600 with 1 Axes>"
      ]
     },
     "metadata": {},
     "output_type": "display_data"
    }
   ],
   "source": [
    "import matplotlib.pyplot as plt\n",
    "\n",
    "\n",
    "# Get feature importances\n",
    "importances = best_rf_model.feature_importances_\n",
    "feature_names = X.columns\n",
    "\n",
    "# Create a DataFrame to display feature importance\n",
    "feature_importance = pd.DataFrame({\n",
    "    'Feature': feature_names,\n",
    "    'Importance': importances\n",
    "})\n",
    "\n",
    "# Sort features by importance\n",
    "feature_importance = feature_importance.sort_values(by='Importance', ascending=False)\n",
    "\n",
    "# Plot the top 10 most important features\n",
    "top_features = feature_importance.head(10)\n",
    "plt.figure(figsize=(10, 6))\n",
    "plt.barh(top_features['Feature'], top_features['Importance'])\n",
    "plt.xlabel('Importance')\n",
    "plt.ylabel('Feature')\n",
    "plt.title('Top 10 Most Important Features')\n",
    "plt.gca().invert_yaxis()\n",
    "plt.show()\n"
   ]
  },
  {
   "cell_type": "code",
   "execution_count": 16,
   "metadata": {},
   "outputs": [
    {
     "name": "stdout",
     "output_type": "stream",
     "text": [
      "AUC-ROC for Logistic Regression: 0.9980492792675535\n",
      "Accuracy for Logistic Regression: 0.9884620301713117\n"
     ]
    }
   ],
   "source": []
  }
 ],
 "metadata": {
  "ExecuteTimeLog": [
   {
    "duration": 324,
    "start_time": "2024-08-12T16:06:48.068Z"
   },
   {
    "duration": 1278,
    "start_time": "2024-08-12T16:07:15.258Z"
   },
   {
    "duration": 11,
    "start_time": "2024-08-12T16:08:34.055Z"
   },
   {
    "duration": 18629,
    "start_time": "2024-08-12T16:09:18.589Z"
   },
   {
    "duration": 349,
    "start_time": "2024-08-12T16:13:47.573Z"
   },
   {
    "duration": 226,
    "start_time": "2024-08-12T16:16:48.743Z"
   },
   {
    "duration": 168,
    "start_time": "2024-08-12T16:17:33.457Z"
   },
   {
    "duration": 923,
    "start_time": "2024-08-12T16:18:51.888Z"
   },
   {
    "duration": 1053,
    "start_time": "2024-08-12T16:22:36.807Z"
   },
   {
    "duration": 1310,
    "start_time": "2024-08-12T16:26:37.873Z"
   },
   {
    "duration": 1901,
    "start_time": "2024-08-12T16:28:06.768Z"
   },
   {
    "duration": 18651,
    "start_time": "2024-08-12T16:29:31.073Z"
   },
   {
    "duration": 13,
    "start_time": "2024-08-12T16:35:29.606Z"
   },
   {
    "duration": 846269,
    "start_time": "2024-08-12T16:39:14.512Z"
   },
   {
    "duration": 4169,
    "start_time": "2024-08-12T17:12:15.056Z"
   },
   {
    "duration": 110,
    "start_time": "2024-08-12T17:18:22.816Z"
   }
  ],
  "kernelspec": {
   "display_name": "Python 3 (ipykernel)",
   "language": "python",
   "name": "python3"
  },
  "language_info": {
   "codemirror_mode": {
    "name": "ipython",
    "version": 3
   },
   "file_extension": ".py",
   "mimetype": "text/x-python",
   "name": "python",
   "nbconvert_exporter": "python",
   "pygments_lexer": "ipython3",
   "version": "3.9.19"
  },
  "toc": {
   "base_numbering": 1,
   "nav_menu": {},
   "number_sections": true,
   "sideBar": true,
   "skip_h1_title": true,
   "title_cell": "Table of Contents",
   "title_sidebar": "Contents",
   "toc_cell": false,
   "toc_position": {},
   "toc_section_display": true,
   "toc_window_display": false
  }
 },
 "nbformat": 4,
 "nbformat_minor": 2
}
