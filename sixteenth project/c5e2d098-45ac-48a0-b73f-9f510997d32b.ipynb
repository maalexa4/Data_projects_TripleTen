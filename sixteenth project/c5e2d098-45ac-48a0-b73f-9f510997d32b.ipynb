{
 "cells": [
  {
   "cell_type": "markdown",
   "metadata": {},
   "source": [
    "# Final Report"
   ]
  },
  {
   "cell_type": "markdown",
   "metadata": {},
   "source": [
    "## Steps Performed and Skipped"
   ]
  },
  {
   "cell_type": "markdown",
   "metadata": {},
   "source": [
    "Steps Performed:\n",
    "\n",
    "Exploratory Data Analysis (EDA):\n",
    "Analyzed the structure and content of each dataset.\n",
    "Checked for missing values and handled them appropriately.\n",
    "Investigated the distribution of key features and created derived features (e.g., ContractLength).\n",
    "\n",
    "Data Preprocessing:\n",
    "Merged the datasets using an outer join to ensure all customers were included.\n",
    "One-hot encoded categorical features and handled missing values.\n",
    "Addressed class imbalance using class weighting in the model.\n",
    "\n",
    "Model Development:\n",
    "Trained and evaluated both a Logistic Regression model and a Random Forest model.\n",
    "Performed hyperparameter tuning using GridSearchCV.\n",
    "Evaluated model performance using AUC-ROC and Accuracy metrics.\n",
    "\n",
    "Feature Importance Analysis:\n",
    "Analyzed feature importance for both Logistic Regression and Random Forest models.\n",
    "Identified key features that contributed to the model's predictions.\n",
    "\n",
    "Steps Skipped: None. All planned steps were executed. However, additional improvements such as experimenting with more advanced imputation methods or more complex models (e.g., XGBoost) were not explored due to time constraints. These could be considered for future work."
   ]
  },
  {
   "cell_type": "markdown",
   "metadata": {},
   "source": [
    "## Difficulties Encountered and Solutions"
   ]
  },
  {
   "cell_type": "markdown",
   "metadata": {},
   "source": [
    "Handling Missing Data:\n",
    "\n",
    "   Difficulty: Encountered significant missing data in various features, which initially led to over-reliance on _nan indicators.\n",
    "\n",
    "   Solution: Used median imputation for numerical features and treated missing values in categorical features as a separate category. Explored other imputation strategies but found this approach effective given the dataset.\n",
    "\n",
    "Class Imbalance:\n",
    "\n",
    "   Difficulty: The target variable (churn) was imbalanced, which could have biased the model.\n",
    "\n",
    "   Solution: Applied class weighting in both the Logistic Regression and Random Forest models, ensuring that the models were not biased toward the majority class.\n",
    "\n",
    "Interpreting Feature Importance:\n",
    "\n",
    "   Difficulty: The presence of _nan indicators in feature importance analysis suggested potential issues with how missing data were being handled.\n",
    "\n",
    "   Solution: Considered removing or treating _nan features differently, but ultimately retained them to maintain model performance. Highlighted this as an area for further improvement."
   ]
  },
  {
   "cell_type": "markdown",
   "metadata": {},
   "source": [
    "## Key Steps to Solving the Task"
   ]
  },
  {
   "cell_type": "markdown",
   "metadata": {},
   "source": [
    "Exploratory Data Analysis (EDA): Understanding the data's structure and distributions was crucial in guiding the preprocessing and feature engineering steps.\n",
    "\n",
    "Data Preprocessing: Correctly handling missing data and merging the datasets was key to ensuring that the models had complete and accurate information.\n",
    "\n",
    "Model Selection and Tuning: Training both Logistic Regression and Random Forest models provided a balance between interpretability and performance. Hyperparameter tuning further optimized model performance.\n",
    "\n",
    "Feature Importance Analysis: Identifying the most important features helped provide actionable insights into why customers might churn."
   ]
  },
  {
   "cell_type": "markdown",
   "metadata": {},
   "source": [
    "## Final Model and Quality Score"
   ]
  },
  {
   "cell_type": "markdown",
   "metadata": {},
   "source": [
    "Final Model: The final model chosen was the Random Forest model, which provided the best balance of performance and robustness. However, the Logistic Regression model was also kept as a more interpretable alternative.\n",
    "\n",
    "Quality Scores:\n",
    "\n",
    "Random Forest:\n",
    "AUC-ROC: 0.998\n",
    "Accuracy: 98.97%\n",
    "\n",
    "Logistic Regression:\n",
    "AUC-ROC: 0.997\n",
    "Accuracy: 98.5%\n",
    "\n",
    "The Random Forest model was chosen as the final model due to its slightly better performance, though the Logistic Regression model remains a valuable tool for understanding the factors driving churn."
   ]
  },
  {
   "cell_type": "markdown",
   "metadata": {},
   "source": [
    "# Conclusion"
   ]
  },
  {
   "cell_type": "markdown",
   "metadata": {},
   "source": [
    "This report summarizes the steps taken to develop a predictive model for customer churn, the challenges faced, and the final outcomes. The final model, a Random Forest, achieved high accuracy and AUC-ROC, demonstrating its effectiveness in predicting churn. Further work could focus on refining the handling of missing data and exploring additional model types or feature engineering techniques."
   ]
  }
 ],
 "metadata": {
  "kernelspec": {
   "display_name": "Python 3 (ipykernel)",
   "language": "python",
   "name": "python3"
  },
  "language_info": {
   "codemirror_mode": {
    "name": "ipython",
    "version": 3
   },
   "file_extension": ".py",
   "mimetype": "text/x-python",
   "name": "python",
   "nbconvert_exporter": "python",
   "pygments_lexer": "ipython3",
   "version": "3.9.19"
  },
  "toc": {
   "base_numbering": 1,
   "nav_menu": {},
   "number_sections": true,
   "sideBar": true,
   "skip_h1_title": true,
   "title_cell": "Table of Contents",
   "title_sidebar": "Contents",
   "toc_cell": false,
   "toc_position": {},
   "toc_section_display": true,
   "toc_window_display": false
  }
 },
 "nbformat": 4,
 "nbformat_minor": 2
}
