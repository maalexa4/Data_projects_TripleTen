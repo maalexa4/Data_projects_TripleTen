{
 "cells": [
  {
   "cell_type": "markdown",
   "metadata": {},
   "source": [
    "## Data preparation"
   ]
  },
  {
   "cell_type": "code",
   "execution_count": 1,
   "metadata": {},
   "outputs": [
    {
     "name": "stdout",
     "output_type": "stream",
     "text": [
      "Number of columns: 22\n"
     ]
    }
   ],
   "source": [
    "import pandas as pd\n",
    "from sklearn.model_selection import train_test_split\n",
    "from sklearn.preprocessing import OneHotEncoder\n",
    "from sklearn.linear_model import LinearRegression\n",
    "from sklearn.tree import DecisionTreeRegressor\n",
    "from sklearn.ensemble import RandomForestRegressor\n",
    "from sklearn.metrics import mean_squared_error\n",
    "import lightgbm as lgb\n",
    "import xgboost as xgb\n",
    "import numpy as np\n",
    "\n",
    "# Load the dataset\n",
    "file_path = '/datasets/car_data.csv'\n",
    "car_data = pd.read_csv(file_path)\n",
    "\n",
    "# Handle missing values\n",
    "categorical_columns = ['VehicleType', 'Gearbox', 'Model', 'FuelType', 'NotRepaired']\n",
    "for column in categorical_columns:\n",
    "    car_data[column].fillna('unknown', inplace=True)\n",
    "\n",
    "# Limit the number of unique values in categorical features\n",
    "for column in categorical_columns:\n",
    "    top_values = car_data[column].value_counts().index[:5]\n",
    "    car_data[column] = car_data[column].apply(lambda x: x if x in top_values else 'other')\n",
    "\n",
    "# Select a subset of relevant features (including a limited number of numerical features)\n",
    "selected_columns = ['Price', 'VehicleType', 'RegistrationYear', 'Gearbox', 'Power', 'Model', 'Mileage', 'FuelType', 'NotRepaired']\n",
    "car_data_reduced = car_data[selected_columns]\n",
    "\n",
    "# Apply OneHotEncoding to categorical columns\n",
    "encoder = OneHotEncoder(sparse=False, drop='first')\n",
    "encoded_columns = encoder.fit_transform(car_data_reduced[categorical_columns])\n",
    "encoded_df = pd.DataFrame(encoded_columns, columns=encoder.get_feature_names(categorical_columns))\n",
    "car_data_encoded = pd.concat([car_data_reduced.drop(categorical_columns, axis=1), encoded_df], axis=1)\n",
    "\n",
    "# Ensure the number of columns is below 200\n",
    "print(f\"Number of columns: {car_data_encoded.shape[1]}\")\n",
    "\n",
    "# Sample a smaller dataset (use 5% of the data)\n",
    "car_data_sampled = car_data_encoded.sample(frac=0.05, random_state=42)\n",
    "\n",
    "# Define features and target\n",
    "X = car_data_sampled.drop(['Price'], axis=1)\n",
    "y = car_data_sampled['Price']\n",
    "\n",
    "# Split the data into training and testing sets\n",
    "X_train, X_test, y_train, y_test = train_test_split(X, y, test_size=0.2, random_state=42)"
   ]
  },
  {
   "cell_type": "markdown",
   "metadata": {},
   "source": [
    "## Model training"
   ]
  },
  {
   "cell_type": "code",
   "execution_count": 2,
   "metadata": {},
   "outputs": [
    {
     "name": "stdout",
     "output_type": "stream",
     "text": [
      "(14174, 21) (3544, 21) (14174,) (3544,)\n"
     ]
    }
   ],
   "source": [
    "# Display the shapes of the training and testing sets\n",
    "print(X_train.shape, X_test.shape, y_train.shape, y_test.shape)"
   ]
  },
  {
   "cell_type": "code",
   "execution_count": 3,
   "metadata": {},
   "outputs": [
    {
     "name": "stdout",
     "output_type": "stream",
     "text": [
      "Linear Regression RMSE: 3589.0843233203823\n"
     ]
    }
   ],
   "source": [
    "# Train a Linear Regression model\n",
    "linear_model = LinearRegression()\n",
    "linear_model.fit(X_train, y_train)\n",
    "y_pred = linear_model.predict(X_test)\n",
    "rmse = np.sqrt(mean_squared_error(y_test, y_pred))\n",
    "print(f'Linear Regression RMSE: {rmse}')\n",
    "\n"
   ]
  },
  {
   "cell_type": "code",
   "execution_count": 4,
   "metadata": {},
   "outputs": [
    {
     "name": "stdout",
     "output_type": "stream",
     "text": [
      "LightGBM RMSE: 2190.224815559407\n"
     ]
    }
   ],
   "source": [
    "# Train a LightGBM model\n",
    "lgb_model = lgb.LGBMRegressor(random_state=42)\n",
    "lgb_model.fit(X_train, y_train)\n",
    "y_pred_lgb = lgb_model.predict(X_test)\n",
    "rmse_lgb = np.sqrt(mean_squared_error(y_test, y_pred_lgb))\n",
    "print(f'LightGBM RMSE: {rmse_lgb}')"
   ]
  },
  {
   "cell_type": "markdown",
   "metadata": {},
   "source": [
    "# Tuning hyperparameters"
   ]
  },
  {
   "cell_type": "code",
   "execution_count": 5,
   "metadata": {},
   "outputs": [
    {
     "name": "stdout",
     "output_type": "stream",
     "text": [
      "Best parameters: {'learning_rate': 0.1, 'n_estimators': 100, 'num_leaves': 31}\n",
      "Best RMSE: 2151.051880210941\n",
      "Tuned LightGBM RMSE: 2190.224815559407\n"
     ]
    }
   ],
   "source": [
    "from sklearn.model_selection import GridSearchCV\n",
    "\n",
    "# Define the parameter grid for LightGBM\n",
    "param_grid = {\n",
    "    'num_leaves': [31, 50],\n",
    "    'learning_rate': [0.1, 0.01],\n",
    "    'n_estimators': [100, 200]\n",
    "}\n",
    "\n",
    "# Initialize the LightGBM model\n",
    "lgb_model = lgb.LGBMRegressor(random_state=42)\n",
    "\n",
    "# Initialize GridSearchCV\n",
    "grid_search = GridSearchCV(estimator=lgb_model, param_grid=param_grid, cv=3, scoring='neg_mean_squared_error', n_jobs=-1)\n",
    "\n",
    "# Fit the model\n",
    "grid_search.fit(X_train, y_train)\n",
    "\n",
    "# Get the best parameters and the best RMSE score\n",
    "best_params = grid_search.best_params_\n",
    "best_rmse = np.sqrt(-grid_search.best_score_)\n",
    "\n",
    "print(f'Best parameters: {best_params}')\n",
    "print(f'Best RMSE: {best_rmse}')\n",
    "\n",
    "# Train the LightGBM model with the best parameters\n",
    "lgb_model_best = lgb.LGBMRegressor(**best_params, random_state=42)\n",
    "lgb_model_best.fit(X_train, y_train)\n",
    "y_pred_lgb_best = lgb_model_best.predict(X_test)\n",
    "rmse_lgb_best = np.sqrt(mean_squared_error(y_test, y_pred_lgb_best))\n",
    "print(f'Tuned LightGBM RMSE: {rmse_lgb_best}')\n"
   ]
  },
  {
   "cell_type": "markdown",
   "metadata": {},
   "source": [
    "## Model analysis"
   ]
  },
  {
   "cell_type": "code",
   "execution_count": 6,
   "metadata": {},
   "outputs": [
    {
     "name": "stdout",
     "output_type": "stream",
     "text": [
      "Linear Regression - RMSE: 3589.0843233203823, Training Time: 0.020336627960205078, Prediction Time: 0.006487369537353516\n",
      "LightGBM - RMSE: 2190.224815559407, Training Time: 0.5683648586273193, Prediction Time: 0.07948708534240723\n",
      "                          RMSE  Training Time  Prediction Time\n",
      "Linear Regression  3589.084323       0.020337         0.006487\n",
      "LightGBM           2190.224816       0.568365         0.079487\n"
     ]
    }
   ],
   "source": [
    "import time\n",
    "from sklearn.metrics import mean_squared_error\n",
    "import numpy as np\n",
    "\n",
    "# Initialize results dictionary\n",
    "results = {}\n",
    "\n",
    "# Linear Regression\n",
    "start_time = time.time()\n",
    "linear_model = LinearRegression()\n",
    "linear_model.fit(X_train, y_train)\n",
    "training_time = time.time() - start_time\n",
    "\n",
    "start_time = time.time()\n",
    "y_pred = linear_model.predict(X_test)\n",
    "prediction_time = time.time() - start_time\n",
    "\n",
    "rmse = np.sqrt(mean_squared_error(y_test, y_pred))\n",
    "results['Linear Regression'] = {'RMSE': rmse, 'Training Time': training_time, 'Prediction Time': prediction_time}\n",
    "\n",
    "print(f\"Linear Regression - RMSE: {rmse}, Training Time: {training_time}, Prediction Time: {prediction_time}\")\n",
    "\n",
    "# LightGBM\n",
    "start_time = time.time()\n",
    "lgb_model = lgb.LGBMRegressor(random_state=42)\n",
    "lgb_model.fit(X_train, y_train)\n",
    "training_time = time.time() - start_time\n",
    "\n",
    "start_time = time.time()\n",
    "y_pred_lgb = lgb_model.predict(X_test)\n",
    "prediction_time = time.time() - start_time\n",
    "\n",
    "rmse_lgb = np.sqrt(mean_squared_error(y_test, y_pred_lgb))\n",
    "results['LightGBM'] = {'RMSE': rmse_lgb, 'Training Time': training_time, 'Prediction Time': prediction_time}\n",
    "\n",
    "print(f\"LightGBM - RMSE: {rmse_lgb}, Training Time: {training_time}, Prediction Time: {prediction_time}\")\n",
    "\n",
    "# Display results\n",
    "import pandas as pd\n",
    "results_df = pd.DataFrame(results).T\n",
    "print(results_df)\n"
   ]
  },
  {
   "cell_type": "markdown",
   "metadata": {},
   "source": [
    "# Conclusion"
   ]
  },
  {
   "cell_type": "markdown",
   "metadata": {},
   "source": [
    "Quality (RMSE)\n",
    "Linear Regression has a higher RMSE (3589.08) compared to LightGBM (2190.22), indicating that LightGBM provides better predictive performance.\n",
    "Speed\n",
    "Training Time:\n",
    "Linear Regression is significantly faster to train (0.0203 seconds) compared to LightGBM (0.5684 seconds).\n",
    "Prediction Time:\n",
    "Linear Regression also has a quicker prediction time (0.0065 seconds) compared to LightGBM (0.0795 seconds).\n",
    "\n",
    "Linear Regression:\n",
    "Pros: Very fast training and prediction times.\n",
    "Cons: Higher RMSE, indicating lower prediction quality.\n",
    "LightGBM:\n",
    "Pros: Lower RMSE, indicating higher prediction quality.\n",
    "Cons: Longer training and prediction times compared to Linear Regression, but still reasonable for many applications.\n",
    "\n",
    "\n",
    "If prediction quality is the primary concern, LightGBM is the better choice due to its significantly lower RMSE.\n",
    "If speed (both training and prediction) is critical and the quality can be compromised slightly, Linear Regression might be preferred."
   ]
  }
 ],
 "metadata": {
  "ExecuteTimeLog": [
   {
    "duration": 2144,
    "start_time": "2024-07-13T16:01:42.739Z"
   },
   {
    "duration": 246,
    "start_time": "2024-07-13T16:03:38.122Z"
   },
   {
    "duration": 1509,
    "start_time": "2024-07-13T16:04:02.718Z"
   },
   {
    "duration": 2673,
    "start_time": "2024-07-13T16:05:38.770Z"
   },
   {
    "duration": 310,
    "start_time": "2024-07-13T16:08:31.232Z"
   },
   {
    "duration": 1984,
    "start_time": "2024-07-13T16:09:26.145Z"
   },
   {
    "duration": 233,
    "start_time": "2024-07-13T16:09:28.132Z"
   },
   {
    "duration": 2243,
    "start_time": "2024-07-13T16:09:28.368Z"
   },
   {
    "duration": 332,
    "start_time": "2024-07-13T16:09:43.156Z"
   },
   {
    "duration": 1965,
    "start_time": "2024-07-13T16:09:51.123Z"
   },
   {
    "duration": 229,
    "start_time": "2024-07-13T16:09:53.092Z"
   },
   {
    "duration": 2218,
    "start_time": "2024-07-13T16:09:53.324Z"
   },
   {
    "duration": 1987,
    "start_time": "2024-07-13T16:10:55.065Z"
   },
   {
    "duration": 225,
    "start_time": "2024-07-13T16:10:57.056Z"
   },
   {
    "duration": 2238,
    "start_time": "2024-07-13T16:10:57.284Z"
   },
   {
    "duration": 344,
    "start_time": "2024-07-13T16:23:31.425Z"
   },
   {
    "duration": 2000,
    "start_time": "2024-07-13T16:23:38.388Z"
   },
   {
    "duration": 236,
    "start_time": "2024-07-13T16:23:40.391Z"
   },
   {
    "duration": 2275,
    "start_time": "2024-07-13T16:23:40.630Z"
   },
   {
    "duration": 267,
    "start_time": "2024-07-13T16:23:52.211Z"
   },
   {
    "duration": 964,
    "start_time": "2024-07-13T16:41:56.849Z"
   },
   {
    "duration": 2008,
    "start_time": "2024-07-13T16:43:03.847Z"
   },
   {
    "duration": 809,
    "start_time": "2024-07-13T16:44:12.130Z"
   },
   {
    "duration": 226,
    "start_time": "2024-07-13T16:44:12.942Z"
   },
   {
    "duration": 2251,
    "start_time": "2024-07-13T16:44:13.171Z"
   },
   {
    "duration": 653,
    "start_time": "2024-07-13T16:44:15.425Z"
   },
   {
    "duration": 1838,
    "start_time": "2024-07-13T16:44:21.911Z"
   },
   {
    "duration": 29,
    "start_time": "2024-07-13T16:45:29.443Z"
   },
   {
    "duration": 789,
    "start_time": "2024-07-13T16:45:36.827Z"
   },
   {
    "duration": 237,
    "start_time": "2024-07-13T16:45:37.620Z"
   },
   {
    "duration": 2274,
    "start_time": "2024-07-13T16:45:37.860Z"
   },
   {
    "duration": 354,
    "start_time": "2024-07-13T16:45:40.137Z"
   },
   {
    "duration": 1925,
    "start_time": "2024-07-13T16:45:52.403Z"
   },
   {
    "duration": 161,
    "start_time": "2024-07-13T16:46:54.908Z"
   },
   {
    "duration": 781,
    "start_time": "2024-07-13T16:47:03.347Z"
   },
   {
    "duration": 253,
    "start_time": "2024-07-13T16:47:04.131Z"
   },
   {
    "duration": 2277,
    "start_time": "2024-07-13T16:47:04.387Z"
   },
   {
    "duration": 548,
    "start_time": "2024-07-13T16:47:06.668Z"
   },
   {
    "duration": 1608,
    "start_time": "2024-07-13T16:47:18.598Z"
   },
   {
    "duration": 1188,
    "start_time": "2024-07-13T16:47:28.496Z"
   },
   {
    "duration": 232,
    "start_time": "2024-07-13T16:47:29.688Z"
   },
   {
    "duration": 2401,
    "start_time": "2024-07-13T16:47:29.923Z"
   },
   {
    "duration": 438,
    "start_time": "2024-07-13T16:47:32.328Z"
   },
   {
    "duration": 1517,
    "start_time": "2024-07-13T16:47:42.468Z"
   },
   {
    "duration": 26,
    "start_time": "2024-07-13T16:50:22.543Z"
   },
   {
    "duration": 991,
    "start_time": "2024-07-13T16:50:29.503Z"
   },
   {
    "duration": 230,
    "start_time": "2024-07-13T16:50:30.500Z"
   },
   {
    "duration": 2246,
    "start_time": "2024-07-13T16:50:30.733Z"
   },
   {
    "duration": 299,
    "start_time": "2024-07-13T16:50:32.982Z"
   },
   {
    "duration": 313,
    "start_time": "2024-07-13T16:50:52.576Z"
   },
   {
    "duration": 2069,
    "start_time": "2024-07-13T16:50:59.889Z"
   },
   {
    "duration": 226,
    "start_time": "2024-07-13T16:51:01.962Z"
   },
   {
    "duration": 2261,
    "start_time": "2024-07-13T16:51:02.191Z"
   },
   {
    "duration": 288,
    "start_time": "2024-07-13T16:51:04.456Z"
   },
   {
    "duration": 1492,
    "start_time": "2024-07-13T16:52:43.080Z"
   },
   {
    "duration": 1058,
    "start_time": "2024-07-13T16:52:49.301Z"
   },
   {
    "duration": 232,
    "start_time": "2024-07-13T16:52:50.363Z"
   },
   {
    "duration": 2272,
    "start_time": "2024-07-13T16:52:50.601Z"
   },
   {
    "duration": 282,
    "start_time": "2024-07-13T16:52:52.876Z"
   },
   {
    "duration": 1511,
    "start_time": "2024-07-13T16:53:49.593Z"
   },
   {
    "duration": 1064,
    "start_time": "2024-07-13T16:53:55.538Z"
   },
   {
    "duration": 235,
    "start_time": "2024-07-13T16:53:56.606Z"
   },
   {
    "duration": 2296,
    "start_time": "2024-07-13T16:53:56.844Z"
   },
   {
    "duration": 288,
    "start_time": "2024-07-13T16:53:59.143Z"
   },
   {
    "duration": 2001,
    "start_time": "2024-07-13T16:54:10.967Z"
   },
   {
    "duration": 227,
    "start_time": "2024-07-13T16:54:12.971Z"
   },
   {
    "duration": 2234,
    "start_time": "2024-07-13T16:54:13.202Z"
   },
   {
    "duration": 277,
    "start_time": "2024-07-13T16:54:15.440Z"
   },
   {
    "duration": 309,
    "start_time": "2024-07-13T17:18:15.444Z"
   },
   {
    "duration": 2007,
    "start_time": "2024-07-13T17:18:19.650Z"
   },
   {
    "duration": 228,
    "start_time": "2024-07-13T17:18:21.660Z"
   },
   {
    "duration": 2277,
    "start_time": "2024-07-13T17:18:21.891Z"
   },
   {
    "duration": 161,
    "start_time": "2024-07-13T17:18:28.502Z"
   },
   {
    "duration": 1539,
    "start_time": "2024-07-13T17:18:40.829Z"
   },
   {
    "duration": 1006,
    "start_time": "2024-07-13T17:18:48.024Z"
   },
   {
    "duration": 241,
    "start_time": "2024-07-13T17:18:49.034Z"
   },
   {
    "duration": 2252,
    "start_time": "2024-07-13T17:18:49.278Z"
   },
   {
    "duration": 172,
    "start_time": "2024-07-13T17:18:51.534Z"
   },
   {
    "duration": 1523,
    "start_time": "2024-07-13T17:19:03.338Z"
   },
   {
    "duration": 27,
    "start_time": "2024-07-13T17:19:58.682Z"
   },
   {
    "duration": 1084,
    "start_time": "2024-07-13T17:20:03.925Z"
   },
   {
    "duration": 338,
    "start_time": "2024-07-13T17:20:05.013Z"
   },
   {
    "duration": 2363,
    "start_time": "2024-07-13T17:20:05.354Z"
   },
   {
    "duration": 171,
    "start_time": "2024-07-13T17:20:07.720Z"
   },
   {
    "duration": 1527,
    "start_time": "2024-07-13T17:20:17.102Z"
   },
   {
    "duration": 28,
    "start_time": "2024-07-13T17:20:24.683Z"
   },
   {
    "duration": 2039,
    "start_time": "2024-07-13T17:20:38.778Z"
   },
   {
    "duration": 228,
    "start_time": "2024-07-13T17:20:40.821Z"
   },
   {
    "duration": 2308,
    "start_time": "2024-07-13T17:20:41.056Z"
   },
   {
    "duration": 180,
    "start_time": "2024-07-13T17:20:43.368Z"
   },
   {
    "duration": 307,
    "start_time": "2024-07-13T17:24:53.525Z"
   },
   {
    "duration": 2083,
    "start_time": "2024-07-13T17:24:59.019Z"
   },
   {
    "duration": 224,
    "start_time": "2024-07-13T17:25:01.106Z"
   },
   {
    "duration": 2318,
    "start_time": "2024-07-13T17:25:01.334Z"
   },
   {
    "duration": 165,
    "start_time": "2024-07-13T17:25:03.656Z"
   },
   {
    "duration": 8,
    "start_time": "2024-07-13T17:25:06.676Z"
   },
   {
    "duration": 4,
    "start_time": "2024-07-13T17:25:38.807Z"
   },
   {
    "duration": 1159,
    "start_time": "2024-07-13T17:41:35.811Z"
   },
   {
    "duration": 115,
    "start_time": "2024-07-13T17:41:36.974Z"
   },
   {
    "duration": 316,
    "start_time": "2024-07-13T17:41:49.804Z"
   },
   {
    "duration": 23,
    "start_time": "2024-07-13T17:41:55.586Z"
   },
   {
    "duration": 2298,
    "start_time": "2024-07-13T17:42:00.063Z"
   },
   {
    "duration": 126,
    "start_time": "2024-07-13T17:42:04.856Z"
   },
   {
    "duration": 2184,
    "start_time": "2024-07-13T17:42:11.342Z"
   },
   {
    "duration": 230,
    "start_time": "2024-07-13T17:42:17.284Z"
   },
   {
    "duration": 4,
    "start_time": "2024-07-13T17:42:39.129Z"
   },
   {
    "duration": 314,
    "start_time": "2024-07-13T17:43:05.295Z"
   },
   {
    "duration": 24,
    "start_time": "2024-07-13T17:52:31.399Z"
   },
   {
    "duration": 2354,
    "start_time": "2024-07-13T17:52:33.933Z"
   },
   {
    "duration": 118,
    "start_time": "2024-07-13T17:52:38.590Z"
   },
   {
    "duration": 2201,
    "start_time": "2024-07-13T17:52:45.324Z"
   },
   {
    "duration": 121,
    "start_time": "2024-07-13T17:52:49.669Z"
   },
   {
    "duration": 4,
    "start_time": "2024-07-13T17:52:53.878Z"
   },
   {
    "duration": 5,
    "start_time": "2024-07-13T17:52:58.569Z"
   },
   {
    "duration": 4,
    "start_time": "2024-07-13T17:53:01.189Z"
   },
   {
    "duration": 314,
    "start_time": "2024-07-13T17:53:08.389Z"
   },
   {
    "duration": 2334,
    "start_time": "2024-07-13T17:53:30.653Z"
   },
   {
    "duration": 126,
    "start_time": "2024-07-13T17:53:32.990Z"
   },
   {
    "duration": 2192,
    "start_time": "2024-07-13T17:53:33.119Z"
   },
   {
    "duration": 129,
    "start_time": "2024-07-13T17:53:35.314Z"
   },
   {
    "duration": 4,
    "start_time": "2024-07-13T17:53:35.447Z"
   },
   {
    "duration": 4828,
    "start_time": "2024-07-13T17:55:19.374Z"
   },
   {
    "duration": 2852,
    "start_time": "2024-07-13T17:56:29.049Z"
   },
   {
    "duration": 4,
    "start_time": "2024-07-13T18:02:47.975Z"
   },
   {
    "duration": 78,
    "start_time": "2024-07-13T18:03:08.826Z"
   },
   {
    "duration": 550,
    "start_time": "2024-07-13T18:04:01.378Z"
   },
   {
    "duration": 694,
    "start_time": "2024-07-13T18:07:45.426Z"
   },
   {
    "duration": 16,
    "start_time": "2024-07-14T09:23:18.565Z"
   },
   {
    "duration": 4798,
    "start_time": "2024-07-14T15:50:56.731Z"
   },
   {
    "duration": 6,
    "start_time": "2024-07-14T15:51:01.534Z"
   },
   {
    "duration": 69,
    "start_time": "2024-07-14T15:51:01.543Z"
   },
   {
    "duration": 1694,
    "start_time": "2024-07-14T15:51:01.614Z"
   },
   {
    "duration": 1372989,
    "start_time": "2024-07-14T15:51:06.766Z"
   },
   {
    "duration": 13,
    "start_time": "2024-07-14T17:11:55.677Z"
   }
  ],
  "kernelspec": {
   "display_name": "Python 3 (ipykernel)",
   "language": "python",
   "name": "python3"
  },
  "language_info": {
   "codemirror_mode": {
    "name": "ipython",
    "version": 3
   },
   "file_extension": ".py",
   "mimetype": "text/x-python",
   "name": "python",
   "nbconvert_exporter": "python",
   "pygments_lexer": "ipython3",
   "version": "3.9.19"
  },
  "toc": {
   "base_numbering": 1,
   "nav_menu": {},
   "number_sections": true,
   "sideBar": true,
   "skip_h1_title": true,
   "title_cell": "Table of Contents",
   "title_sidebar": "Contents",
   "toc_cell": false,
   "toc_position": {},
   "toc_section_display": true,
   "toc_window_display": false
  }
 },
 "nbformat": 4,
 "nbformat_minor": 2
}
