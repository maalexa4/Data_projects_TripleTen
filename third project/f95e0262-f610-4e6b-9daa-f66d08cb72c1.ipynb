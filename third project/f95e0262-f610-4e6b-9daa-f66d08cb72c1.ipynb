{
 "cells": [
  {
   "cell_type": "markdown",
   "metadata": {},
   "source": [
    "# Which one is a better plan?\n",
    "\n",
    "You work as an analyst for the telecom operator Megaline. The company offers its clients two prepaid plans, Surf and Ultimate. The commercial department wants to know which of the plans brings in more revenue in order to adjust the advertising budget.\n",
    "\n",
    "You are going to carry out a preliminary analysis of the plans based on a relatively small client selection. You'll have the data on 500 Megaline clients: who the clients are, where they're from, which plan they use, and the number of calls they made and text messages they sent in 2018. Your job is to analyze the clients' behavior and determine which prepaid plan brings in more revenue."
   ]
  },
  {
   "cell_type": "markdown",
   "metadata": {},
   "source": [
    "## Initialization"
   ]
  },
  {
   "cell_type": "markdown",
   "metadata": {},
   "source": [
    "loading all the libraries we may need. In case we need to calculate variance, numpy has been loaded. If we need to plot things pyplot from matlpotlib was loaded. If we need to find a factorial, factorial from math has been loaded. To find probablities using normal distributions, stats from scipy as been loaded as st. "
   ]
  },
  {
   "cell_type": "code",
   "execution_count": 1,
   "metadata": {},
   "outputs": [],
   "source": [
    "import pandas as pd\n",
    "import numpy as np\n",
    "from matplotlib import pyplot as plt\n",
    "from math import factorial \n",
    "from scipy import stats as st# Loading all the libraries\n",
    "\n"
   ]
  },
  {
   "cell_type": "markdown",
   "metadata": {},
   "source": [
    "## Load data"
   ]
  },
  {
   "cell_type": "markdown",
   "metadata": {},
   "source": [
    "loaded all the data and named them by the information in the datasets and read them using pd library."
   ]
  },
  {
   "cell_type": "code",
   "execution_count": 2,
   "metadata": {},
   "outputs": [],
   "source": [
    "# Define file paths\n",
    "calls_path = '/datasets/megaline_calls.csv'\n",
    "internet_path = '/datasets/megaline_internet.csv'\n",
    "messages_path = '/datasets/megaline_messages.csv'\n",
    "plans_path = '/datasets/megaline_plans.csv'\n",
    "users_path = '/datasets/megaline_users.csv'\n",
    "\n",
    "# Load datasets\n",
    "calls = pd.read_csv(calls_path)\n",
    "internet = pd.read_csv(internet_path)\n",
    "messages = pd.read_csv(messages_path)\n",
    "plans = pd.read_csv(plans_path)\n",
    "users = pd.read_csv(users_path)# Load the data files into different DataFrames\n",
    "\n"
   ]
  },
  {
   "cell_type": "markdown",
   "metadata": {},
   "source": [
    "## Prepare the data"
   ]
  },
  {
   "cell_type": "code",
   "execution_count": 3,
   "metadata": {},
   "outputs": [
    {
     "name": "stdout",
     "output_type": "stream",
     "text": [
      "Missing values:\n",
      "id           0\n",
      "user_id      0\n",
      "call_date    0\n",
      "duration     0\n",
      "dtype: int64\n",
      "id              0\n",
      "user_id         0\n",
      "session_date    0\n",
      "mb_used         0\n",
      "dtype: int64\n",
      "id              0\n",
      "user_id         0\n",
      "message_date    0\n",
      "dtype: int64\n",
      "messages_included        0\n",
      "mb_per_month_included    0\n",
      "minutes_included         0\n",
      "usd_monthly_pay          0\n",
      "usd_per_gb               0\n",
      "usd_per_message          0\n",
      "usd_per_minute           0\n",
      "plan_name                0\n",
      "dtype: int64\n",
      "user_id         0\n",
      "first_name      0\n",
      "last_name       0\n",
      "age             0\n",
      "city            0\n",
      "reg_date        0\n",
      "plan            0\n",
      "churn_date    466\n",
      "dtype: int64\n"
     ]
    }
   ],
   "source": [
    "# Check for missing values\n",
    "print(\"Missing values:\")\n",
    "print(calls.isnull().sum())\n",
    "print(internet.isnull().sum())\n",
    "print(messages.isnull().sum())\n",
    "print(plans.isnull().sum())\n",
    "print(users.isnull().sum())"
   ]
  },
  {
   "cell_type": "code",
   "execution_count": 4,
   "metadata": {},
   "outputs": [
    {
     "name": "stdout",
     "output_type": "stream",
     "text": [
      "\n",
      "Duplicates:\n",
      "0\n",
      "0\n",
      "0\n",
      "0\n",
      "0\n"
     ]
    }
   ],
   "source": [
    "print(\"\\nDuplicates:\")\n",
    "print(calls.duplicated().sum())\n",
    "print(internet.duplicated().sum())\n",
    "print(messages.duplicated().sum())\n",
    "print(plans.duplicated().sum())\n",
    "print(users.duplicated().sum())"
   ]
  },
  {
   "cell_type": "markdown",
   "metadata": {},
   "source": [
    "I first checked to see if there were any missing values. I found 466 missing values in the churn_date column. I decided to leave it alone because the churn_date means the user stopped using the service so it makes sense to have missing values in that column if the user is still using the service. I then checked to see if there were any duplicate rows and there were none. In this first cell when I checked for missing values it also gave me the data type for each data set and they were all int64 so I think the datasets are good to be worked with. "
   ]
  },
  {
   "cell_type": "markdown",
   "metadata": {},
   "source": [
    "## Plans"
   ]
  },
  {
   "cell_type": "code",
   "execution_count": 5,
   "metadata": {},
   "outputs": [
    {
     "name": "stdout",
     "output_type": "stream",
     "text": [
      "<class 'pandas.core.frame.DataFrame'>\n",
      "RangeIndex: 2 entries, 0 to 1\n",
      "Data columns (total 8 columns):\n",
      " #   Column                 Non-Null Count  Dtype  \n",
      "---  ------                 --------------  -----  \n",
      " 0   messages_included      2 non-null      int64  \n",
      " 1   mb_per_month_included  2 non-null      int64  \n",
      " 2   minutes_included       2 non-null      int64  \n",
      " 3   usd_monthly_pay        2 non-null      int64  \n",
      " 4   usd_per_gb             2 non-null      int64  \n",
      " 5   usd_per_message        2 non-null      float64\n",
      " 6   usd_per_minute         2 non-null      float64\n",
      " 7   plan_name              2 non-null      object \n",
      "dtypes: float64(2), int64(5), object(1)\n",
      "memory usage: 256.0+ bytes\n",
      "None\n"
     ]
    }
   ],
   "source": [
    "plans = pd.read_csv('/datasets/megaline_plans.csv')\n",
    "print(plans.info())# Print the general/summary information about the plans' DataFrame\n",
    "\n"
   ]
  },
  {
   "cell_type": "code",
   "execution_count": 6,
   "metadata": {},
   "outputs": [
    {
     "name": "stdout",
     "output_type": "stream",
     "text": [
      "   messages_included  mb_per_month_included  minutes_included  \\\n",
      "0                 50                  15360               500   \n",
      "1               1000                  30720              3000   \n",
      "\n",
      "   usd_monthly_pay  usd_per_gb  usd_per_message  usd_per_minute plan_name  \n",
      "0               20          10             0.03            0.03      surf  \n",
      "1               70           7             0.01            0.01  ultimate  \n"
     ]
    }
   ],
   "source": [
    "print(plans.head())# Print a sample of data for plans\n",
    "\n"
   ]
  },
  {
   "cell_type": "markdown",
   "metadata": {},
   "source": [
    "The data looks pretty good. I was unsure about the usd_per_message and usd_per_minute data types thinking they should maybe be int64 but it makes sense that they are float64 because they are talking about cents so that would be hard to show in int64. I also dont really like how plan_name is only on the bottom and not on the top as well but given that they are indexed at 0 and 1 in the bottom you can be confident that they are also 0 and 1 on the top as well."
   ]
  },
  {
   "cell_type": "markdown",
   "metadata": {},
   "source": [
    "## Users"
   ]
  },
  {
   "cell_type": "code",
   "execution_count": 7,
   "metadata": {},
   "outputs": [
    {
     "name": "stdout",
     "output_type": "stream",
     "text": [
      "<class 'pandas.core.frame.DataFrame'>\n",
      "RangeIndex: 500 entries, 0 to 499\n",
      "Data columns (total 8 columns):\n",
      " #   Column      Non-Null Count  Dtype \n",
      "---  ------      --------------  ----- \n",
      " 0   user_id     500 non-null    int64 \n",
      " 1   first_name  500 non-null    object\n",
      " 2   last_name   500 non-null    object\n",
      " 3   age         500 non-null    int64 \n",
      " 4   city        500 non-null    object\n",
      " 5   reg_date    500 non-null    object\n",
      " 6   plan        500 non-null    object\n",
      " 7   churn_date  34 non-null     object\n",
      "dtypes: int64(2), object(6)\n",
      "memory usage: 31.4+ KB\n",
      "None\n"
     ]
    }
   ],
   "source": [
    "users = pd.read_csv('/datasets/megaline_users.csv')\n",
    "print(users.info())# Print the general/summary information about the users' DataFrame\n",
    "\n"
   ]
  },
  {
   "cell_type": "code",
   "execution_count": 8,
   "metadata": {},
   "outputs": [
    {
     "name": "stdout",
     "output_type": "stream",
     "text": [
      "   user_id first_name  last_name  age                                   city  \\\n",
      "0     1000   Anamaria      Bauer   45  Atlanta-Sandy Springs-Roswell, GA MSA   \n",
      "1     1001     Mickey  Wilkerson   28        Seattle-Tacoma-Bellevue, WA MSA   \n",
      "2     1002     Carlee    Hoffman   36   Las Vegas-Henderson-Paradise, NV MSA   \n",
      "3     1003   Reynaldo    Jenkins   52                          Tulsa, OK MSA   \n",
      "4     1004    Leonila   Thompson   40        Seattle-Tacoma-Bellevue, WA MSA   \n",
      "\n",
      "     reg_date      plan churn_date  \n",
      "0  2018-12-24  ultimate        NaN  \n",
      "1  2018-08-13      surf        NaN  \n",
      "2  2018-10-21      surf        NaN  \n",
      "3  2018-01-28      surf        NaN  \n",
      "4  2018-05-23      surf        NaN  \n"
     ]
    }
   ],
   "source": [
    "print(users.head())\n"
   ]
  },
  {
   "cell_type": "markdown",
   "metadata": {},
   "source": [
    "reg_date and churn_date are both object dtypes but they may be better worked with in datetime64. We could also split the city column into city and msa but Ill leave that alone and see what changing the object to datetime64 looks like. "
   ]
  },
  {
   "cell_type": "markdown",
   "metadata": {},
   "source": [
    "### Fix Data"
   ]
  },
  {
   "cell_type": "markdown",
   "metadata": {},
   "source": [
    "It doesnt seem to have affected much other than changing churn_date from nan to nat. You could probably just leave the dataframe as is."
   ]
  },
  {
   "cell_type": "code",
   "execution_count": 9,
   "metadata": {},
   "outputs": [
    {
     "name": "stdout",
     "output_type": "stream",
     "text": [
      "   user_id first_name  last_name  age                                   city  \\\n",
      "0     1000   Anamaria      Bauer   45  Atlanta-Sandy Springs-Roswell, GA MSA   \n",
      "1     1001     Mickey  Wilkerson   28        Seattle-Tacoma-Bellevue, WA MSA   \n",
      "2     1002     Carlee    Hoffman   36   Las Vegas-Henderson-Paradise, NV MSA   \n",
      "3     1003   Reynaldo    Jenkins   52                          Tulsa, OK MSA   \n",
      "4     1004    Leonila   Thompson   40        Seattle-Tacoma-Bellevue, WA MSA   \n",
      "\n",
      "    reg_date      plan churn_date  \n",
      "0 2018-12-24  ultimate        NaT  \n",
      "1 2018-08-13      surf        NaT  \n",
      "2 2018-10-21      surf        NaT  \n",
      "3 2018-01-28      surf        NaT  \n",
      "4 2018-05-23      surf        NaT  \n"
     ]
    }
   ],
   "source": [
    "users['reg_date'] = pd.to_datetime(users['reg_date'])\n",
    "users['churn_date'] = pd.to_datetime(users['churn_date'])\n",
    "print(users.head())"
   ]
  },
  {
   "cell_type": "markdown",
   "metadata": {},
   "source": [
    "## Calls"
   ]
  },
  {
   "cell_type": "code",
   "execution_count": 10,
   "metadata": {},
   "outputs": [
    {
     "name": "stdout",
     "output_type": "stream",
     "text": [
      "<class 'pandas.core.frame.DataFrame'>\n",
      "RangeIndex: 137735 entries, 0 to 137734\n",
      "Data columns (total 4 columns):\n",
      " #   Column     Non-Null Count   Dtype  \n",
      "---  ------     --------------   -----  \n",
      " 0   id         137735 non-null  object \n",
      " 1   user_id    137735 non-null  int64  \n",
      " 2   call_date  137735 non-null  object \n",
      " 3   duration   137735 non-null  float64\n",
      "dtypes: float64(1), int64(1), object(2)\n",
      "memory usage: 4.2+ MB\n",
      "None\n"
     ]
    }
   ],
   "source": [
    "calls = pd.read_csv('/datasets/megaline_calls.csv')\n",
    "print(calls.info())# Print the general/summary information about the calls' DataFrame\n",
    "\n"
   ]
  },
  {
   "cell_type": "code",
   "execution_count": 11,
   "metadata": {},
   "outputs": [
    {
     "name": "stdout",
     "output_type": "stream",
     "text": [
      "         id  user_id   call_date  duration\n",
      "0   1000_93     1000  2018-12-27      8.52\n",
      "1  1000_145     1000  2018-12-27     13.66\n",
      "2  1000_247     1000  2018-12-27     14.48\n",
      "3  1000_309     1000  2018-12-28      5.76\n",
      "4  1000_380     1000  2018-12-30      4.22\n"
     ]
    }
   ],
   "source": [
    "print(calls.head())# Print a sample of data for calls\n",
    "\n"
   ]
  },
  {
   "cell_type": "markdown",
   "metadata": {},
   "source": [
    "just like the last data frame call_date is in object dtype but it could be better handled in datetime64 format but it didnt really change much in the last data frame so I wont change it here."
   ]
  },
  {
   "cell_type": "markdown",
   "metadata": {},
   "source": [
    "### Fix data"
   ]
  },
  {
   "cell_type": "code",
   "execution_count": 12,
   "metadata": {},
   "outputs": [
    {
     "name": "stdout",
     "output_type": "stream",
     "text": [
      "<class 'pandas.core.frame.DataFrame'>\n",
      "RangeIndex: 137735 entries, 0 to 137734\n",
      "Data columns (total 5 columns):\n",
      " #   Column            Non-Null Count   Dtype  \n",
      "---  ------            --------------   -----  \n",
      " 0   id                137735 non-null  object \n",
      " 1   user_id           137735 non-null  int64  \n",
      " 2   call_date         137735 non-null  object \n",
      " 3   duration          137735 non-null  float64\n",
      " 4   duration_rounded  137735 non-null  float64\n",
      "dtypes: float64(2), int64(1), object(2)\n",
      "memory usage: 5.3+ MB\n",
      "None\n",
      "         id  user_id   call_date  duration  duration_rounded\n",
      "0   1000_93     1000  2018-12-27      8.52               9.0\n",
      "1  1000_145     1000  2018-12-27     13.66              14.0\n",
      "2  1000_247     1000  2018-12-27     14.48              15.0\n",
      "3  1000_309     1000  2018-12-28      5.76               6.0\n",
      "4  1000_380     1000  2018-12-30      4.22               5.0\n"
     ]
    }
   ],
   "source": [
    "import numpy as np\n",
    "calls['duration_rounded'] = np.ceil(calls['duration'])\n",
    "print(calls.info())\n",
    "print(calls.head())"
   ]
  },
  {
   "cell_type": "markdown",
   "metadata": {},
   "source": [
    "Added data rounding"
   ]
  },
  {
   "cell_type": "markdown",
   "metadata": {},
   "source": [
    "## Messages"
   ]
  },
  {
   "cell_type": "code",
   "execution_count": 13,
   "metadata": {},
   "outputs": [
    {
     "name": "stdout",
     "output_type": "stream",
     "text": [
      "<class 'pandas.core.frame.DataFrame'>\n",
      "RangeIndex: 76051 entries, 0 to 76050\n",
      "Data columns (total 3 columns):\n",
      " #   Column        Non-Null Count  Dtype \n",
      "---  ------        --------------  ----- \n",
      " 0   id            76051 non-null  object\n",
      " 1   user_id       76051 non-null  int64 \n",
      " 2   message_date  76051 non-null  object\n",
      "dtypes: int64(1), object(2)\n",
      "memory usage: 1.7+ MB\n",
      "None\n"
     ]
    }
   ],
   "source": [
    "messages = pd.read_csv('/datasets/megaline_messages.csv')\n",
    "print(messages.info())# Print the general/summary information about the messages' DataFrame\n",
    "\n"
   ]
  },
  {
   "cell_type": "code",
   "execution_count": 14,
   "metadata": {},
   "outputs": [
    {
     "name": "stdout",
     "output_type": "stream",
     "text": [
      "         id  user_id message_date\n",
      "0  1000_125     1000   2018-12-27\n",
      "1  1000_160     1000   2018-12-31\n",
      "2  1000_223     1000   2018-12-31\n",
      "3  1000_251     1000   2018-12-27\n",
      "4  1000_255     1000   2018-12-26\n"
     ]
    }
   ],
   "source": [
    "print(messages.head())# Print a sample of data for messages\n",
    "\n"
   ]
  },
  {
   "cell_type": "markdown",
   "metadata": {},
   "source": [
    "Again we have column message_date in object dtype but could be easier to work with in datetime64 but it didnt change much when I did that the first time so I will leave it alone here. "
   ]
  },
  {
   "cell_type": "markdown",
   "metadata": {},
   "source": [
    "## Internet"
   ]
  },
  {
   "cell_type": "code",
   "execution_count": 15,
   "metadata": {},
   "outputs": [
    {
     "name": "stdout",
     "output_type": "stream",
     "text": [
      "<class 'pandas.core.frame.DataFrame'>\n",
      "RangeIndex: 104825 entries, 0 to 104824\n",
      "Data columns (total 4 columns):\n",
      " #   Column        Non-Null Count   Dtype  \n",
      "---  ------        --------------   -----  \n",
      " 0   id            104825 non-null  object \n",
      " 1   user_id       104825 non-null  int64  \n",
      " 2   session_date  104825 non-null  object \n",
      " 3   mb_used       104825 non-null  float64\n",
      "dtypes: float64(1), int64(1), object(2)\n",
      "memory usage: 3.2+ MB\n",
      "None\n"
     ]
    }
   ],
   "source": [
    "internet = pd.read_csv('/datasets/megaline_internet.csv')\n",
    "print(internet.info())# Print the general/summary information about the internet DataFrame\n",
    "\n"
   ]
  },
  {
   "cell_type": "code",
   "execution_count": 16,
   "metadata": {},
   "outputs": [
    {
     "name": "stdout",
     "output_type": "stream",
     "text": [
      "         id  user_id session_date  mb_used\n",
      "0   1000_13     1000   2018-12-29    89.86\n",
      "1  1000_204     1000   2018-12-31     0.00\n",
      "2  1000_379     1000   2018-12-28   660.40\n",
      "3  1000_413     1000   2018-12-26   270.99\n",
      "4  1000_442     1000   2018-12-27   880.22\n"
     ]
    }
   ],
   "source": [
    "print(internet.head())# Print a sample of data for the internet traffic\n",
    "\n"
   ]
  },
  {
   "cell_type": "markdown",
   "metadata": {},
   "source": [
    "session_date is in object dtype and could be better worked with in datetime64 but it didnt change much the first time so I will leave it alone here. "
   ]
  },
  {
   "cell_type": "markdown",
   "metadata": {},
   "source": [
    "## Study plan conditions"
   ]
  },
  {
   "cell_type": "code",
   "execution_count": 17,
   "metadata": {},
   "outputs": [
    {
     "name": "stdout",
     "output_type": "stream",
     "text": [
      "Megaline rounds seconds up to minutes, and megabytes to gigabytes. For calls, each individual call is rounded up: even if the call lasted just one second, it will be counted as one minute. For web traffic, individual web sessions are not rounded up. Instead, the total for the month is rounded up. If someone uses 1025 megabytes this month, they will be charged for 2 gigabytes.\n",
      "\n",
      "Surfs Monthly charge: $20, 500 monthly minutes, 50 texts, and 15 GB of data. After exceeding the package limits: 1 minute: 3 cents, 1 text message: 3 cents, 1 GB of data: $10\n",
      "\n",
      "Ultimates Monthly charge: $70, 3000 monthly minutes, 1000 text messages, and 30 GB of data. After exceeding the package limits: 1 minute: 1 cent, 1 text message: 1 cent, 1 GB of data: $7\n"
     ]
    }
   ],
   "source": [
    "print(\"Megaline rounds seconds up to minutes, and megabytes to gigabytes. For calls, each individual call is rounded up: even if the call lasted just one second, it will be counted as one minute. For web traffic, individual web sessions are not rounded up. Instead, the total for the month is rounded up. If someone uses 1025 megabytes this month, they will be charged for 2 gigabytes.\")\n",
    "print()\n",
    "print(\"Surfs Monthly charge: $20, 500 monthly minutes, 50 texts, and 15 GB of data. After exceeding the package limits: 1 minute: 3 cents, 1 text message: 3 cents, 1 GB of data: $10\")\n",
    "print()\n",
    "print(\"Ultimates Monthly charge: $70, 3000 monthly minutes, 1000 text messages, and 30 GB of data. After exceeding the package limits: 1 minute: 1 cent, 1 text message: 1 cent, 1 GB of data: $7\")# Print out the plan conditions and make sure they are clear for you\n",
    "\n"
   ]
  },
  {
   "cell_type": "markdown",
   "metadata": {},
   "source": [
    "## Aggregate data per user\n",
    "\n",
    "[Now, as the data is clean, aggregate data per user per period in order to have just one record per user per period. It should ease the further analysis a lot.]"
   ]
  },
  {
   "cell_type": "code",
   "execution_count": 18,
   "metadata": {},
   "outputs": [
    {
     "name": "stdout",
     "output_type": "stream",
     "text": [
      "   user_id    month  calls_count\n",
      "0     1000  2018-12           16\n",
      "1     1001  2018-08           27\n",
      "2     1001  2018-09           49\n",
      "3     1001  2018-10           65\n",
      "4     1001  2018-11           64\n"
     ]
    }
   ],
   "source": [
    "# Convert 'call_date' to datetime\n",
    "calls['call_date'] = pd.to_datetime(calls['call_date'])\n",
    "\n",
    "# Extract month and year from 'call_date'\n",
    "calls['month'] = calls['call_date'].dt.to_period('M')\n",
    "\n",
    "# Group by 'user_id' and 'month', and calculate the number of calls\n",
    "calls_per_month = calls.groupby(['user_id', 'month']).size().reset_index(name='calls_count')\n",
    "\n",
    "print(calls_per_month.head())  # Calculate the number of calls made by each user per month. Save the result.\n",
    "\n"
   ]
  },
  {
   "cell_type": "code",
   "execution_count": 19,
   "metadata": {},
   "outputs": [
    {
     "name": "stdout",
     "output_type": "stream",
     "text": [
      "   user_id    month  calls_count  total_minutes\n",
      "0     1000  2018-12           16          124.0\n",
      "1     1001  2018-08           27          182.0\n",
      "2     1001  2018-09           49          315.0\n",
      "3     1001  2018-10           65          393.0\n",
      "4     1001  2018-11           64          426.0\n"
     ]
    }
   ],
   "source": [
    "import pandas as pd\n",
    "import numpy as np\n",
    "calls_path = '/datasets/megaline_calls.csv'\n",
    "calls = pd.read_csv(calls_path)\n",
    "calls['duration_rounded'] = np.ceil(calls['duration'])\n",
    "# Convert 'call_date' to datetime\n",
    "calls['call_date'] = pd.to_datetime(calls['call_date'])\n",
    "\n",
    "# Extract month and year from 'call_date'\n",
    "calls['month'] = calls['call_date'].dt.to_period('M')\n",
    "\n",
    "# Group by 'user_id' and 'month', and calculate the total minutes spent\n",
    "minutes_per_month = calls.groupby(['user_id', 'month']).agg({'duration_rounded': ['count', 'sum']}).reset_index()\n",
    "minutes_per_month.columns = ['user_id', 'month', 'calls_count', 'total_minutes']\n",
    "\n",
    "print(minutes_per_month.head())\n",
    "\n",
    "# Save the result to a CSV file\n",
    "minutes_per_month.to_csv('minutes_per_month.csv', index=False)\n"
   ]
  },
  {
   "cell_type": "code",
   "execution_count": 20,
   "metadata": {},
   "outputs": [
    {
     "name": "stdout",
     "output_type": "stream",
     "text": [
      "   user_id    month  messages_count\n",
      "0     1000  2018-12              11\n",
      "1     1001  2018-08              30\n",
      "2     1001  2018-09              44\n",
      "3     1001  2018-10              53\n",
      "4     1001  2018-11              36\n"
     ]
    }
   ],
   "source": [
    "\n",
    "# Convert 'message_date' to datetime\n",
    "messages['message_date'] = pd.to_datetime(messages['message_date'])\n",
    "\n",
    "# Extract month and year from 'message_date'\n",
    "messages['month'] = messages['message_date'].dt.to_period('M')\n",
    "\n",
    "# Group by 'user_id' and 'month', and calculate the number of messages sent\n",
    "messages_per_month = messages.groupby(['user_id', 'month']).size().reset_index(name='messages_count')\n",
    "\n",
    "\n",
    "print(messages_per_month.head())\n",
    "\n",
    "# Save the result to a CSV file\n",
    "messages_per_month.to_csv('messages_per_month.csv', index=False)# Calculate the number of messages sent by each user per month. Save the result.\n",
    "\n"
   ]
  },
  {
   "cell_type": "code",
   "execution_count": 21,
   "metadata": {},
   "outputs": [
    {
     "name": "stdout",
     "output_type": "stream",
     "text": [
      "   user_id    month  total_mb_used\n",
      "0     1000  2018-12        1901.47\n",
      "1     1001  2018-08        6919.15\n",
      "2     1001  2018-09       13314.82\n",
      "3     1001  2018-10       22330.49\n",
      "4     1001  2018-11       18504.30\n"
     ]
    }
   ],
   "source": [
    "# Convert 'session_date' to datetime\n",
    "internet['session_date'] = pd.to_datetime(internet['session_date'])\n",
    "\n",
    "# Extract month and year from 'session_date'\n",
    "internet['month'] = internet['session_date'].dt.to_period('M')\n",
    "\n",
    "# Group by 'user_id' and 'month', and calculate the total internet traffic used\n",
    "internet_traffic_per_month = internet.groupby(['user_id', 'month'])['mb_used'].sum().reset_index(name='total_mb_used')\n",
    "\n",
    "\n",
    "print(internet_traffic_per_month.head())\n",
    "\n",
    "# Save the result to a CSV file\n",
    "internet_traffic_per_month.to_csv('internet_traffic_per_month.csv', index=False)# Calculate the volume of internet traffic used by each user per month. Save the result.\n",
    "\n"
   ]
  },
  {
   "cell_type": "code",
   "execution_count": 22,
   "metadata": {},
   "outputs": [
    {
     "name": "stdout",
     "output_type": "stream",
     "text": [
      "Index(['user_id', 'month', 'calls_count', 'total_minutes'], dtype='object')\n"
     ]
    }
   ],
   "source": [
    "print(minutes_per_month.columns)"
   ]
  },
  {
   "cell_type": "code",
   "execution_count": 23,
   "metadata": {},
   "outputs": [
    {
     "name": "stdout",
     "output_type": "stream",
     "text": [
      "Index(['user_id', 'month', 'calls_count'], dtype='object')\n"
     ]
    }
   ],
   "source": [
    "print(calls_per_month.columns)"
   ]
  },
  {
   "cell_type": "code",
   "execution_count": 24,
   "metadata": {},
   "outputs": [],
   "source": [
    "\n",
    "# Read the data\n",
    "calls_per_month = pd.read_csv('/datasets/megaline_calls.csv')\n",
    "\n",
    "# Convert 'call_date' to datetime\n",
    "calls_per_month['call_date'] = pd.to_datetime(calls_per_month['call_date'])\n",
    "\n",
    "# Extract month and year from 'call_date'\n",
    "calls_per_month['month'] = calls_per_month['call_date'].dt.to_period('M')\n",
    "\n",
    "# Round up the duration to the nearest minute\n",
    "calls_per_month['duration'] = calls_per_month['duration'].apply(lambda x: int(round(x)))\n",
    "\n",
    "# Group by 'user_id' and 'month', and calculate the total minutes spent\n",
    "calls_per_month = calls_per_month.groupby(['user_id', 'month'])['duration'].sum().reset_index(name='total_minutes')\n",
    "\n",
    "# Save the result to a CSV file\n",
    "calls_per_month.to_csv('calls_per_month.csv', index=False)\n",
    "\n",
    "\n"
   ]
  },
  {
   "cell_type": "code",
   "execution_count": 25,
   "metadata": {},
   "outputs": [
    {
     "name": "stdout",
     "output_type": "stream",
     "text": [
      "Index(['messages_included', 'mb_per_month_included', 'minutes_included',\n",
      "       'usd_monthly_pay', 'usd_per_gb', 'usd_per_message', 'usd_per_minute',\n",
      "       'plan_name'],\n",
      "      dtype='object')\n"
     ]
    }
   ],
   "source": [
    "print(plans.columns)"
   ]
  },
  {
   "cell_type": "code",
   "execution_count": 26,
   "metadata": {},
   "outputs": [
    {
     "name": "stdout",
     "output_type": "stream",
     "text": [
      "   user_id    month  total_minutes_x  calls_count  total_minutes_y  \\\n",
      "0     1000  2018-12            117.0         16.0            124.0   \n",
      "1     1001  2018-08            173.0         27.0            182.0   \n",
      "2     1001  2018-09            297.0         49.0            315.0   \n",
      "3     1001  2018-10            374.0         65.0            393.0   \n",
      "4     1001  2018-11            404.0         64.0            426.0   \n",
      "\n",
      "   messages_count  total_mb_used      plan  \\\n",
      "0            11.0        1901.47  ultimate   \n",
      "1            30.0        6919.15      surf   \n",
      "2            44.0       13314.82      surf   \n",
      "3            53.0       22330.49      surf   \n",
      "4            36.0       18504.30      surf   \n",
      "\n",
      "                                    city  \n",
      "0  Atlanta-Sandy Springs-Roswell, GA MSA  \n",
      "1        Seattle-Tacoma-Bellevue, WA MSA  \n",
      "2        Seattle-Tacoma-Bellevue, WA MSA  \n",
      "3        Seattle-Tacoma-Bellevue, WA MSA  \n",
      "4        Seattle-Tacoma-Bellevue, WA MSA  \n"
     ]
    }
   ],
   "source": [
    "import pandas as pd\n",
    "\n",
    "# Read the data\n",
    "minutes_per_month = pd.read_csv('minutes_per_month.csv')\n",
    "calls_per_month = pd.read_csv('/datasets/megaline_calls.csv')\n",
    "\n",
    "# Convert 'call_date' to datetime\n",
    "calls_per_month['call_date'] = pd.to_datetime(calls_per_month['call_date'])\n",
    "\n",
    "# Extract month and year from 'call_date'\n",
    "calls_per_month['month'] = calls_per_month['call_date'].dt.to_period('M')\n",
    "\n",
    "# Round up the duration to the nearest minute\n",
    "calls_per_month['duration'] = calls_per_month['duration'].apply(lambda x: int(round(x)))\n",
    "\n",
    "# Group by 'user_id' and 'month', and calculate the total minutes spent\n",
    "calls_per_month = calls_per_month.groupby(['user_id', 'month'])['duration'].sum().reset_index(name='total_minutes')\n",
    "\n",
    "# Save the result to a CSV file\n",
    "calls_per_month.to_csv('calls_per_month.csv', index=False)\n",
    "\n",
    "# Convert 'month' column in minutes_per_month to datetime\n",
    "minutes_per_month['month'] = pd.to_datetime(minutes_per_month['month'])\n",
    "\n",
    "# Read the 'megaline_plans.csv' file\n",
    "plans_path = '/datasets/megaline_plans.csv'\n",
    "plans = pd.read_csv(plans_path)\n",
    "\n",
    "# Specify the correct file paths with the '.csv' extension\n",
    "calls_per_month = pd.read_csv('calls_per_month.csv')\n",
    "minutes_per_month = pd.read_csv('minutes_per_month.csv')\n",
    "messages_per_month = pd.read_csv('messages_per_month.csv')\n",
    "internet_traffic_per_month = pd.read_csv('internet_traffic_per_month.csv')\n",
    "\n",
    "# Merge the data for calls, minutes, messages, internet based on user_id and month\n",
    "merged_data = pd.merge(calls_per_month, minutes_per_month, on=['user_id', 'month'], how='outer')\n",
    "merged_data = pd.merge(merged_data, messages_per_month, on=['user_id', 'month'], how='outer')\n",
    "merged_data = pd.merge(merged_data, internet_traffic_per_month, on=['user_id', 'month'], how='outer')\n",
    "\n",
    "# Read the 'megaline_users.csv' file\n",
    "users_path = '/datasets/megaline_users.csv'\n",
    "users = pd.read_csv(users_path)\n",
    "\n",
    "# Merge the user data with merged_data based on 'user_id'\n",
    "merged_data = pd.merge(merged_data, users[['user_id', 'plan']], on='user_id', how='left')\n",
    "merged_data = pd.merge(merged_data, users[['user_id', 'city']], on='user_id', how='left')\n",
    "# Save the merged data to a CSV file\n",
    "merged_data.to_csv('user_consumption_per_month_with_plans_and_users.csv', index=False)\n",
    "\n",
    "print(merged_data.head())\n",
    "\n",
    "\n",
    "\n",
    "\n"
   ]
  },
  {
   "cell_type": "code",
   "execution_count": 27,
   "metadata": {},
   "outputs": [
    {
     "name": "stdout",
     "output_type": "stream",
     "text": [
      "Megaline rounds seconds up to minutes, and megabytes to gigabytes. For calls, each individual call is rounded up: even if the call lasted just one second, it will be counted as one minute. For web traffic, individual web sessions are not rounded up. Instead, the total for the month is rounded up. If someone uses 1025 megabytes this month, they will be charged for 2 gigabytes.\n",
      "\n",
      "Surfs Monthly charge: $20, 500 monthly minutes, 50 texts, and 15 GB of data. After exceeding the package limits: 1 minute: 3 cents, 1 text message: 3 cents, 1 GB of data: $10\n",
      "\n",
      "Ultimates Monthly charge: $70, 3000 monthly minutes, 1000 text messages, and 30 GB of data. After exceeding the package limits: 1 minute: 1 cent, 1 text message: 1 cent, 1 GB of data: $7\n"
     ]
    }
   ],
   "source": [
    "print(\"Megaline rounds seconds up to minutes, and megabytes to gigabytes. For calls, each individual call is rounded up: even if the call lasted just one second, it will be counted as one minute. For web traffic, individual web sessions are not rounded up. Instead, the total for the month is rounded up. If someone uses 1025 megabytes this month, they will be charged for 2 gigabytes.\")\n",
    "print()\n",
    "print(\"Surfs Monthly charge: $20, 500 monthly minutes, 50 texts, and 15 GB of data. After exceeding the package limits: 1 minute: 3 cents, 1 text message: 3 cents, 1 GB of data: $10\")\n",
    "print()\n",
    "print(\"Ultimates Monthly charge: $70, 3000 monthly minutes, 1000 text messages, and 30 GB of data. After exceeding the package limits: 1 minute: 1 cent, 1 text message: 1 cent, 1 GB of data: $7\")# Add the plan information\n",
    "\n"
   ]
  },
  {
   "cell_type": "code",
   "execution_count": 28,
   "metadata": {},
   "outputs": [
    {
     "name": "stdout",
     "output_type": "stream",
     "text": [
      "Index(['user_id', 'month', 'total_minutes_x', 'calls_count', 'total_minutes_y',\n",
      "       'messages_count', 'total_mb_used', 'plan', 'city'],\n",
      "      dtype='object')\n"
     ]
    }
   ],
   "source": [
    "print(merged_data.columns)\n"
   ]
  },
  {
   "cell_type": "code",
   "execution_count": 29,
   "metadata": {},
   "outputs": [
    {
     "name": "stdout",
     "output_type": "stream",
     "text": [
      "      user_id      plan  total_minutes_x  total_minutes_y  messages_count  \\\n",
      "0        1000  ultimate            117.0           116.83            11.0   \n",
      "1        1001      surf            173.0           171.14            30.0   \n",
      "2        1001      surf            297.0           297.69            44.0   \n",
      "3        1001      surf            374.0           374.11            53.0   \n",
      "4        1001      surf            404.0           404.59            36.0   \n",
      "...       ...       ...              ...              ...             ...   \n",
      "2287     1349      surf              NaN              NaN            72.0   \n",
      "2288     1349      surf              NaN              NaN            61.0   \n",
      "2289     1361      surf              NaN              NaN             2.0   \n",
      "2291     1108  ultimate              NaN              NaN             NaN   \n",
      "2292     1311  ultimate              NaN              NaN             NaN   \n",
      "\n",
      "      total_mb_used  monthly_revenue  \n",
      "0           1901.47            70.00  \n",
      "1           6919.15            20.00  \n",
      "2          13314.82            20.00  \n",
      "3          22330.49            90.09  \n",
      "4          18504.30            60.00  \n",
      "...             ...              ...  \n",
      "2287       17128.26            40.66  \n",
      "2288       13039.91            20.33  \n",
      "2289        1519.69            20.00  \n",
      "2291         233.17            70.00  \n",
      "2292        1498.83            70.00  \n",
      "\n",
      "[2277 rows x 7 columns]\n"
     ]
    }
   ],
   "source": [
    "import pandas as pd\n",
    "import math\n",
    "\n",
    "\n",
    "\n",
    "# Define the plan conditions\n",
    "surf_plan_limits = {'minutes': 500, 'messages': 50, 'data_gb': 15}\n",
    "ultimate_plan_limits = {'minutes': 3000, 'messages': 1000, 'data_gb': 30}\n",
    "surf_plan_rates = {'minute_rate': 0.03, 'message_rate': 0.03, 'data_rate': 10}\n",
    "ultimate_plan_rates = {'minute_rate': 0.01, 'message_rate': 0.01, 'data_rate': 7}\n",
    "\n",
    "merged_data = pd.read_csv('user_consumption_per_month_with_plans.csv')\n",
    "\n",
    "# Function to calculate the monthly revenue for each user\n",
    "def calculate_monthly_revenue(row):\n",
    "    if row['plan'] == 'surf':\n",
    "        plan_limits = surf_plan_limits\n",
    "        plan_rates = surf_plan_rates\n",
    "        monthly_charge = 20\n",
    "    elif row['plan'] == 'ultimate':\n",
    "        plan_limits = ultimate_plan_limits\n",
    "        plan_rates = ultimate_plan_rates\n",
    "        monthly_charge = 70\n",
    "    else:\n",
    "        return 0  \n",
    "    # Calculate excess usage for each category\n",
    "    excess_minutes = max(0, row['total_minutes_x'] - plan_limits['minutes'])\n",
    "    excess_minutes = max(0, row['total_minutes_y'] - plan_limits['minutes'])\n",
    "    excess_messages = max(0, row['messages_count'] - plan_limits['messages'])\n",
    "    excess_data_gb = max(0, math.ceil(row['total_mb_used'] / 1024) - plan_limits['data_gb'])\n",
    "   \n",
    "\n",
    "      \n",
    "    # Calculate the total cost for each category\n",
    "    total_cost_minutes = excess_minutes * plan_rates['minute_rate']\n",
    "    total_cost_messages = excess_messages * plan_rates['message_rate']\n",
    "    total_cost_data = excess_data_gb * plan_rates['data_rate']\n",
    "    # Calculate the total monthly revenue\n",
    "    total_monthly_revenue = monthly_charge + total_cost_minutes + total_cost_messages + total_cost_data\n",
    "    return total_monthly_revenue\n",
    "# Apply the function to calculate monthly revenue for each user\n",
    "merged_data = merged_data.dropna(subset=['total_mb_used'])\n",
    "merged_data['monthly_revenue'] = merged_data.apply(calculate_monthly_revenue, axis=1)\n",
    "print(merged_data[['user_id', 'plan', 'total_minutes_x', 'total_minutes_y', 'messages_count', 'total_mb_used', 'monthly_revenue']])# Calculate the monthly revenue for each user\n",
    "\n"
   ]
  },
  {
   "cell_type": "markdown",
   "metadata": {},
   "source": [
    "## Study user behaviour"
   ]
  },
  {
   "cell_type": "markdown",
   "metadata": {},
   "source": [
    "### Calls"
   ]
  },
  {
   "cell_type": "code",
   "execution_count": 30,
   "metadata": {},
   "outputs": [
    {
     "data": {
      "image/png": "[encoded data removed]",
      "text/plain": [
       "<Figure size 864x432 with 1 Axes>"
      ]
     },
     "metadata": {
      "needs_background": "light"
     },
     "output_type": "display_data"
    }
   ],
   "source": [
    "import pandas as pd\n",
    "import matplotlib.pyplot as plt\n",
    "import seaborn as sns\n",
    "merged_data.to_csv('user_consumption_per_month_with_plans.csv', index=False)\n",
    "\n",
    "merged_data = pd.read_csv('user_consumption_per_month_with_plans.csv')\n",
    "\n",
    "# Extract month and year from 'month' column\n",
    "merged_data['month'] = pd.to_datetime(merged_data['month']).dt.to_period('M')\n",
    "\n",
    "# Plotting average call duration per plan per month\n",
    "plt.figure(figsize=(12, 6))\n",
    "sns.barplot(x='month', y='total_minutes_y', hue='plan', data=merged_data, ci=None)\n",
    "plt.title('Average Call Duration per Plan per Month')\n",
    "plt.xlabel('Month')\n",
    "plt.ylabel('Average Call Duration (minutes)')\n",
    "plt.xticks(rotation=45)\n",
    "plt.legend(title='Plan')\n",
    "plt.show() # Compare average duration of calls per each plan per each distinct month. Plot a bar plat to visualize it.\n",
    "\n"
   ]
  },
  {
   "cell_type": "code",
   "execution_count": 31,
   "metadata": {},
   "outputs": [
    {
     "name": "stdout",
     "output_type": "stream",
     "text": [
      "      user_id    month  total_minutes_x  calls_count  total_minutes_y  \\\n",
      "0        1000  2018-12            117.0         16.0           116.83   \n",
      "1        1001  2018-08            173.0         27.0           171.14   \n",
      "2        1001  2018-09            297.0         49.0           297.69   \n",
      "3        1001  2018-10            374.0         65.0           374.11   \n",
      "4        1001  2018-11            404.0         64.0           404.59   \n",
      "...       ...      ...              ...          ...              ...   \n",
      "2272     1349  2018-11              NaN          NaN              NaN   \n",
      "2273     1349  2018-12              NaN          NaN              NaN   \n",
      "2274     1361  2018-05              NaN          NaN              NaN   \n",
      "2275     1108  2018-12              NaN          NaN              NaN   \n",
      "2276     1311  2018-06              NaN          NaN              NaN   \n",
      "\n",
      "      messages_count  total_mb_used      plan  \\\n",
      "0               11.0        1901.47  ultimate   \n",
      "1               30.0        6919.15      surf   \n",
      "2               44.0       13314.82      surf   \n",
      "3               53.0       22330.49      surf   \n",
      "4               36.0       18504.30      surf   \n",
      "...              ...            ...       ...   \n",
      "2272            72.0       17128.26      surf   \n",
      "2273            61.0       13039.91      surf   \n",
      "2274             2.0        1519.69      surf   \n",
      "2275             NaN         233.17  ultimate   \n",
      "2276             NaN        1498.83  ultimate   \n",
      "\n",
      "                                       city  monthly_revenue  \n",
      "0     Atlanta-Sandy Springs-Roswell, GA MSA            70.00  \n",
      "1           Seattle-Tacoma-Bellevue, WA MSA            20.00  \n",
      "2           Seattle-Tacoma-Bellevue, WA MSA            20.00  \n",
      "3           Seattle-Tacoma-Bellevue, WA MSA            90.09  \n",
      "4           Seattle-Tacoma-Bellevue, WA MSA            60.00  \n",
      "...                                     ...              ...  \n",
      "2272     Boston-Cambridge-Newton, MA-NH MSA            40.66  \n",
      "2273     Boston-Cambridge-Newton, MA-NH MSA            20.33  \n",
      "2274              Birmingham-Hoover, AL MSA            20.00  \n",
      "2275                 Salt Lake City, UT MSA            70.00  \n",
      "2276                  Memphis, TN-MS-AR MSA            70.00  \n",
      "\n",
      "[2277 rows x 10 columns]\n"
     ]
    }
   ],
   "source": [
    "print(merged_data)"
   ]
  },
  {
   "cell_type": "code",
   "execution_count": 32,
   "metadata": {},
   "outputs": [
    {
     "data": {
      "image/png": "[encoded data removed]",
      "text/plain": [
       "<Figure size 864x432 with 1 Axes>"
      ]
     },
     "metadata": {
      "needs_background": "light"
     },
     "output_type": "display_data"
    }
   ],
   "source": [
    "# Group by plan and month, calculate total number of minutes\n",
    "total_minutes_per_month = merged_data.groupby(['plan', 'month'])['total_minutes_x'].sum().reset_index()\n",
    "total_minutes_per_month = merged_data.groupby(['plan', 'month'])['total_minutes_x'].sum().reset_index()\n",
    "# Plotting histograms\n",
    "plt.figure(figsize=(12, 6))\n",
    "sns.histplot(data=total_minutes_per_month, x='total_minutes_x', hue='plan', multiple='stack', bins=20)\n",
    "plt.title('Number of Minutes Users Require Each Month')\n",
    "plt.xlabel('Total Minutes')\n",
    "plt.ylabel('Frequency')\n",
    "plt.show() # Compare the number of minutes users of each plan require each month. Plot a histogram.\n",
    "\n"
   ]
  },
  {
   "cell_type": "code",
   "execution_count": 33,
   "metadata": {},
   "outputs": [
    {
     "name": "stdout",
     "output_type": "stream",
     "text": [
      "        plan    month        mean           var\n",
      "0       surf  2018-01  192.840000  14795.440200\n",
      "1       surf  2018-02  280.851111  46959.219961\n",
      "2       surf  2018-03  310.970000  31821.317991\n",
      "3       surf  2018-04  338.337755  44754.277097\n",
      "4       surf  2018-05  389.246757  51125.947609\n",
      "5       surf  2018-06  414.381064  38387.813795\n",
      "6       surf  2018-07  427.553866  53785.668539\n",
      "7       surf  2018-08  398.194679  45639.875302\n",
      "8       surf  2018-09  396.897368  39985.119343\n",
      "9       surf  2018-10  415.871223  44155.661665\n",
      "10      surf  2018-11  408.898000  43239.324999\n",
      "11      surf  2018-12  457.215161  53786.023568\n",
      "12  ultimate  2018-01  183.162500  14991.369958\n",
      "13  ultimate  2018-02  443.171667  48579.581537\n",
      "14  ultimate  2018-03  285.701667  54273.917252\n",
      "15  ultimate  2018-04  316.508095  31057.727496\n",
      "16  ultimate  2018-05  383.664828  39290.610940\n",
      "17  ultimate  2018-06  365.358222  33837.770156\n",
      "18  ultimate  2018-07  403.767288  64844.426958\n",
      "19  ultimate  2018-08  397.274789  47680.189425\n",
      "20  ultimate  2018-09  413.287326  50994.505514\n",
      "21  ultimate  2018-10  429.217238  47081.623851\n",
      "22  ultimate  2018-11  423.814683  53273.637319\n",
      "23  ultimate  2018-12  438.824832  53967.731609\n"
     ]
    }
   ],
   "source": [
    "\n",
    "merged_data.to_csv('user_consumption_per_month_with_plans.csv', index=False)\n",
    "\n",
    "merged_data = pd.read_csv('user_consumption_per_month_with_plans.csv')\n",
    "\n",
    "# Group by plan and month, calculate mean and variance of call duration\n",
    "call_duration_stats = merged_data.groupby(['plan', 'month'])['total_minutes_y'].agg(['mean', 'var']).reset_index()\n",
    "call_duration_stats = merged_data.groupby(['plan', 'month'])['total_minutes_y'].agg(['mean', 'var']).reset_index()\n",
    "\n",
    "# Display the result\n",
    "print(call_duration_stats) # Calculate the mean and the variance of the monthly call duration\n",
    "\n"
   ]
  },
  {
   "cell_type": "code",
   "execution_count": 34,
   "metadata": {},
   "outputs": [
    {
     "data": {
      "image/png": "[encoded data removed]",
      "text/plain": [
       "<Figure size 720x432 with 1 Axes>"
      ]
     },
     "metadata": {
      "needs_background": "light"
     },
     "output_type": "display_data"
    }
   ],
   "source": [
    "\n",
    "\n",
    "merged_data.to_csv('user_consumption_per_month_with_plans.csv', index=False)\n",
    "\n",
    "merged_data = pd.read_csv('user_consumption_per_month_with_plans.csv')\n",
    "\n",
    "# Filter out unknown plans if any\n",
    "merged_data = merged_data[merged_data['plan'].isin(['surf', 'ultimate'])]\n",
    "\n",
    "# Plotting boxplot\n",
    "plt.figure(figsize=(10, 6))\n",
    "sns.boxplot(x='plan', y='total_minutes_y', data=merged_data)\n",
    "plt.title('Distribution of Monthly Call Duration')\n",
    "plt.xlabel('Plan Name')\n",
    "plt.ylabel('Call Duration (minutes)')\n",
    "plt.show() # Plot a boxplot to visualize the distribution of the monthly call duration\n",
    "\n"
   ]
  },
  {
   "cell_type": "markdown",
   "metadata": {},
   "source": [
    "It looks like the plans are similar. the surf plan may have a slightly higher median call duration and it lookes like they have a few outliers that may have helped raise that call duration median. Overall I would say they look pretty close in all duration. "
   ]
  },
  {
   "cell_type": "markdown",
   "metadata": {},
   "source": [
    "### Messages"
   ]
  },
  {
   "cell_type": "code",
   "execution_count": 35,
   "metadata": {},
   "outputs": [
    {
     "data": {
      "image/png": "[encoded data removed]",
      "text/plain": [
       "<Figure size 864x432 with 1 Axes>"
      ]
     },
     "metadata": {
      "needs_background": "light"
     },
     "output_type": "display_data"
    }
   ],
   "source": [
    "\n",
    "\n",
    "merged_data.to_csv('user_consumption_per_month_with_plans.csv', index=False)\n",
    "\n",
    "merged_data = pd.read_csv('user_consumption_per_month_with_plans.csv')\n",
    "\n",
    "# Filter out unknown plans if any\n",
    "merged_data = merged_data[merged_data['plan'].isin(['surf', 'ultimate'])]\n",
    "\n",
    "# Group by plan and month, calculate total number of messages\n",
    "total_messages_per_month = merged_data.groupby(['plan', 'month'])['messages_count'].sum().reset_index()\n",
    "\n",
    "# Plotting bar plot\n",
    "plt.figure(figsize=(12, 6))\n",
    "sns.barplot(x='month', y='messages_count', hue='plan', data=total_messages_per_month)\n",
    "plt.title('Number of Messages Users Send Each Month')\n",
    "plt.xlabel('Month')\n",
    "plt.ylabel('Number of Messages')\n",
    "plt.xticks(rotation=45)\n",
    "plt.show() # Compare the number of messages users of each plan tend to send each month\n",
    "\n"
   ]
  },
  {
   "cell_type": "code",
   "execution_count": 36,
   "metadata": {},
   "outputs": [
    {
     "data": {
      "image/png": "[encoded data removed]",
      "text/plain": [
       "<Figure size 864x432 with 1 Axes>"
      ]
     },
     "metadata": {
      "needs_background": "light"
     },
     "output_type": "display_data"
    }
   ],
   "source": [
    "merged_data.to_csv('user_consumption_per_month_with_plans.csv', index=False)\n",
    "\n",
    "merged_data = pd.read_csv('user_consumption_per_month_with_plans.csv')\n",
    "\n",
    "# Filter out unknown plans if any\n",
    "merged_data = merged_data[merged_data['plan'].isin(['surf', 'ultimate'])]\n",
    "\n",
    "# Group by plan and month, calculate total internet traffic (in GB)\n",
    "total_traffic_per_month = merged_data.groupby(['plan', 'month'])['total_mb_used'].sum().reset_index()\n",
    "total_traffic_per_month['total_gb_used'] = total_traffic_per_month['total_mb_used'] / 1024\n",
    "\n",
    "# Plotting bar plot\n",
    "plt.figure(figsize=(12, 6))\n",
    "sns.barplot(x='month', y='total_gb_used', hue='plan', data=total_traffic_per_month)\n",
    "plt.title('Amount of Internet Traffic Consumed by Users Each Month')\n",
    "plt.xlabel('Month')\n",
    "plt.ylabel('Total Internet Traffic (GB)')\n",
    "plt.xticks(rotation=45)\n",
    "plt.show() # Compare the amount of internet traffic consumed by users per plan\n",
    "\n"
   ]
  },
  {
   "cell_type": "markdown",
   "metadata": {},
   "source": [
    "At first in the beggining of the year the messages seem to be pretty close to the same. But over time the number of messages goes up. Members of the surf plan have significantly higher amount of messages sent than ultimate. Surf has consistently higher message count than ultimate after the second month of the year. The same goes for internet traffic. As the year goes on the number of internet traffic gets bigger. Surf has consistently higher internet traffic than ultimate after the second month of the year. Surf users engage in more messaging and overall internet related activities. "
   ]
  },
  {
   "cell_type": "markdown",
   "metadata": {},
   "source": [
    "### Internet"
   ]
  },
  {
   "cell_type": "code",
   "execution_count": 37,
   "metadata": {},
   "outputs": [
    {
     "data": {
      "image/png": "[encoded data removed]",
      "text/plain": [
       "<Figure size 864x432 with 1 Axes>"
      ]
     },
     "metadata": {
      "needs_background": "light"
     },
     "output_type": "display_data"
    }
   ],
   "source": [
    "\n",
    "merged_data.to_csv('user_consumption_per_month_with_plans.csv', index=False)\n",
    "\n",
    "merged_data = pd.read_csv('user_consumption_per_month_with_plans.csv')\n",
    "\n",
    "# Filter out unknown plans if any\n",
    "merged_data = merged_data[merged_data['plan'].isin(['surf', 'ultimate'])]\n",
    "\n",
    "# Group by plan and month, calculate mean and variance of internet usage (in GB)\n",
    "internet_stats = merged_data.groupby(['plan', 'month'])['total_mb_used'].agg(['mean', 'var']).reset_index()\n",
    "internet_stats['mean_gb'] = internet_stats['mean'] / 1024\n",
    "internet_stats['var_gb'] = internet_stats['var'] / (1024 ** 2)\n",
    "\n",
    "# Plotting bar plot for mean internet usage\n",
    "plt.figure(figsize=(12, 6))\n",
    "sns.barplot(x='month', y='mean_gb', hue='plan', data=internet_stats)\n",
    "plt.title('Average Internet Usage by Users Each Month')\n",
    "plt.xlabel('Month')\n",
    "plt.ylabel('Average Internet Usage (GB)')\n",
    "plt.xticks(rotation=45)\n",
    "plt.show()\n"
   ]
  },
  {
   "cell_type": "code",
   "execution_count": 38,
   "metadata": {},
   "outputs": [
    {
     "data": {
      "image/png": "[encoded data removed]",
      "text/plain": [
       "<Figure size 720x432 with 1 Axes>"
      ]
     },
     "metadata": {
      "needs_background": "light"
     },
     "output_type": "display_data"
    }
   ],
   "source": [
    "merged_data.to_csv('user_consumption_per_month_with_plans.csv', index=False)\n",
    "\n",
    "merged_data = pd.read_csv('user_consumption_per_month_with_plans.csv')\n",
    "\n",
    "# Filter out unknown plans if any\n",
    "merged_data = merged_data[merged_data['plan'].isin(['surf', 'ultimate'])]\n",
    "\n",
    "# Group by plan and month, calculate mean and variance of internet usage (in GB)\n",
    "internet_stats = merged_data.groupby(['plan', 'month'])['total_mb_used'].agg(['mean', 'var']).reset_index()\n",
    "internet_stats['mean_gb'] = internet_stats['mean'] / 1024\n",
    "internet_stats['var_gb'] = internet_stats['var'] / (1024 ** 2)\n",
    "\n",
    "# Plotting boxplot for variance of internet usage\n",
    "plt.figure(figsize=(10, 6))\n",
    "sns.boxplot(x='plan', y='var_gb', data=internet_stats)\n",
    "plt.title('Variance in Internet Usage by Users Each Month')\n",
    "plt.xlabel('Plan Name')\n",
    "plt.ylabel('Variance in Internet Usage (GB)')\n",
    "plt.show()"
   ]
  },
  {
   "cell_type": "markdown",
   "metadata": {},
   "source": [
    "The avg internet usage of both plans consistently goes up as the year goes on. It takes a dip after the third month then starts to go up again until month 6 then it dips again. Then goes up until month 9 where it takes another dip then it fluctuates up down and up for the last 3 months. For most of the year the ultimate plan sees a higher number of internet usage each month. The surf plan has a higher internet usage in month 6 and 7 but the rest of the year ultimate sees a bigger usage. By the start of summer time surf users have a higher avg internet usage but by the end of summer the ultimate plan users go back to consuming more internet usage. It seems that the ultimate plan has a larger variance suggesting greater variability in users internet consumption patterns and more diverse internet usage beahviours. "
   ]
  },
  {
   "cell_type": "markdown",
   "metadata": {},
   "source": [
    "## Revenue"
   ]
  },
  {
   "cell_type": "code",
   "execution_count": 39,
   "metadata": {},
   "outputs": [
    {
     "name": "stdout",
     "output_type": "stream",
     "text": [
      "      user_id    month  total_minutes_x  calls_count  total_minutes_y  \\\n",
      "0        1000  2018-12            117.0         16.0           116.83   \n",
      "1        1001  2018-08            173.0         27.0           171.14   \n",
      "2        1001  2018-09            297.0         49.0           297.69   \n",
      "3        1001  2018-10            374.0         65.0           374.11   \n",
      "4        1001  2018-11            404.0         64.0           404.59   \n",
      "...       ...      ...              ...          ...              ...   \n",
      "2272     1349  2018-11              NaN          NaN              NaN   \n",
      "2273     1349  2018-12              NaN          NaN              NaN   \n",
      "2274     1361  2018-05              NaN          NaN              NaN   \n",
      "2275     1108  2018-12              NaN          NaN              NaN   \n",
      "2276     1311  2018-06              NaN          NaN              NaN   \n",
      "\n",
      "      messages_count  total_mb_used      plan  \\\n",
      "0               11.0        1901.47  ultimate   \n",
      "1               30.0        6919.15      surf   \n",
      "2               44.0       13314.82      surf   \n",
      "3               53.0       22330.49      surf   \n",
      "4               36.0       18504.30      surf   \n",
      "...              ...            ...       ...   \n",
      "2272            72.0       17128.26      surf   \n",
      "2273            61.0       13039.91      surf   \n",
      "2274             2.0        1519.69      surf   \n",
      "2275             NaN         233.17  ultimate   \n",
      "2276             NaN        1498.83  ultimate   \n",
      "\n",
      "                                       city  monthly_revenue  \n",
      "0     Atlanta-Sandy Springs-Roswell, GA MSA            70.00  \n",
      "1           Seattle-Tacoma-Bellevue, WA MSA            20.00  \n",
      "2           Seattle-Tacoma-Bellevue, WA MSA            20.00  \n",
      "3           Seattle-Tacoma-Bellevue, WA MSA            90.09  \n",
      "4           Seattle-Tacoma-Bellevue, WA MSA            60.00  \n",
      "...                                     ...              ...  \n",
      "2272     Boston-Cambridge-Newton, MA-NH MSA            40.66  \n",
      "2273     Boston-Cambridge-Newton, MA-NH MSA            20.33  \n",
      "2274              Birmingham-Hoover, AL MSA            20.00  \n",
      "2275                 Salt Lake City, UT MSA            70.00  \n",
      "2276                  Memphis, TN-MS-AR MSA            70.00  \n",
      "\n",
      "[2277 rows x 10 columns]\n"
     ]
    }
   ],
   "source": [
    "print(merged_data\n",
    "     )"
   ]
  },
  {
   "cell_type": "code",
   "execution_count": 40,
   "metadata": {},
   "outputs": [
    {
     "name": "stdout",
     "output_type": "stream",
     "text": [
      "   messages_included  mb_per_month_included  minutes_included  \\\n",
      "0                 50                  15360               500   \n",
      "1               1000                  30720              3000   \n",
      "\n",
      "   usd_monthly_pay  usd_per_gb  usd_per_message  usd_per_minute plan_name  \n",
      "0               20          10             0.03            0.03      surf  \n",
      "1               70           7             0.01            0.01  ultimate  \n"
     ]
    }
   ],
   "source": [
    "print(plans)\n",
    "\n"
   ]
  },
  {
   "cell_type": "code",
   "execution_count": 41,
   "metadata": {},
   "outputs": [],
   "source": [
    "merged_data = pd.read_csv('user_consumption_per_month_with_plans.csv')\n",
    "\n",
    "# Group by plan and month, calculate total revenue for each plan\n",
    "total_revenue_per_month = merged_data.groupby(['plan', 'month'])['monthly_revenue'].sum().reset_index()"
   ]
  },
  {
   "cell_type": "code",
   "execution_count": 42,
   "metadata": {},
   "outputs": [],
   "source": [
    "# Descriptive statistics\n",
    "revenue_stats = total_revenue_per_month.groupby('plan')['monthly_revenue'].describe()"
   ]
  },
  {
   "cell_type": "code",
   "execution_count": 43,
   "metadata": {},
   "outputs": [
    {
     "name": "stdout",
     "output_type": "stream",
     "text": [
      "          count         mean          std    min         25%         50%  \\\n",
      "plan                                                                       \n",
      "surf       12.0  7880.626983  7249.885342   40.0  1765.34525  6104.34405   \n",
      "ultimate   12.0  4333.000000  3566.874211  280.0  1373.75000  3804.50000   \n",
      "\n",
      "                  75%         max  \n",
      "plan                               \n",
      "surf      12252.92765  22267.7514  \n",
      "ultimate   6545.00000  11067.0000  \n",
      "\n",
      "Independent t-test p-value: 0.1477405758456654\n"
     ]
    }
   ],
   "source": [
    "# Statistical testing (example using t-test)\n",
    "from scipy.stats import ttest_ind\n",
    "\n",
    "surf_revenue = total_revenue_per_month[total_revenue_per_month['plan'] == 'surf']['monthly_revenue']\n",
    "ultimate_revenue = total_revenue_per_month[total_revenue_per_month['plan'] == 'ultimate']['monthly_revenue']\n",
    "\n",
    "t_stat, p_value = ttest_ind(surf_revenue, ultimate_revenue, equal_var=False)\n",
    "\n",
    "# Print the results\n",
    "print(revenue_stats)\n",
    "print(f\"\\nIndependent t-test p-value: {p_value}\")\n"
   ]
  },
  {
   "cell_type": "markdown",
   "metadata": {},
   "source": [
    "On average, users on the 'surf' plan generate higher monthly revenue ($7,510.26) compared to ultimate plan users ($4,326.96). The 'surf' plan exhibits higher revenue variability (larger standard deviation) compared to the 'ultimate' plan. This indicates more diverse spending patterns among 'surf' users. The 25th, 50th (median), and 75th percentiles show that 'surf' users tend to have higher revenue across these points compared to 'ultimate' users. The maximum revenue observed for 'surf' users is notably higher ($21,102.69) than for 'ultimate' users ($11,029.90). "
   ]
  },
  {
   "cell_type": "markdown",
   "metadata": {},
   "source": [
    "## Test statistical hypotheses"
   ]
  },
  {
   "cell_type": "markdown",
   "metadata": {},
   "source": [
    "Question 1:\n",
    "Analysis: On average, users on the 'surf' plan generate higher monthly revenue compared to 'ultimate' users.\n",
    "\n",
    "Hypotheses:\n",
    "\n",
    "Null Hypothesis (H0): There is no significant difference in the average monthly revenue between 'surf' plan users and 'ultimate' plan users.\n",
    "Alternative Hypothesis (H1): The average monthly revenue for 'surf' plan users is significantly higher than that of 'ultimate' plan users.\n",
    "Question 2:\n",
    "Analysis: The 'surf' plan exhibits higher revenue variability (larger standard deviation) compared to the 'ultimate' plan.\n",
    "\n",
    "Hypotheses:\n",
    "\n",
    "Null Hypothesis (H0): There is no significant difference in the revenue variability (standard deviation) between 'surf' plan users and 'ultimate' plan users.\n",
    "Alternative Hypothesis (H1): The 'surf' plan users have a significantly higher revenue variability than 'ultimate' plan users.\n",
    "Question 3:\n",
    "Analysis: The 25th, 50th (median), and 75th percentiles show that 'surf' users tend to have higher revenue across these points compared to 'ultimate' users.\n",
    "\n",
    "Hypotheses:\n",
    "\n",
    "Null Hypothesis (H0): There is no significant difference in the revenue percentiles (25th, 50th, and 75th) between 'surf' plan users and 'ultimate' plan users.\n",
    "Alternative Hypothesis (H1): 'Surf' plan users have significantly higher revenue percentiles (25th, 50th, and 75th) than 'ultimate' plan users.\n",
    "Question 4:\n",
    "Analysis: The maximum revenue observed for 'surf' users is notably higher than that for 'ultimate' users.\n",
    "\n",
    "Hypotheses:\n",
    "\n",
    "Null Hypothesis (H0): There is no significant difference in the maximum revenue between 'surf' plan users and 'ultimate' plan users.\n",
    "Alternative Hypothesis (H1): The maximum revenue for 'surf' plan users is significantly higher than that for 'ultimate' plan users.\n",
    "\n",
    "Choice of st.ttest_rel method for Question 1:\n",
    "The st.ttest_rel method is used for paired samples. In the context of Question 1, we are comparing the average monthly revenue of users on the 'surf' plan with the average monthly revenue of users on the 'ultimate' plan. Since the same users may be present in both plans, it makes sense to use paired samples. The st.ttest_rel method compares the means of two related groups to determine if there is a statistically significant difference between them."
   ]
  },
  {
   "cell_type": "code",
   "execution_count": 44,
   "metadata": {},
   "outputs": [
    {
     "name": "stdout",
     "output_type": "stream",
     "text": [
      "Independent t-test p-value: 0.1477405758456654\n",
      "Fail to reject the null hypothesis. There is no significant evidence that the average revenue differs between Ultimate and Surf plans.\n"
     ]
    }
   ],
   "source": [
    "from scipy.stats import ttest_ind\n",
    "\n",
    "# Extract revenue data for each plan\n",
    "surf_revenue = total_revenue_per_month[total_revenue_per_month['plan'] == 'surf']['monthly_revenue']\n",
    "ultimate_revenue = total_revenue_per_month[total_revenue_per_month['plan'] == 'ultimate']['monthly_revenue']\n",
    "\n",
    "# Perform independent t-test\n",
    "t_stat, p_value = ttest_ind(surf_revenue, ultimate_revenue, equal_var=False)\n",
    "\n",
    "# Print the results\n",
    "print(f\"Independent t-test p-value: {p_value}\")\n",
    "\n",
    "# Check if the p-value is less than the significance level (alpha)\n",
    "alpha = 0.05\n",
    "if p_value < alpha:\n",
    "    print(\"Reject the null hypothesis. There is evidence that the average revenue differs between Ultimate and Surf plans.\")\n",
    "else:\n",
    "    print(\"Fail to reject the null hypothesis. There is no significant evidence that the average revenue differs between Ultimate and Surf plans.\")\n",
    " # Test the hypotheses\n",
    "\n"
   ]
  },
  {
   "cell_type": "markdown",
   "metadata": {},
   "source": [
    "While there are differences in mean revenue and variability between the plans, the independent t-test results indicate that these differences may not be statistically significant. Additional data or a larger sample size may be needed for a more conclusive assessment. The observed patterns suggest that users on the 'surf' plan tend to generate higher revenue, but the results are not conclusive based on the available data."
   ]
  },
  {
   "cell_type": "code",
   "execution_count": 45,
   "metadata": {},
   "outputs": [
    {
     "name": "stdout",
     "output_type": "stream",
     "text": [
      "Independent t-test p-value: nan\n",
      "Fail to reject the null hypothesis. There is no significant evidence that the average revenue differs between users in the NY-NJ area and users from other cities.\n"
     ]
    }
   ],
   "source": [
    "from scipy.stats import ttest_ind\n",
    "\n",
    "# Calculate monthly revenue\n",
    "merged_data['monthly_revenue'] = merged_data.apply(calculate_monthly_revenue, axis=1)\n",
    "\n",
    "# Drop rows with NaN values in the 'monthly_revenue' column\n",
    "merged_data = merged_data.dropna(subset=['monthly_revenue'])\n",
    "\n",
    "# Extract revenue data for NY-NJ area and other cities\n",
    "ny_nj_revenue = merged_data[merged_data['city'] == 'NY-NJ']['monthly_revenue']\n",
    "other_cities_revenue = merged_data[merged_data['city'] != 'NY-NJ']['monthly_revenue']\n",
    "\n",
    "# Perform independent t-test\n",
    "t_stat, p_value = ttest_ind(ny_nj_revenue, other_cities_revenue, equal_var=False)\n",
    "\n",
    "# Print the results\n",
    "print(f\"Independent t-test p-value: {p_value}\")\n",
    "\n",
    "# Check if the p-value is less than the significance level (alpha)\n",
    "alpha = 0.05\n",
    "if p_value < alpha:\n",
    "    print(\"Reject the null hypothesis. There is evidence that the average revenue differs between users in the NY-NJ area and users from other cities.\")\n",
    "else:\n",
    "    print(\"Fail to reject the null hypothesis. There is no significant evidence that the average revenue differs between users in the NY-NJ area and users from other cities.\")\n",
    "\n",
    "\n"
   ]
  },
  {
   "cell_type": "markdown",
   "metadata": {},
   "source": [
    "Based on the results of the independent t-test, it appears that there is no significant evidence to reject the null hypothesis. The p-value obtained from the t-test is NaN, which could be due to issues such as missing or invalid values in the 'monthly_revenue' column. This implies that there is no statistically significant difference in the average revenue between users in the NY-NJ area and users from other cities. In summary, based on the current analysis, there is no evidence to conclude that the average revenue significantly differs between users in the NY-NJ area and users from other cities. I tried to drop the nan values with dropna but I guess it didnt work."
   ]
  },
  {
   "cell_type": "markdown",
   "metadata": {},
   "source": [
    "## General conclusion\n",
    "\n"
   ]
  },
  {
   "cell_type": "markdown",
   "metadata": {},
   "source": [
    "The dataset required cleaning and preprocessing steps, including converting date columns to datetime format, rounding up values according to Megaline's policy, and merging data from different sources. Assumptions were made regarding rounding up call durations and internet traffic usage according to Megaline's policy. Users' monthly consumption of calls, messages, and internet traffic was calculated and merged into a single DataFrame. Total minutes for calls and internet usage, as well as the number of messages sent, were aggregated on a monthly basis for each user. Two main plans, \"Surf\" and \"Ultimate,\" were analyzed to understand users' usage patterns and identify potential differences between the plans. The analysis included comparing the average call duration per plan per month and the total number of minutes users require each month. Monthly revenue from each user was calculated by subtracting the free package limit from the total number of calls, text messages, and data; multiplying the result by the calling plan value; and adding the monthly charge depending on the calling plan. Assumptions were made regarding the additional charges for calls, texts, and data exceeding the plan limits. Visualizations such as bar plots and histograms were used to compare the average call duration per plan per month and the total number of minutes users require each month for different plans. The analysis provided insights into users' consumption patterns, allowing for a comparison between the Surf and Ultimate plans. Monthly revenue calculations helped understand the financial aspects of each plan and identify potential areas for improvement or adjustment. Assumptions regarding data rounding and revenue calculation were crucial in interpreting the results and making informed decisions about the plans' effectiveness and profitability. Overall I would say that the 'surf' plan brings in more revenue than the 'ultimate' plan. "
   ]
  }
 ],
 "metadata": {
  "ExecuteTimeLog": [
   {
    "duration": 828,
    "start_time": "2021-11-16T09:21:11.304Z"
   },
   {
    "duration": 893,
    "start_time": "2021-11-16T09:21:17.728Z"
   },
   {
    "duration": 1150,
    "start_time": "2021-11-16T09:21:29.568Z"
   },
   {
    "duration": 3,
    "start_time": "2021-11-16T09:24:14.495Z"
   },
   {
    "duration": 120,
    "start_time": "2021-11-16T09:24:46.630Z"
   },
   {
    "duration": 3,
    "start_time": "2021-11-16T09:28:27.882Z"
   },
   {
    "duration": 4,
    "start_time": "2021-11-16T09:29:54.281Z"
   },
   {
    "duration": 3,
    "start_time": "2021-11-16T09:30:45.936Z"
   },
   {
    "duration": 4,
    "start_time": "2021-11-16T09:31:06.300Z"
   },
   {
    "duration": 113,
    "start_time": "2021-11-16T09:31:37.208Z"
   },
   {
    "duration": 143,
    "start_time": "2021-11-16T09:31:48.656Z"
   },
   {
    "duration": 98,
    "start_time": "2021-11-16T09:31:55.678Z"
   },
   {
    "duration": 3,
    "start_time": "2021-11-16T09:32:08.535Z"
   },
   {
    "duration": 111,
    "start_time": "2021-11-16T09:32:10.120Z"
   },
   {
    "duration": 3,
    "start_time": "2021-11-16T09:32:15.732Z"
   },
   {
    "duration": 4,
    "start_time": "2021-11-16T09:32:29.423Z"
   },
   {
    "duration": 3,
    "start_time": "2021-11-16T10:03:03.074Z"
   },
   {
    "duration": 3,
    "start_time": "2021-11-16T10:10:01.288Z"
   },
   {
    "duration": 3,
    "start_time": "2021-11-16T10:10:46.923Z"
   },
   {
    "duration": 121,
    "start_time": "2021-11-16T10:37:46.494Z"
   },
   {
    "duration": 125,
    "start_time": "2021-11-16T10:38:20.632Z"
   },
   {
    "duration": 112,
    "start_time": "2021-11-16T10:46:53.001Z"
   },
   {
    "duration": 110,
    "start_time": "2021-11-16T10:48:25.775Z"
   },
   {
    "duration": 3,
    "start_time": "2021-11-16T10:50:18.720Z"
   },
   {
    "duration": 4,
    "start_time": "2021-11-16T10:50:37.649Z"
   },
   {
    "duration": 2,
    "start_time": "2021-11-16T10:50:51.884Z"
   },
   {
    "duration": 3,
    "start_time": "2021-11-16T10:51:56.237Z"
   },
   {
    "duration": 101,
    "start_time": "2021-11-16T10:53:13.791Z"
   },
   {
    "duration": 3,
    "start_time": "2021-11-16T10:55:59.186Z"
   },
   {
    "duration": 3,
    "start_time": "2021-11-16T10:56:10.751Z"
   },
   {
    "duration": 3,
    "start_time": "2021-11-16T10:56:49.038Z"
   },
   {
    "duration": 3,
    "start_time": "2021-11-16T10:56:49.174Z"
   },
   {
    "duration": 4,
    "start_time": "2021-11-16T10:56:49.414Z"
   },
   {
    "duration": 3,
    "start_time": "2021-11-16T10:56:49.680Z"
   },
   {
    "duration": 3,
    "start_time": "2021-11-16T10:56:50.370Z"
   },
   {
    "duration": 114,
    "start_time": "2021-11-16T10:59:34.518Z"
   },
   {
    "duration": 3,
    "start_time": "2021-11-16T11:01:41.201Z"
   },
   {
    "duration": 116,
    "start_time": "2021-11-16T11:01:48.754Z"
   },
   {
    "duration": 3,
    "start_time": "2021-11-16T11:02:16.685Z"
   },
   {
    "duration": 3,
    "start_time": "2021-11-16T11:02:19.479Z"
   },
   {
    "duration": 3,
    "start_time": "2021-11-16T11:02:47.067Z"
   },
   {
    "duration": 3,
    "start_time": "2021-11-16T11:02:49.353Z"
   },
   {
    "duration": 3,
    "start_time": "2021-11-16T11:03:07.835Z"
   },
   {
    "duration": 3,
    "start_time": "2021-11-16T11:03:07.953Z"
   },
   {
    "duration": 112,
    "start_time": "2021-11-16T11:07:52.072Z"
   },
   {
    "duration": 187,
    "start_time": "2021-11-16T11:09:23.468Z"
   },
   {
    "duration": 4,
    "start_time": "2021-11-16T11:10:01.455Z"
   },
   {
    "duration": 3,
    "start_time": "2021-11-16T11:10:05.069Z"
   },
   {
    "duration": 4,
    "start_time": "2021-11-16T11:10:13.376Z"
   },
   {
    "duration": 3,
    "start_time": "2021-11-16T11:10:14.434Z"
   },
   {
    "duration": 3,
    "start_time": "2021-11-16T11:10:22.853Z"
   },
   {
    "duration": 4,
    "start_time": "2021-11-16T11:27:29.279Z"
   },
   {
    "duration": 4,
    "start_time": "2021-11-16T11:29:08.919Z"
   },
   {
    "duration": 118,
    "start_time": "2021-11-16T11:29:46.703Z"
   },
   {
    "duration": 437,
    "start_time": "2021-11-16T11:36:02.181Z"
   },
   {
    "duration": 157,
    "start_time": "2021-11-16T11:36:14.388Z"
   },
   {
    "duration": 207,
    "start_time": "2021-11-16T11:47:15.898Z"
   },
   {
    "duration": 3,
    "start_time": "2021-11-16T11:53:52.092Z"
   },
   {
    "duration": 3,
    "start_time": "2021-11-16T11:53:52.236Z"
   },
   {
    "duration": 3,
    "start_time": "2021-11-16T11:59:12.005Z"
   },
   {
    "duration": 112,
    "start_time": "2021-11-16T12:00:33.446Z"
   },
   {
    "duration": 3,
    "start_time": "2021-11-16T12:02:14.453Z"
   },
   {
    "duration": 3,
    "start_time": "2021-11-16T12:02:39.512Z"
   },
   {
    "duration": 106,
    "start_time": "2021-11-16T12:03:03.460Z"
   },
   {
    "duration": 3,
    "start_time": "2021-11-17T20:37:21.139Z"
   },
   {
    "duration": 3,
    "start_time": "2021-11-17T20:37:22.229Z"
   },
   {
    "duration": 3,
    "start_time": "2021-11-17T20:38:38.806Z"
   },
   {
    "duration": 3,
    "start_time": "2021-11-17T20:38:41.958Z"
   },
   {
    "duration": 3,
    "start_time": "2021-11-17T20:43:46.551Z"
   },
   {
    "duration": 4,
    "start_time": "2021-11-17T20:58:21.835Z"
   },
   {
    "duration": 3,
    "start_time": "2021-11-17T20:59:21.872Z"
   },
   {
    "duration": 4,
    "start_time": "2021-11-17T20:59:45.352Z"
   },
   {
    "duration": 4,
    "start_time": "2021-11-17T20:59:49.646Z"
   },
   {
    "duration": 159,
    "start_time": "2021-11-17T21:02:26.949Z"
   },
   {
    "duration": 3,
    "start_time": "2021-11-17T21:03:53.461Z"
   },
   {
    "duration": 3,
    "start_time": "2021-11-17T21:03:53.694Z"
   },
   {
    "duration": 3,
    "start_time": "2021-11-17T21:05:28.145Z"
   },
   {
    "duration": 116,
    "start_time": "2021-11-17T21:05:57.787Z"
   },
   {
    "duration": 3,
    "start_time": "2021-11-17T21:06:37.993Z"
   },
   {
    "duration": 3,
    "start_time": "2021-11-17T21:06:38.261Z"
   },
   {
    "duration": 3,
    "start_time": "2021-11-17T21:11:54.358Z"
   },
   {
    "duration": 3,
    "start_time": "2021-11-17T21:12:43.846Z"
   },
   {
    "duration": 4,
    "start_time": "2021-11-17T21:13:08.773Z"
   },
   {
    "duration": 3,
    "start_time": "2021-11-17T21:14:44.441Z"
   },
   {
    "duration": 3,
    "start_time": "2021-11-17T21:15:42.059Z"
   },
   {
    "duration": 4,
    "start_time": "2021-11-17T21:15:51.995Z"
   },
   {
    "duration": 3,
    "start_time": "2021-11-17T21:15:53.923Z"
   },
   {
    "duration": 3,
    "start_time": "2021-11-17T21:15:55.282Z"
   },
   {
    "duration": 3,
    "start_time": "2021-11-17T21:16:28.492Z"
   },
   {
    "duration": 3,
    "start_time": "2021-11-17T21:16:32.603Z"
   },
   {
    "duration": 3,
    "start_time": "2021-11-17T21:17:06.941Z"
   },
   {
    "duration": 98,
    "start_time": "2021-11-17T21:18:05.733Z"
   },
   {
    "duration": 4,
    "start_time": "2021-11-17T21:21:35.255Z"
   },
   {
    "duration": 3,
    "start_time": "2021-11-17T21:21:37.804Z"
   },
   {
    "duration": 4,
    "start_time": "2021-11-17T21:23:06.071Z"
   },
   {
    "duration": 3,
    "start_time": "2021-11-17T21:23:24.799Z"
   },
   {
    "duration": 3,
    "start_time": "2021-11-17T21:23:32.591Z"
   },
   {
    "duration": 98,
    "start_time": "2021-11-17T21:28:31.559Z"
   },
   {
    "duration": 3,
    "start_time": "2021-11-17T21:28:45.448Z"
   },
   {
    "duration": 3,
    "start_time": "2021-11-17T21:29:17.303Z"
   },
   {
    "duration": 3,
    "start_time": "2021-11-17T21:29:29.617Z"
   },
   {
    "duration": 3,
    "start_time": "2021-11-17T21:29:32.681Z"
   },
   {
    "duration": 3,
    "start_time": "2021-11-17T21:36:11.474Z"
   },
   {
    "duration": 3,
    "start_time": "2021-11-17T21:36:14.791Z"
   },
   {
    "duration": 3,
    "start_time": "2021-11-17T21:36:53.943Z"
   },
   {
    "duration": 3,
    "start_time": "2021-11-17T21:36:56.165Z"
   },
   {
    "duration": 4,
    "start_time": "2021-11-17T21:37:16.590Z"
   },
   {
    "duration": 3,
    "start_time": "2021-11-17T21:37:22.702Z"
   },
   {
    "duration": 4,
    "start_time": "2021-11-17T21:38:03.479Z"
   },
   {
    "duration": 3,
    "start_time": "2021-11-17T21:38:08.601Z"
   },
   {
    "duration": 3,
    "start_time": "2021-11-17T21:38:12.928Z"
   },
   {
    "duration": 3,
    "start_time": "2021-11-17T21:38:48.896Z"
   },
   {
    "duration": 2,
    "start_time": "2021-11-17T21:38:49.171Z"
   },
   {
    "duration": 4,
    "start_time": "2021-11-17T21:39:57.889Z"
   },
   {
    "duration": 3,
    "start_time": "2021-11-17T21:39:58.057Z"
   },
   {
    "duration": 3,
    "start_time": "2021-11-17T21:41:20.108Z"
   },
   {
    "duration": 3,
    "start_time": "2021-11-17T21:41:20.629Z"
   },
   {
    "duration": 3,
    "start_time": "2021-11-17T21:42:49.136Z"
   },
   {
    "duration": 3,
    "start_time": "2021-11-17T21:43:15.137Z"
   },
   {
    "duration": 4,
    "start_time": "2021-11-17T21:43:16.766Z"
   },
   {
    "duration": 4,
    "start_time": "2021-11-17T21:43:31.711Z"
   },
   {
    "duration": 3,
    "start_time": "2021-11-17T21:43:36.312Z"
   },
   {
    "duration": 4,
    "start_time": "2021-11-17T21:45:08.825Z"
   },
   {
    "duration": 4,
    "start_time": "2021-11-17T21:45:10.119Z"
   },
   {
    "duration": 4,
    "start_time": "2021-11-17T21:45:13.748Z"
   },
   {
    "duration": 3,
    "start_time": "2021-11-17T21:45:22.219Z"
   },
   {
    "duration": 3,
    "start_time": "2021-11-17T21:45:33.412Z"
   },
   {
    "duration": 2,
    "start_time": "2021-11-17T21:46:01.885Z"
   },
   {
    "duration": 3,
    "start_time": "2021-11-17T21:46:03.628Z"
   },
   {
    "duration": 107,
    "start_time": "2021-11-17T21:47:32.512Z"
   },
   {
    "duration": 103,
    "start_time": "2021-11-17T21:50:36.243Z"
   },
   {
    "duration": 3,
    "start_time": "2021-11-18T06:28:31.440Z"
   },
   {
    "duration": 3,
    "start_time": "2021-11-18T06:29:00.168Z"
   },
   {
    "duration": 3,
    "start_time": "2021-11-18T06:31:27.008Z"
   },
   {
    "duration": 2,
    "start_time": "2021-11-18T06:35:34.288Z"
   },
   {
    "duration": 2,
    "start_time": "2021-11-18T06:38:04.527Z"
   }
  ],
  "kernelspec": {
   "display_name": "Python 3 (ipykernel)",
   "language": "python",
   "name": "python3"
  },
  "language_info": {
   "codemirror_mode": {
    "name": "ipython",
    "version": 3
   },
   "file_extension": ".py",
   "mimetype": "text/x-python",
   "name": "python",
   "nbconvert_exporter": "python",
   "pygments_lexer": "ipython3",
   "version": "3.9.19"
  },
  "toc": {
   "base_numbering": 1,
   "nav_menu": {},
   "number_sections": true,
   "sideBar": true,
   "skip_h1_title": false,
   "title_cell": "Table of Contents",
   "title_sidebar": "Contents",
   "toc_cell": false,
   "toc_position": {},
   "toc_section_display": true,
   "toc_window_display": false
  }
 },
 "nbformat": 4,
 "nbformat_minor": 2
}
