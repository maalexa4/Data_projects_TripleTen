{
 "cells": [
  {
   "cell_type": "markdown",
   "id": "09aad72d",
   "metadata": {},
   "source": [
    "# Grocery Insights 2.0: Instacart Data Unveiled "
   ]
  },
  {
   "cell_type": "markdown",
   "id": "501016a9",
   "metadata": {},
   "source": [
    "Instacart lets people order groceries online and have them delivered to their doorsteps. This project is all about understanding how people use Instacart to shop for groceries. We are diving into the data behind Instacart to see what patterns and trends we can find. The data we are using is a modified version of what Instacart shared for a Kaggle competition in 2017. Our goal is to learn interesting things about how people use Instacart. By looking at the data and cleaning it up, we want to figure out what Instacart customers like to buy, when they buy, and any other cool insights we can find. #introduction"
   ]
  },
  {
   "cell_type": "code",
   "execution_count": 1,
   "id": "ad6a1efa",
   "metadata": {},
   "outputs": [],
   "source": [
    "import pandas as pd\n",
    "\n",
    "orders = '/datasets/instacart_orders.csv'\n",
    "\n",
    "df = pd.read_csv(orders, delimiter=';', header=0)#header=0 indicates that the first row contains the column names."
   ]
  },
  {
   "cell_type": "code",
   "execution_count": 2,
   "id": "5130e05e",
   "metadata": {},
   "outputs": [],
   "source": [
    "import pandas as pd\n",
    "\n",
    "products = '/datasets/products.csv'\n",
    "\n",
    "df_products = pd.read_csv(products, delimiter=';', header=0)"
   ]
  },
  {
   "cell_type": "code",
   "execution_count": 3,
   "id": "d8370c05",
   "metadata": {},
   "outputs": [],
   "source": [
    "import pandas as pd\n",
    "\n",
    "aisles = '/datasets/aisles.csv'\n",
    "\n",
    "df_aisles = pd.read_csv(aisles, delimiter=';', header=0)"
   ]
  },
  {
   "cell_type": "code",
   "execution_count": 4,
   "id": "59e2090f",
   "metadata": {},
   "outputs": [],
   "source": [
    "import pandas as pd\n",
    "\n",
    "departments = '/datasets/departments.csv'\n",
    "\n",
    "df_departments = pd.read_csv(departments, delimiter=';', header=0)"
   ]
  },
  {
   "cell_type": "code",
   "execution_count": 5,
   "id": "6fc81694",
   "metadata": {},
   "outputs": [
    {
     "name": "stdout",
     "output_type": "stream",
     "text": [
      "<class 'pandas.core.frame.DataFrame'>\n",
      "RangeIndex: 4545007 entries, 0 to 4545006\n",
      "Data columns (total 4 columns):\n",
      " #   Column             Non-Null Count    Dtype  \n",
      "---  ------             --------------    -----  \n",
      " 0   order_id           4545007 non-null  int64  \n",
      " 1   product_id         4545007 non-null  int64  \n",
      " 2   add_to_cart_order  4544171 non-null  float64\n",
      " 3   reordered          4545007 non-null  int64  \n",
      "dtypes: float64(1), int64(3)\n",
      "memory usage: 138.7 MB\n"
     ]
    }
   ],
   "source": [
    "import pandas as pd\n",
    "\n",
    "order_products = '/datasets/order_products.csv'\n",
    "\n",
    "df_order_products = pd.read_csv(order_products, delimiter=';', header=0)\n",
    "\n",
    "df_order_products.info(show_counts=True)\n"
   ]
  },
  {
   "cell_type": "markdown",
   "id": "07357848-dc64-4156-9cc3-01ff4365226d",
   "metadata": {},
   "source": [
    "## Find and remove duplicate values (and describe why you make your choices)"
   ]
  },
  {
   "cell_type": "markdown",
   "id": "f179f0a9",
   "metadata": {},
   "source": [
    "### `orders` data frame"
   ]
  },
  {
   "cell_type": "code",
   "execution_count": 6,
   "id": "f8b795f3",
   "metadata": {},
   "outputs": [],
   "source": [
    "duplicated_orders = df[df.duplicated(subset='order_id', keep=False)]# Check for duplicated orders\n"
   ]
  },
  {
   "cell_type": "code",
   "execution_count": 7,
   "id": "0d44de5d",
   "metadata": {},
   "outputs": [],
   "source": [
    "wednesday_2am_orders = df[(df['order_dow'] == 2) & (df['order_hour_of_day'] == 2)]# Check for all orders placed Wednesday at 2:00 AM\n"
   ]
  },
  {
   "cell_type": "code",
   "execution_count": 8,
   "id": "480563c7",
   "metadata": {},
   "outputs": [],
   "source": [
    "df_no_duplicates = df.drop_duplicates(subset='order_id')# Remove duplicate orders\n"
   ]
  },
  {
   "cell_type": "code",
   "execution_count": 9,
   "id": "0b2396a2",
   "metadata": {},
   "outputs": [],
   "source": [
    "remaining_duplicates = df_no_duplicates[df_no_duplicates.duplicated()]# Double check for duplicate rows\n"
   ]
  },
  {
   "cell_type": "code",
   "execution_count": 10,
   "id": "f6113ef1",
   "metadata": {},
   "outputs": [],
   "source": [
    "remaining_order_id_duplicates = df[df.duplicated(subset='order_id', keep=False)]# Double check for duplicate order IDs only\n"
   ]
  },
  {
   "cell_type": "markdown",
   "id": "5e8905ae",
   "metadata": {},
   "source": [
    " duplicated orders based on the 'order_id' column the keep=False parameter ensures that all occurrences of duplicated orders are marked as True. To check for all orders placed on Wednesday at 2:00 AM in your DataFrame, you'll need to ensure that the 'order_dow' column represents the day of the week and the 'order_hour_of_day' column represents the hour of the day.The code assumes that 'order_dow' is coded from 0 to 6 (Sunday to Saturday) and 'order_hour_of_day' is coded from 0 to 23. To remove duplicate orders from your DataFrame, you can use the drop_duplicates method. This code creates a new DataFrame df_no_duplicates that contains only the first occurrence of each order (based on the 'order_id'). To double-check for duplicate rows in your DataFrame and ensure that no duplicates remain, you can use the duplicated() method after removing duplicates. This code checks for any remaining duplicates in the DataFrame df_no_duplicates after removing duplicates based on the 'order_id'.If you want to double-check for duplicate order IDs only and ensure that no duplicates remain, you can use the duplicated() method specifically for the 'order_id' column. This code checks for any remaining duplicate order IDs in the DataFrame after removing duplicates based on the 'order_id'\n",
    "\n"
   ]
  },
  {
   "cell_type": "markdown",
   "id": "45e6bc46",
   "metadata": {},
   "source": [
    "### `products` data frame"
   ]
  },
  {
   "cell_type": "code",
   "execution_count": 11,
   "id": "5f526b5b-8175-46fa-a0fd-441767d50e64",
   "metadata": {},
   "outputs": [],
   "source": [
    "duplicate_rows = df_products[df_products.duplicated()]# Check for fully duplicate rows\n"
   ]
  },
  {
   "cell_type": "code",
   "execution_count": 12,
   "id": "88daa4f4",
   "metadata": {},
   "outputs": [],
   "source": [
    "duplicate_product_ids = df_products[df_products.duplicated(subset=['product_id'])]# Check for just duplicate product IDs\n"
   ]
  },
  {
   "cell_type": "code",
   "execution_count": 13,
   "id": "c773f0bf",
   "metadata": {},
   "outputs": [],
   "source": [
    "df_products['product_name_lower'] = df_products['product_name'].str.lower()\n",
    "duplicate_product_names = df_products[df_products['product_name_lower'].duplicated()]\n",
    "# Check for just duplicate product names (convert names to lowercase to compare better)\n"
   ]
  },
  {
   "cell_type": "code",
   "execution_count": 14,
   "id": "01efd02e",
   "metadata": {},
   "outputs": [],
   "source": [
    "df_products_cleaned = df_products.dropna(subset=['product_name']).copy()\n",
    "df_products_cleaned.loc[:, 'product_name_lower'] = df_products_cleaned['product_name'].str.lower()\n",
    "duplicate_product_names = df_products_cleaned[df_products_cleaned['product_name_lower'].duplicated()]# Check for duplicate product names that aren't missing\n"
   ]
  },
  {
   "cell_type": "markdown",
   "id": "9da8d293",
   "metadata": {},
   "source": [
    "To check for fully duplicate rows in your DataFrame and ensure that no duplicates remain, you can use the duplicated() method. This code checks for any remaining fully duplicate rows in the DataFrame df_products. To check for duplicate product IDs in your DataFrame and ensure that no duplicates remain, you can use the duplicated() method specifically for the 'product_id' column. This code checks for any remaining duplicate product IDs in the DataFrame after removing duplicates based on the 'product_id'. To check for duplicate product names (ignoring case) in your DataFrame and ensure that no duplicates remain, you can use the duplicated() method after converting the names to lowercase. This code adds a new column product_name_lower to the DataFrame with the product names converted to lowercase. It then checks for any remaining duplicate product names in the DataFrame after removing duplicates based on the lowercase product names. To check for duplicate product names (ignoring case) that are not missing in your DataFrame and ensure that no duplicates remain, you can use the duplicated() method after converting the names to lowercase and filtering out missing values. This code first drops rows with missing product names and then adds a new column product_name_lower to the DataFrame with the product names converted to lowercase. It then checks for any remaining duplicate product names in the cleaned DataFrame after removing duplicates based on the lowercase product names."
   ]
  },
  {
   "cell_type": "markdown",
   "id": "60f30db1",
   "metadata": {},
   "source": [
    "### `departments` data frame"
   ]
  },
  {
   "cell_type": "code",
   "execution_count": 15,
   "id": "fb410ad4-0fbf-4b80-bb09-23fdea79afe3",
   "metadata": {},
   "outputs": [],
   "source": [
    "remaining_duplicates = df_departments[df_departments.duplicated(keep=False)]"
   ]
  },
  {
   "cell_type": "code",
   "execution_count": 16,
   "id": "332b12bb",
   "metadata": {},
   "outputs": [],
   "source": [
    "tricky_duplicates = df_departments[df_departments.duplicated()]"
   ]
  },
  {
   "cell_type": "markdown",
   "id": "bd30d78e",
   "metadata": {},
   "source": [
    "To check for fully duplicate rows (excluding rows with missing values) in your DataFrame and ensure that no duplicates remain, you can use the duplicated() method with the keep parameter set to False. This code checks for any remaining fully duplicate rows (excluding rows with missing values) in the DataFrame df_departments. \n",
    "To double-check for any other tricky duplicates and thoroughly inspect the data, you can use the duplicated() method without specifying the keep parameter. This will keep the first occurrence of a duplicated row and mark subsequent occurrences as duplicates. This code checks for any tricky duplicates in the DataFrame df_departments by identifying rows that have already appeared."
   ]
  },
  {
   "cell_type": "markdown",
   "id": "889349c1",
   "metadata": {},
   "source": [
    "### `aisles` data frame"
   ]
  },
  {
   "cell_type": "code",
   "execution_count": 17,
   "id": "9da89fb9-4679-40f5-ad0d-c34df753a3f8",
   "metadata": {},
   "outputs": [],
   "source": [
    "remaining_duplicates = df_aisles[df_aisles.duplicated(keep=False)]"
   ]
  },
  {
   "cell_type": "code",
   "execution_count": 18,
   "id": "da7c2822",
   "metadata": {},
   "outputs": [],
   "source": [
    "tricky_duplicates = df_aisles[df_aisles.duplicated()]"
   ]
  },
  {
   "cell_type": "markdown",
   "id": "ac63826f",
   "metadata": {},
   "source": [
    "To check for fully duplicate rows in your DataFrame and ensure that no duplicates remain, you can use the duplicated() method. This code checks for any remaining fully duplicate rows in the DataFrame df_aisles. To double-check for any other tricky duplicates and thoroughly inspect the data, you can use the duplicated() method without specifying the keep parameter. This will keep the first occurrence of a duplicated row and mark subsequent occurrences as duplicates. This code checks for any tricky duplicates in the DataFrame df_aisles by identifying rows that have already appeared."
   ]
  },
  {
   "cell_type": "markdown",
   "id": "274cd06a",
   "metadata": {},
   "source": [
    "### `order_products` data frame"
   ]
  },
  {
   "cell_type": "code",
   "execution_count": 19,
   "id": "52326689-84a8-4b8f-a881-7c68780f62c9",
   "metadata": {},
   "outputs": [],
   "source": [
    "remaining_duplicates = df_order_products[df_order_products.duplicated(keep=False)]# Check for fullly duplicate rows\n"
   ]
  },
  {
   "cell_type": "code",
   "execution_count": 20,
   "id": "7b861391",
   "metadata": {},
   "outputs": [],
   "source": [
    "tricky_duplicates = df_order_products[df_order_products.duplicated()]# Double check for any other tricky duplicates\n"
   ]
  },
  {
   "cell_type": "markdown",
   "id": "0b890492",
   "metadata": {},
   "source": [
    "To check for fully duplicate rows in your DataFrame and ensure that no duplicates remain, you can use the duplicated() method. This code checks for any remaining fully duplicate rows in the DataFrame df_order_products. To double-check for any other tricky duplicates and thoroughly inspect the data, you can use the duplicated() method without specifying the keep parameter. This will keep the first occurrence of a duplicated row and mark subsequent occurrences as duplicates. This code checks for any tricky duplicates in the DataFrame df_order_products by identifying rows that have already appeared."
   ]
  },
  {
   "cell_type": "markdown",
   "id": "1e46de76",
   "metadata": {},
   "source": [
    "## Find and remove missing values\n"
   ]
  },
  {
   "cell_type": "markdown",
   "id": "c0aebd78",
   "metadata": {},
   "source": [
    "### `products` data frame"
   ]
  },
  {
   "cell_type": "code",
   "execution_count": 21,
   "id": "fe4a8b0f",
   "metadata": {},
   "outputs": [],
   "source": [
    "missing_values = df_products.isnull().sum()\n",
    "df_products_cleaned = df_products.dropna()"
   ]
  },
  {
   "cell_type": "code",
   "execution_count": 22,
   "id": "e96167bc",
   "metadata": {},
   "outputs": [],
   "source": [
    "missing_product_names_aisle_100 = df_products[(df_products['product_name'].isnull()) & (df_products['aisle_id'] == 100)]\n",
    "# Are all of the missing product names associated with aisle ID 100?\n"
   ]
  },
  {
   "cell_type": "code",
   "execution_count": 23,
   "id": "8fd0a541",
   "metadata": {},
   "outputs": [],
   "source": [
    "missing_product_names_department_21 = df_products[(df_products['product_name'].isnull()) & (df_products['department_id'] == 21)]# Are all of the missing product names associated with department ID 21?\n"
   ]
  },
  {
   "cell_type": "code",
   "execution_count": 24,
   "id": "325c3464",
   "metadata": {},
   "outputs": [],
   "source": [
    "unique_aisles = df_products['aisle_id'].unique()\n",
    "unique_departments = df_products['department_id'].unique()# What is this ailse and department?\n"
   ]
  },
  {
   "cell_type": "code",
   "execution_count": 25,
   "id": "6b295120",
   "metadata": {},
   "outputs": [],
   "source": [
    "df_products['product_name'] = df_products['product_name'].fillna('Unknown')# Fill missing product names with 'Unknown'\n"
   ]
  },
  {
   "cell_type": "markdown",
   "id": "fc70e5ad",
   "metadata": {},
   "source": [
    "To find and remove missing values from your DataFrame df_products, you can use the dropna() method. This code first identifies columns with missing values and displays the count of missing values for each column. Then, it removes rows containing missing values using the dropna() method, creating a new DataFrame df_products_cleaned. To check if all missing product names are associated with aisle ID 100, you can filter the DataFrame based on the condition where the product names are missing (NaN) and the aisle ID is 100. This code creates a DataFrame missing_product_names_aisle_100 that contains rows where product names are missing, and the aisle ID is 100. To check if all missing product names are associated with department ID 21, you can filter the DataFrame based on the condition where the product names are missing (NaN) and the department ID is 21. This code creates a DataFrame missing_product_names_department_21 that contains rows where product names are missing, and the department ID is 21. To understand the \"aisle\" and \"department\" information in the provided df_products DataFrame, you can inspect the unique values in the \"aisle_id\" and \"department_id\" columns. This will give you an idea of the numerical identifiers and their corresponding categories. Inspecting the unique values in these columns will give you an understanding of the categories and departments to which each product belongs. To fill missing product names with 'Unknown' in your df_products DataFrame, you can use the fillna method. This code fills the missing values in the \"product_name\" column with the string 'Unknown'."
   ]
  },
  {
   "cell_type": "markdown",
   "id": "7eb45c86",
   "metadata": {},
   "source": [
    "### `orders` data frame"
   ]
  },
  {
   "cell_type": "code",
   "execution_count": 26,
   "id": "93e41d96",
   "metadata": {},
   "outputs": [],
   "source": [
    "missing_values = df.isnull().sum()\n",
    "df_cleaned = df.dropna()"
   ]
  },
  {
   "cell_type": "code",
   "execution_count": 27,
   "id": "166e5a86",
   "metadata": {},
   "outputs": [],
   "source": [
    "not_first_order = df[df['order_number'] > 1]\n",
    "missing_values_not_first_order = not_first_order.isnull().sum()# Are there any missing values where it's not a customer's first order?\n"
   ]
  },
  {
   "cell_type": "markdown",
   "id": "4e23d089",
   "metadata": {},
   "source": [
    "To find and remove missing values from your df DataFrame, you can use the dropna() method. This code first identifies columns with missing values and displays the count of missing values for each column. Then, it removes rows containing missing values using the dropna() method, creating a new DataFrame df_cleaned. To check for missing values specifically in rows where it's not a customer's first order, you can filter the DataFrame based on the condition where the 'order_number' is greater than 1, indicating it's not the first order. This code first filters the DataFrame to include only rows where it's not a customer's first order. Then, it identifies columns with missing values in the filtered DataFrame and displays the count of missing values for each column."
   ]
  },
  {
   "cell_type": "markdown",
   "id": "69dc9ca4",
   "metadata": {},
   "source": [
    "### `order_products` data frame"
   ]
  },
  {
   "cell_type": "code",
   "execution_count": 28,
   "id": "b8240253",
   "metadata": {},
   "outputs": [],
   "source": [
    "missing_values = df_order_products.isnull().sum()\n",
    "df_order_products_cleaned = df_order_products.dropna()\n"
   ]
  },
  {
   "cell_type": "code",
   "execution_count": 29,
   "id": "9a78e5ee",
   "metadata": {},
   "outputs": [],
   "source": [
    "min_value = df_order_products['add_to_cart_order'].min()\n",
    "max_value = df_order_products['add_to_cart_order'].max()# What are the min and max values in this column?\n"
   ]
  },
  {
   "cell_type": "code",
   "execution_count": 30,
   "id": "ab9d0c2b",
   "metadata": {},
   "outputs": [],
   "source": [
    "orders_with_missing_values = df_order_products[df_order_products['add_to_cart_order'].isnull()]\n",
    "unique_order_ids_with_missing_values = orders_with_missing_values['order_id'].unique()# Save all order IDs with at least one missing value in 'add_to_cart_order'\n"
   ]
  },
  {
   "cell_type": "code",
   "execution_count": 31,
   "id": "54c31695",
   "metadata": {},
   "outputs": [],
   "source": [
    "orders_with_missing_values = df_order_products[df_order_products['add_to_cart_order'].isnull()]\n",
    "orders_grouped = df_order_products[df_order_products['order_id'].isin(orders_with_missing_values['order_id'])].groupby('order_id')['product_id'].count()\n",
    "all_orders_more_than_64_products = all(orders_grouped > 64)# Do all orders with missing values have more than 64 products?\n",
    "\n"
   ]
  },
  {
   "cell_type": "code",
   "execution_count": 32,
   "id": "7a987d08",
   "metadata": {},
   "outputs": [],
   "source": [
    "df_order_products['add_to_cart_order'] = df_order_products['add_to_cart_order'].fillna(999).astype(int)# Replace missing values with 999 and convert column to integer type\n"
   ]
  },
  {
   "cell_type": "markdown",
   "id": "fea4bcc7",
   "metadata": {},
   "source": [
    "To find and remove missing values from your df_order_products DataFrame, you can use the dropna() method. This code first identifies columns with missing values and displays the count of missing values for each column. Then, it removes rows containing missing values using the dropna() method, creating a new DataFrame df_order_products_cleaned. To find the minimum and maximum values in a specific column of your DataFrame, you can use the min() and max() methods. Run this code, and it will display the minimum and maximum values in the specified column. To save all order IDs with at least one missing value in the 'add_to_cart_order' column, you can filter the DataFrame to include only the rows where there is a missing value in that column and then extract the unique order IDs. This code creates a DataFrame orders_with_missing_values by filtering rows with missing values in the 'add_to_cart_order' column. It then extracts the unique order IDs from that DataFrame. To check if all orders with missing values in the 'add_to_cart_order' column have more than 64 products, you can filter the DataFrame based on the condition of missing values and then check the count of products for each order. This code checks if, for each order with missing values, the count of products (unique product IDs) is greater than 64. The result is a boolean value indicating whether all orders with missing values have more than 64 products. To replace missing values in the 'add_to_cart_order' column with 999 and convert the column to an integer type, you can use the fillna method along with the astype method. This code replaces missing values in the 'add_to_cart_order' column with 999 using fillna(999) and then converts the entire column to an integer type using astype(int)."
   ]
  },
  {
   "cell_type": "markdown",
   "id": "short-capability",
   "metadata": {},
   "source": [
    "### [A1] Verify that the `'order_hour_of_day'` and `'order_dow'` values in the `orders` tables are sensible (i.e. `'order_hour_of_day'` ranges from 0 to 23 and `'order_dow'` ranges from 0 to 6)"
   ]
  },
  {
   "cell_type": "code",
   "execution_count": 33,
   "id": "growing-fruit",
   "metadata": {},
   "outputs": [],
   "source": [
    "valid_order_hour_of_day = all((0 <= df['order_hour_of_day']) & (df['order_hour_of_day'] <= 23))"
   ]
  },
  {
   "cell_type": "code",
   "execution_count": 34,
   "id": "accessory-malaysia",
   "metadata": {},
   "outputs": [],
   "source": [
    "valid_order_dow = all((0 <= df['order_dow']) & (df['order_dow'] <= 6))"
   ]
  },
  {
   "cell_type": "markdown",
   "id": "a6743a70",
   "metadata": {},
   "source": [
    "### [A2] What time of day do people shop for groceries?"
   ]
  },
  {
   "cell_type": "code",
   "execution_count": 35,
   "id": "a36cca27",
   "metadata": {},
   "outputs": [
    {
     "data": {
      "image/png": "[encoded data removed]",
      "text/plain": [
       "<Figure size 720x432 with 1 Axes>"
      ]
     },
     "metadata": {
      "needs_background": "light"
     },
     "output_type": "display_data"
    }
   ],
   "source": [
    "import pandas as pd\n",
    "import matplotlib.pyplot as plt\n",
    "orders = '/datasets/instacart_orders.csv'\n",
    "df = pd.read_csv(orders, delimiter=';', header=0)\n",
    "plt.figure(figsize=(10, 6))\n",
    "plt.hist(df['order_hour_of_day'], bins=24, edgecolor='black', alpha=0.7)\n",
    "plt.title('Distribution of Order Hours for Grocery Shopping')\n",
    "plt.xlabel('Hour of Day')\n",
    "plt.ylabel('Number of Orders')\n",
    "plt.xticks(range(24))\n",
    "plt.grid(axis='y', linestyle='--', alpha=0.7)\n",
    "plt.show()"
   ]
  },
  {
   "cell_type": "markdown",
   "id": "11270eed",
   "metadata": {},
   "source": [
    "To verify that the 'order_hour_of_day' and 'order_dow' values in the 'orders' DataFrame are sensible, you can use boolean conditions to check if the values fall within the expected ranges. This code checks if all 'order_hour_of_day' values are within the range [0, 23] and if all 'order_dow' values are within the range [0, 6]. To analyze what time of day people shop for groceries based on the 'order_hour_of_day' column in the 'orders' DataFrame, you can create a histogram of the order hours. This will give you a distribution of shopping times throughout the day. This code uses Matplotlib to create a histogram with 24 bins (one for each hour of the day) based on the 'order_hour_of_day' column. The x-axis represents the hour of the day, and the y-axis represents the number of orders during each hour."
   ]
  },
  {
   "cell_type": "markdown",
   "id": "documented-command",
   "metadata": {},
   "source": [
    "### [A3] What day of the week do people shop for groceries?"
   ]
  },
  {
   "cell_type": "code",
   "execution_count": 36,
   "id": "chief-digit",
   "metadata": {},
   "outputs": [
    {
     "data": {
      "image/png": "[encoded data removed]",
      "text/plain": [
       "<Figure size 576x432 with 1 Axes>"
      ]
     },
     "metadata": {
      "needs_background": "light"
     },
     "output_type": "display_data"
    }
   ],
   "source": [
    "plt.figure(figsize=(8, 6))\n",
    "plt.hist(df['order_dow'], bins=7, edgecolor='black', alpha=0.7, rwidth=0.8)\n",
    "plt.title('Distribution of Order Days of the Week for Grocery Shopping')\n",
    "plt.xlabel('Day of the Week (0 = Sunday, 1 = Monday, ..., 6 = Saturday)')\n",
    "plt.ylabel('Number of Orders')\n",
    "plt.xticks(range(7), ['Sunday', 'Monday', 'Tuesday', 'Wednesday', 'Thursday', 'Friday', 'Saturday'])\n",
    "plt.grid(axis='y', linestyle='--', alpha=0.7)\n",
    "plt.show()"
   ]
  },
  {
   "cell_type": "markdown",
   "id": "dominant-lightning",
   "metadata": {},
   "source": [
    "To analyze what day of the week people shop for groceries based on the 'order_dow' (day of the week) column in the 'orders' DataFrame, you can create a histogram to visualize the distribution of orders across different days. This code uses Matplotlib to create a histogram with 7 bins (one for each day of the week) based on the 'order_dow' column. The x-axis represents the days of the week, and the y-axis represents the number of orders on each day."
   ]
  },
  {
   "cell_type": "markdown",
   "id": "cutting-concert",
   "metadata": {},
   "source": [
    "### [A4] How long do people wait until placing another order?"
   ]
  },
  {
   "cell_type": "code",
   "execution_count": 37,
   "id": "c231f523",
   "metadata": {},
   "outputs": [
    {
     "data": {
      "image/png": "[encoded data removed]",
      "text/plain": [
       "<Figure size 720x432 with 1 Axes>"
      ]
     },
     "metadata": {
      "needs_background": "light"
     },
     "output_type": "display_data"
    }
   ],
   "source": [
    "plt.figure(figsize=(10, 6))\n",
    "plt.hist(df['days_since_prior_order'].dropna(), bins=30, edgecolor='black', alpha=0.7)\n",
    "plt.title('Distribution of Days Since Prior Order')\n",
    "plt.xlabel('Days Since Prior Order')\n",
    "plt.ylabel('Number of Orders')\n",
    "plt.grid(axis='y', linestyle='--', alpha=0.7)\n",
    "plt.show()"
   ]
  },
  {
   "cell_type": "markdown",
   "id": "discrete-vertex",
   "metadata": {},
   "source": [
    "To analyze how long people wait until placing another order based on the 'days_since_prior_order' column in the 'orders' DataFrame, you can create a histogram to visualize the distribution of days between consecutive orders. This code uses Matplotlib to create a histogram with 30 bins based on the 'days_since_prior_order' column. The x-axis represents the number of days since the prior order, and the y-axis represents the number of orders falling into each bin."
   ]
  },
  {
   "cell_type": "markdown",
   "id": "packed-classic",
   "metadata": {},
   "source": [
    "### [B1] Is there a difference in `'order_hour_of_day'` distributions on Wednesdays and Saturdays? Plot the histograms for both days and describe the differences that you see."
   ]
  },
  {
   "cell_type": "code",
   "execution_count": 38,
   "id": "d89b8403",
   "metadata": {},
   "outputs": [],
   "source": [
    "wednesday_data = df[df['order_dow'] == 3]  # 3 corresponds to Wednesday"
   ]
  },
  {
   "cell_type": "code",
   "execution_count": 39,
   "id": "94e54e8a",
   "metadata": {},
   "outputs": [],
   "source": [
    "saturday_data = df[df['order_dow'] == 5]   # 5 corresponds to Saturday"
   ]
  },
  {
   "cell_type": "code",
   "execution_count": 40,
   "id": "797c90a8",
   "metadata": {},
   "outputs": [
    {
     "data": {
      "image/png": "[encoded data removed]",
      "text/plain": [
       "<Figure size 864x432 with 1 Axes>"
      ]
     },
     "metadata": {
      "needs_background": "light"
     },
     "output_type": "display_data"
    }
   ],
   "source": [
    "plt.figure(figsize=(12, 6))\n",
    "\n",
    "plt.subplot(1, 2, 1)\n",
    "plt.hist(wednesday_data['order_hour_of_day'], bins=24, edgecolor='black', alpha=0.7)\n",
    "plt.title('Order Hour Distribution on Wednesdays')\n",
    "plt.xlabel('Hour of Day')\n",
    "plt.ylabel('Number of Orders')\n",
    "plt.xticks(range(24))\n",
    "plt.grid(axis='y', linestyle='--', alpha=0.7)"
   ]
  },
  {
   "cell_type": "code",
   "execution_count": 41,
   "id": "35bcea30",
   "metadata": {},
   "outputs": [
    {
     "data": {
      "image/png": "[encoded data removed]",
      "text/plain": [
       "<Figure size 432x288 with 1 Axes>"
      ]
     },
     "metadata": {
      "needs_background": "light"
     },
     "output_type": "display_data"
    }
   ],
   "source": [
    "plt.subplot(1, 2, 2)\n",
    "plt.hist(saturday_data['order_hour_of_day'], bins=24, edgecolor='black', alpha=0.7)\n",
    "plt.title('Order Hour Distribution on Saturdays')\n",
    "plt.xlabel('Hour of Day')\n",
    "plt.ylabel('Number of Orders')\n",
    "plt.xticks(range(24))\n",
    "plt.grid(axis='y', linestyle='--', alpha=0.7)"
   ]
  },
  {
   "cell_type": "markdown",
   "id": "charitable-congo",
   "metadata": {},
   "source": [
    "To compare the 'order_hour_of_day' distributions on Wednesdays and Saturdays, you can create separate histograms for each day and visualize them side by side. This code separates the data for Wednesdays and Saturdays and creates side-by-side histograms for the 'order_hour_of_day' distribution on each day."
   ]
  },
  {
   "cell_type": "markdown",
   "id": "e3891143",
   "metadata": {},
   "source": [
    "### [B2] What's the distribution for the number of orders per customer?"
   ]
  },
  {
   "cell_type": "code",
   "execution_count": 42,
   "id": "d8c26c23",
   "metadata": {},
   "outputs": [],
   "source": [
    "orders_path = '/datasets/instacart_orders.csv'\n",
    "df_orders = pd.read_csv(orders_path, delimiter=';', header=0)\n",
    "df_customer_orders = pd.merge(df_orders, df_order_products, on='order_id')\n",
    "customer_order_counts = df_customer_orders.groupby('user_id')['order_id'].nunique()"
   ]
  },
  {
   "cell_type": "code",
   "execution_count": 43,
   "id": "00e69a66",
   "metadata": {},
   "outputs": [
    {
     "data": {
      "image/png": "[encoded data removed]",
      "text/plain": [
       "<Figure size 720x432 with 1 Axes>"
      ]
     },
     "metadata": {
      "needs_background": "light"
     },
     "output_type": "display_data"
    }
   ],
   "source": [
    "plt.figure(figsize=(10, 6))\n",
    "plt.hist(customer_order_counts, bins=range(1, customer_order_counts.max() + 2), edgecolor='black', alpha=0.7)\n",
    "plt.title('Distribution of Number of Orders Per Customer')\n",
    "plt.xlabel('Number of Orders')\n",
    "plt.ylabel('Number of Customers')\n",
    "plt.grid(axis='y', linestyle='--', alpha=0.7)\n",
    "plt.show()"
   ]
  },
  {
   "cell_type": "markdown",
   "id": "d2eff7d5",
   "metadata": {},
   "source": [
    "To analyze the distribution of the number of orders per customer, you can create a histogram showing the frequency of different order counts. This code first merges the 'orders' and 'order_products' DataFrames to obtain customer order information. It then counts the number of unique orders for each customer and creates a histogram based on these counts. "
   ]
  },
  {
   "cell_type": "markdown",
   "id": "54a0319c",
   "metadata": {},
   "source": [
    "### [B3] What are the top 20 popular products (display their id and name)?"
   ]
  },
  {
   "cell_type": "code",
   "execution_count": 44,
   "id": "exterior-arizona",
   "metadata": {
    "scrolled": true
   },
   "outputs": [],
   "source": [
    "df_popular_products = pd.merge(df_order_products, df_products, on='product_id')\n"
   ]
  },
  {
   "cell_type": "code",
   "execution_count": 45,
   "id": "universal-facial",
   "metadata": {},
   "outputs": [],
   "source": [
    "product_counts = df_popular_products['product_name'].value_counts()\n"
   ]
  },
  {
   "cell_type": "code",
   "execution_count": 46,
   "id": "bbcdd20b",
   "metadata": {},
   "outputs": [],
   "source": [
    "top_20_popular_products = product_counts.head(20)"
   ]
  },
  {
   "cell_type": "code",
   "execution_count": 47,
   "id": "a32309bd",
   "metadata": {},
   "outputs": [
    {
     "data": {
      "text/plain": [
       "Banana                      66050\n",
       "Bag of Organic Bananas      53297\n",
       "Organic Strawberries        37039\n",
       "Organic Baby Spinach        33971\n",
       "Organic Hass Avocado        29773\n",
       "Organic Avocado             24689\n",
       "Large Lemon                 21495\n",
       "Strawberries                20018\n",
       "Limes                       19690\n",
       "Organic Whole Milk          19600\n",
       "Organic Raspberries         19197\n",
       "Organic Yellow Onion        15898\n",
       "Organic Garlic              15292\n",
       "Organic Zucchini            14584\n",
       "Organic Blueberries         13879\n",
       "Cucumber Kirby              13675\n",
       "Organic Fuji Apple          12544\n",
       "Organic Lemon               12232\n",
       "Apple Honeycrisp Organic    11993\n",
       "Organic Grape Tomatoes      11781\n",
       "Name: product_name, dtype: int64"
      ]
     },
     "execution_count": 47,
     "metadata": {},
     "output_type": "execute_result"
    }
   ],
   "source": [
    "top_20_popular_products"
   ]
  },
  {
   "cell_type": "markdown",
   "id": "7df00f47",
   "metadata": {},
   "source": [
    "To find the top 20 popular products based on the number of times they appear in orders, you can analyze the 'order_products' DataFrame. This code first merges the 'order_products' and 'products' DataFrames to obtain product information. It then counts the occurrences of each product and retrieves the top 20 popular products based on the count."
   ]
  },
  {
   "cell_type": "markdown",
   "id": "romantic-deposit",
   "metadata": {},
   "source": [
    "### [C1] How many items do people typically buy in one order? What does the distribution look like?"
   ]
  },
  {
   "cell_type": "code",
   "execution_count": 48,
   "id": "virtual-punch",
   "metadata": {},
   "outputs": [],
   "source": [
    "order_products_path = '/datasets/order_products.csv'\n",
    "df_order_products = pd.read_csv(order_products_path, delimiter=';', header=0)\n"
   ]
  },
  {
   "cell_type": "code",
   "execution_count": 49,
   "id": "sensitive-breathing",
   "metadata": {},
   "outputs": [],
   "source": [
    "items_per_order = df_order_products.groupby('order_id')['product_id'].count()\n"
   ]
  },
  {
   "cell_type": "code",
   "execution_count": 50,
   "id": "completed-frank",
   "metadata": {},
   "outputs": [
    {
     "data": {
      "image/png": "[encoded data removed]",
      "text/plain": [
       "<Figure size 720x432 with 1 Axes>"
      ]
     },
     "metadata": {
      "needs_background": "light"
     },
     "output_type": "display_data"
    }
   ],
   "source": [
    "plt.figure(figsize=(10, 6))\n",
    "plt.hist(items_per_order, bins=range(1, items_per_order.max() + 2), edgecolor='black', alpha=0.7)\n",
    "plt.title('Distribution of Number of Items Per Order')\n",
    "plt.xlabel('Number of Items')\n",
    "plt.ylabel('Number of Orders')\n",
    "plt.grid(axis='y', linestyle='--', alpha=0.7)\n",
    "plt.show()"
   ]
  },
  {
   "cell_type": "markdown",
   "id": "designed-mortality",
   "metadata": {},
   "source": [
    "To analyze how many items people typically buy in one order, you can create a histogram showing the distribution of the number of items per order. This code groups the 'order_products' DataFrame by 'order_id' and counts the number of items per order. Then, it creates a histogram based on these counts."
   ]
  },
  {
   "cell_type": "markdown",
   "id": "5e6b5537",
   "metadata": {},
   "source": [
    "### [C2] What are the top 20 items that are reordered most frequently (display their names and product IDs)?"
   ]
  },
  {
   "cell_type": "code",
   "execution_count": 51,
   "id": "9374e55a",
   "metadata": {},
   "outputs": [],
   "source": [
    "import pandas as pd\n",
    "order_products_path = '/datasets/order_products.csv'\n",
    "products_path = '/datasets/products.csv'\n",
    "df_order_products = pd.read_csv(order_products_path, delimiter=';', header=0)\n",
    "df_products = pd.read_csv(products_path, delimiter=';', header=0)\n"
   ]
  },
  {
   "cell_type": "code",
   "execution_count": 52,
   "id": "possible-change",
   "metadata": {
    "scrolled": true
   },
   "outputs": [],
   "source": [
    "df_reordered_products = pd.merge(df_order_products, df_products, on='product_id')\n",
    "reordered_products = df_reordered_products[df_reordered_products['reordered'] == 1]\n",
    "reordered_product_counts = reordered_products['product_name'].value_counts()\n",
    "top_20_reordered_products = reordered_product_counts.head(20)"
   ]
  },
  {
   "cell_type": "code",
   "execution_count": 53,
   "id": "professional-surfing",
   "metadata": {
    "scrolled": true
   },
   "outputs": [
    {
     "name": "stdout",
     "output_type": "stream",
     "text": [
      "Indices of top_20_reordered_products:\n",
      "Index(['Banana', 'Bag of Organic Bananas', 'Organic Strawberries',\n",
      "       'Organic Baby Spinach', 'Organic Hass Avocado', 'Organic Avocado',\n",
      "       'Organic Whole Milk', 'Large Lemon', 'Organic Raspberries',\n",
      "       'Strawberries', 'Limes', 'Organic Yellow Onion', 'Organic Garlic',\n",
      "       'Organic Zucchini', 'Cucumber Kirby', 'Organic Fuji Apple',\n",
      "       'Apple Honeycrisp Organic', 'Organic Blueberries', 'Organic Lemon',\n",
      "       'Organic Half & Half'],\n",
      "      dtype='object')\n",
      "Indices of top_20_reordered_products_info:\n"
     ]
    }
   ],
   "source": [
    "top_20_reordered_products_info = df_products[df_products['product_name'].isin(top_20_reordered_products.index)][['product_id', 'product_name']]\n",
    "print(\"Indices of top_20_reordered_products:\")\n",
    "print(top_20_reordered_products.index)\n",
    "print(\"Indices of top_20_reordered_products_info:\")"
   ]
  },
  {
   "cell_type": "code",
   "execution_count": 54,
   "id": "48dd3658",
   "metadata": {},
   "outputs": [
    {
     "name": "stdout",
     "output_type": "stream",
     "text": [
      "Int64Index([ 5875,  8276, 13175, 16796, 21136, 21902, 22934, 24851, 24963,\n",
      "            26208, 27844, 27965, 28203, 39274, 45006, 47208, 47625, 47765,\n",
      "            49234, 49682],\n",
      "           dtype='int64')\n",
      "Top 20 Reordered Products:\n",
      "                        product_name\n",
      "product_id                          \n",
      "5876                   Organic Lemon\n",
      "8277        Apple Honeycrisp Organic\n",
      "13176         Bag of Organic Bananas\n",
      "16797                   Strawberries\n",
      "21137           Organic Strawberries\n",
      "21903           Organic Baby Spinach\n",
      "22935           Organic Yellow Onion\n",
      "24852                         Banana\n",
      "24964                 Organic Garlic\n",
      "26209                          Limes\n",
      "27845             Organic Whole Milk\n",
      "27966            Organic Raspberries\n",
      "28204             Organic Fuji Apple\n",
      "39275            Organic Blueberries\n",
      "45007               Organic Zucchini\n",
      "47209           Organic Hass Avocado\n",
      "47626                    Large Lemon\n",
      "47766                Organic Avocado\n",
      "49235            Organic Half & Half\n",
      "49683                 Cucumber Kirby\n"
     ]
    }
   ],
   "source": [
    "print(top_20_reordered_products_info.index)\n",
    "top_20_reordered_products_info = top_20_reordered_products_info.set_index('product_id')\n",
    "print(\"Top 20 Reordered Products:\")\n",
    "print(top_20_reordered_products_info)"
   ]
  },
  {
   "cell_type": "markdown",
   "id": "80e70c74",
   "metadata": {},
   "source": [
    "To find the top 20 items that are reordered most frequently, you can analyze the 'order_products' DataFrame and consider the 'reordered' column. This code first merges the 'order_products' and 'products' DataFrames to obtain product information. It then filters the DataFrame to consider only reordered products and counts their occurrences. Finally, it retrieves the top 20 reordered products along with their product IDs."
   ]
  },
  {
   "cell_type": "markdown",
   "id": "9d312b14",
   "metadata": {},
   "source": [
    "### [C3] For each product, what proportion of its orders are reorders?"
   ]
  },
  {
   "cell_type": "code",
   "execution_count": 55,
   "id": "8ae9f4b1",
   "metadata": {},
   "outputs": [],
   "source": [
    "product_reorder_proportion = df_order_products.groupby('product_id')['reordered'].mean()"
   ]
  },
  {
   "cell_type": "code",
   "execution_count": 56,
   "id": "103e7fe1",
   "metadata": {},
   "outputs": [
    {
     "name": "stdout",
     "output_type": "stream",
     "text": [
      "Product ID, Reorder Proportion\n"
     ]
    }
   ],
   "source": [
    "print(\"Product ID, Reorder Proportion\")"
   ]
  },
  {
   "cell_type": "code",
   "execution_count": 57,
   "id": "social-individual",
   "metadata": {},
   "outputs": [
    {
     "name": "stdout",
     "output_type": "stream",
     "text": [
      "product_id\n",
      "1        0.564286\n",
      "2        0.000000\n",
      "3        0.738095\n",
      "4        0.510204\n",
      "7        0.500000\n",
      "           ...   \n",
      "49690    0.800000\n",
      "49691    0.430556\n",
      "49692    0.416667\n",
      "49693    0.440000\n",
      "49694    0.333333\n",
      "Name: reordered, Length: 45573, dtype: float64\n"
     ]
    }
   ],
   "source": [
    "print(product_reorder_proportion)"
   ]
  },
  {
   "cell_type": "markdown",
   "id": "subject-boxing",
   "metadata": {},
   "source": [
    "### [C4] For each customer, what proportion of their products ordered are reorders?"
   ]
  },
  {
   "cell_type": "code",
   "execution_count": 58,
   "id": "medical-couple",
   "metadata": {
    "scrolled": true
   },
   "outputs": [],
   "source": [
    "df_orders = pd.read_csv(orders_path, delimiter=';', header=0)\n",
    "\n",
    "df_customer_orders = pd.merge(df_order_products, df_orders, on='order_id')\n"
   ]
  },
  {
   "cell_type": "code",
   "execution_count": 59,
   "id": "8892e4b4",
   "metadata": {},
   "outputs": [],
   "source": [
    "customer_reorder_proportion = df_customer_orders.groupby('user_id')['reordered'].mean()"
   ]
  },
  {
   "cell_type": "code",
   "execution_count": 60,
   "id": "e7dae1aa",
   "metadata": {},
   "outputs": [
    {
     "data": {
      "text/plain": [
       "user_id\n",
       "2         0.038462\n",
       "4         0.000000\n",
       "5         0.666667\n",
       "6         0.000000\n",
       "7         0.928571\n",
       "            ...   \n",
       "206203    0.222222\n",
       "206206    0.714286\n",
       "206207    0.891304\n",
       "206208    0.696000\n",
       "206209    0.320000\n",
       "Name: reordered, Length: 149626, dtype: float64"
      ]
     },
     "execution_count": 60,
     "metadata": {},
     "output_type": "execute_result"
    }
   ],
   "source": [
    "customer_reorder_proportion"
   ]
  },
  {
   "cell_type": "markdown",
   "id": "92d35137",
   "metadata": {},
   "source": [
    "### [C5] What are the top 20 items that people put in their carts first? "
   ]
  },
  {
   "cell_type": "code",
   "execution_count": 61,
   "id": "0ae57274",
   "metadata": {
    "scrolled": true
   },
   "outputs": [],
   "source": [
    "import pandas as pd\n",
    "order_products_path = '/datasets/order_products.csv'\n",
    "products_path = '/datasets/products.csv'\n"
   ]
  },
  {
   "cell_type": "code",
   "execution_count": 62,
   "id": "forty-netherlands",
   "metadata": {
    "scrolled": true
   },
   "outputs": [],
   "source": [
    "df_order_products = pd.read_csv(order_products_path, delimiter=';', header=0)\n",
    "df_products = pd.read_csv(products_path, delimiter=';', header=0)"
   ]
  },
  {
   "cell_type": "code",
   "execution_count": 63,
   "id": "08e41ec2",
   "metadata": {},
   "outputs": [],
   "source": [
    "df_first_cart_items = pd.merge(df_order_products, df_products, on='product_id')\n",
    "first_cart_items_counts = df_first_cart_items[df_first_cart_items['add_to_cart_order'] == 1]['product_id'].value_counts()\n"
   ]
  },
  {
   "cell_type": "markdown",
   "id": "28ce9872",
   "metadata": {},
   "source": [
    "To find the top 20 items that people put in their carts first, you can analyze the 'order_products' DataFrame and consider the 'add_to_cart_order' column. This code first merges the 'order_products' and 'products' DataFrames to obtain product information. It then filters the DataFrame to consider only items added to the cart first (where 'add_to_cart_order' is 1) and counts their occurrences. Finally, it retrieves the top 20 items added to the cart first along with their product IDs."
   ]
  },
  {
   "cell_type": "code",
   "execution_count": 64,
   "id": "f4a2af09",
   "metadata": {},
   "outputs": [],
   "source": [
    "top_20_first_cart_items_info = df_products[df_products['product_id'].isin(first_cart_items_counts.head(20).index)][['product_id', 'product_name']]"
   ]
  },
  {
   "cell_type": "code",
   "execution_count": 65,
   "id": "d35a96d1",
   "metadata": {},
   "outputs": [
    {
     "name": "stdout",
     "output_type": "stream",
     "text": [
      "Top 20 Items Added to Cart First:\n"
     ]
    }
   ],
   "source": [
    "print(\"Top 20 Items Added to Cart First:\")"
   ]
  },
  {
   "cell_type": "code",
   "execution_count": 66,
   "id": "d1d28ff5",
   "metadata": {},
   "outputs": [
    {
     "name": "stdout",
     "output_type": "stream",
     "text": [
      "       product_id                 product_name\n",
      "195           196                         Soda\n",
      "5784         5785  Organic Reduced Fat 2% Milk\n",
      "12340       12341                Hass Avocados\n",
      "13175       13176       Bag of Organic Bananas\n",
      "16796       16797                 Strawberries\n",
      "19659       19660                 Spring Water\n",
      "21136       21137         Organic Strawberries\n",
      "21902       21903         Organic Baby Spinach\n",
      "22934       22935         Organic Yellow Onion\n",
      "24851       24852                       Banana\n",
      "26208       26209                        Limes\n",
      "27085       27086                  Half & Half\n",
      "27844       27845           Organic Whole Milk\n",
      "27965       27966          Organic Raspberries\n",
      "38688       38689     Organic Reduced Fat Milk\n",
      "44631       44632   Sparkling Water Grapefruit\n",
      "47208       47209         Organic Hass Avocado\n",
      "47625       47626                  Large Lemon\n",
      "47765       47766              Organic Avocado\n",
      "49234       49235          Organic Half & Half\n"
     ]
    }
   ],
   "source": [
    "print(top_20_first_cart_items_info)"
   ]
  }
 ],
 "metadata": {
  "kernelspec": {
   "display_name": "Python 3 (ipykernel)",
   "language": "python",
   "name": "python3"
  },
  "language_info": {
   "codemirror_mode": {
    "name": "ipython",
    "version": 3
   },
   "file_extension": ".py",
   "mimetype": "text/x-python",
   "name": "python",
   "nbconvert_exporter": "python",
   "pygments_lexer": "ipython3",
   "version": "3.9.19"
  },
  "toc": {
   "base_numbering": 1,
   "nav_menu": {},
   "number_sections": true,
   "sideBar": true,
   "skip_h1_title": true,
   "title_cell": "Table of Contents",
   "title_sidebar": "Contents",
   "toc_cell": false,
   "toc_position": {},
   "toc_section_display": true,
   "toc_window_display": false
  },
  "vscode": {
   "interpreter": {
    "hash": "01a7be9ec63e704a62cefc5fe7a4756944464ee731be31632bdf42a4cb4688cf"
   }
  }
 },
 "nbformat": 4,
 "nbformat_minor": 5
}
